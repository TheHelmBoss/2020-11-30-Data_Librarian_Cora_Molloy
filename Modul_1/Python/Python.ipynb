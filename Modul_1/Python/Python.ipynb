{
 "metadata": {
  "language_info": {
   "codemirror_mode": {
    "name": "ipython",
    "version": 3
   },
   "file_extension": ".py",
   "mimetype": "text/x-python",
   "name": "python",
   "nbconvert_exporter": "python",
   "pygments_lexer": "ipython3",
   "version": "3.8.6-final"
  },
  "orig_nbformat": 2,
  "kernelspec": {
   "name": "python3",
   "display_name": "Python 3.8.6 64-bit",
   "metadata": {
    "interpreter": {
     "hash": "4fac973d8b48a5fcf37e7d133428a31fb47ebbd054f5d1feed8c0da486f2af46"
    }
   }
  }
 },
 "nbformat": 4,
 "nbformat_minor": 2,
 "cells": [
  {
   "source": [
    "# Test Jupyter Notebook für Aufgabe zu Python in Modul_1\n",
    "\n",
    "- Infos: https://github.com/konrad/2019-11-26-Data_Librarian_2019_2020/blob/master/Modul_1/Python/Analyse_Seattle_Library_data.ipynb \n",
    "- Hilfen: https://librarycarpentry.org/lc-python-intro/04-built-in/index.html\n",
    "- https://docs.python.org/3/library/ \n",
    "\n",
    "- Python cheatsheet: https://github.com/ehmatthes/pcc/releases/download/v1.0.0/beginners_python_cheat_sheet_pcc_all.pdf\n",
    "- Pandas cheatsheet: https://pandas.pydata.org/Pandas_Cheat_Sheet.pdf\n",
    "\n",
    " "
   ],
   "cell_type": "markdown",
   "metadata": {}
  },
  {
   "source": [
    "import urllib.request\n",
    "url = \"https://data.seattle.gov/resource/tmmm-ytt6.csv?$where=checkoutyear=2018&$limit=10000\"\n",
    "checkout_file = \"checkout.csv\"\n",
    "urllib.request.urlretrieve(url, checkout_file)"
   ],
   "cell_type": "code",
   "metadata": {},
   "execution_count": 3,
   "outputs": [
    {
     "output_type": "execute_result",
     "data": {
      "text/plain": [
       "('checkout.csv', <http.client.HTTPMessage at 0x20ba7e8e070>)"
      ]
     },
     "metadata": {},
     "execution_count": 3
    }
   ]
  },
  {
   "cell_type": "code",
   "execution_count": 4,
   "metadata": {},
   "outputs": [],
   "source": [
    "import pandas as pd"
   ]
  },
  {
   "cell_type": "code",
   "execution_count": 5,
   "metadata": {},
   "outputs": [],
   "source": [
    "checkouts_df = pd.read_csv(checkout_file)"
   ]
  },
  {
   "cell_type": "code",
   "execution_count": 60,
   "metadata": {},
   "outputs": [
    {
     "output_type": "execute_result",
     "data": {
      "text/plain": [
       "     usageclass checkouttype materialtype  checkoutyear  checkoutmonth  \\\n",
       "0      Physical      Horizon         BOOK          2018             12   \n",
       "1      Physical      Horizon         BOOK          2018             12   \n",
       "2      Physical      Horizon    SOUNDDISC          2018             12   \n",
       "3      Physical      Horizon         BOOK          2018             12   \n",
       "4      Physical      Horizon         BOOK          2018             12   \n",
       "...         ...          ...          ...           ...            ...   \n",
       "9995   Physical      Horizon         BOOK          2018             12   \n",
       "9996    Digital    OverDrive        EBOOK          2018             12   \n",
       "9997    Digital    OverDrive        EBOOK          2018             12   \n",
       "9998   Physical      Horizon    VIDEODISC          2018             12   \n",
       "9999   Physical      Horizon         BOOK          2018             12   \n",
       "\n",
       "      checkouts                                              title  \\\n",
       "0             1  The naked lady who stood on her head : a psych...   \n",
       "1             1   The night of the iguana / by Tennessee Williams.   \n",
       "2             1         Tender is the night / F. Scott Fitzgerald.   \n",
       "3             1                Be prepared fishing / Henry Gilbey.   \n",
       "4             1  What Darwin saw : the journey that changed the...   \n",
       "...         ...                                                ...   \n",
       "9995          2              My little polar bear / Claudia Rueda.   \n",
       "9996          1  Love Over Scotland: 44 Scotland Street Series,...   \n",
       "9997          2                                      The India Fan   \n",
       "9998          5  30 Rock. Season 7, the final season / Universa...   \n",
       "9999          1  Michelle Obama : meet the first lady / by Davi...   \n",
       "\n",
       "                                              creator  \\\n",
       "0                                  Small, Gary, 1951-   \n",
       "1                      Williams, Tennessee, 1911-1983   \n",
       "2     Fitzgerald, F. Scott (Francis Scott), 1896-1940   \n",
       "3                                       Gilbey, Henry   \n",
       "4                                   Schanzer, Rosalyn   \n",
       "...                                               ...   \n",
       "9995                                   Rueda, Claudia   \n",
       "9996                           Alexander McCall Smith   \n",
       "9997                                    Victoria Holt   \n",
       "9998                                              NaN   \n",
       "9999                             Brophy, David Bergen   \n",
       "\n",
       "                                               subjects  \\\n",
       "0     Small Gary 1951, Psychiatry Popular works, Psy...   \n",
       "1                                                   NaN   \n",
       "2     Psychiatrists Fiction, Wealth Moral and ethica...   \n",
       "3                                               Fishing   \n",
       "4     Darwin Charles 1809 1882 Juvenile literature, ...   \n",
       "...                                                 ...   \n",
       "9995  Polar bear Juvenile fiction, Bears Juvenile fi...   \n",
       "9996                  Fiction, Humor (Fiction), Mystery   \n",
       "9997     Fiction, Historical Fiction, Romance, Suspense   \n",
       "9998  Rockefeller Center Drama, Television comedy wr...   \n",
       "9999  Obama Michelle 1964 Juvenile literature, Obama...   \n",
       "\n",
       "                                  publisher publicationyear  \n",
       "0                           William Morrow,          [2010]  \n",
       "1                  Dramatists Play Service,          [1991]  \n",
       "2                         Naxos AudioBooks,          [2010]  \n",
       "3                                  DK Pub.,           2008.  \n",
       "4                      National Geographic,          [2009]  \n",
       "...                                     ...             ...  \n",
       "9995                      Scholastic Press,           2009.  \n",
       "9996                     Random House, Inc.            2009  \n",
       "9997                            Sourcebooks            2013  \n",
       "9998  Universal Studios Home Entertainment,          [2013]  \n",
       "9999                               Collins,          [2009]  \n",
       "\n",
       "[10000 rows x 11 columns]"
      ],
      "text/html": "<div>\n<style scoped>\n    .dataframe tbody tr th:only-of-type {\n        vertical-align: middle;\n    }\n\n    .dataframe tbody tr th {\n        vertical-align: top;\n    }\n\n    .dataframe thead th {\n        text-align: right;\n    }\n</style>\n<table border=\"1\" class=\"dataframe\">\n  <thead>\n    <tr style=\"text-align: right;\">\n      <th></th>\n      <th>usageclass</th>\n      <th>checkouttype</th>\n      <th>materialtype</th>\n      <th>checkoutyear</th>\n      <th>checkoutmonth</th>\n      <th>checkouts</th>\n      <th>title</th>\n      <th>creator</th>\n      <th>subjects</th>\n      <th>publisher</th>\n      <th>publicationyear</th>\n    </tr>\n  </thead>\n  <tbody>\n    <tr>\n      <th>0</th>\n      <td>Physical</td>\n      <td>Horizon</td>\n      <td>BOOK</td>\n      <td>2018</td>\n      <td>12</td>\n      <td>1</td>\n      <td>The naked lady who stood on her head : a psych...</td>\n      <td>Small, Gary, 1951-</td>\n      <td>Small Gary 1951, Psychiatry Popular works, Psy...</td>\n      <td>William Morrow,</td>\n      <td>[2010]</td>\n    </tr>\n    <tr>\n      <th>1</th>\n      <td>Physical</td>\n      <td>Horizon</td>\n      <td>BOOK</td>\n      <td>2018</td>\n      <td>12</td>\n      <td>1</td>\n      <td>The night of the iguana / by Tennessee Williams.</td>\n      <td>Williams, Tennessee, 1911-1983</td>\n      <td>NaN</td>\n      <td>Dramatists Play Service,</td>\n      <td>[1991]</td>\n    </tr>\n    <tr>\n      <th>2</th>\n      <td>Physical</td>\n      <td>Horizon</td>\n      <td>SOUNDDISC</td>\n      <td>2018</td>\n      <td>12</td>\n      <td>1</td>\n      <td>Tender is the night / F. Scott Fitzgerald.</td>\n      <td>Fitzgerald, F. Scott (Francis Scott), 1896-1940</td>\n      <td>Psychiatrists Fiction, Wealth Moral and ethica...</td>\n      <td>Naxos AudioBooks,</td>\n      <td>[2010]</td>\n    </tr>\n    <tr>\n      <th>3</th>\n      <td>Physical</td>\n      <td>Horizon</td>\n      <td>BOOK</td>\n      <td>2018</td>\n      <td>12</td>\n      <td>1</td>\n      <td>Be prepared fishing / Henry Gilbey.</td>\n      <td>Gilbey, Henry</td>\n      <td>Fishing</td>\n      <td>DK Pub.,</td>\n      <td>2008.</td>\n    </tr>\n    <tr>\n      <th>4</th>\n      <td>Physical</td>\n      <td>Horizon</td>\n      <td>BOOK</td>\n      <td>2018</td>\n      <td>12</td>\n      <td>1</td>\n      <td>What Darwin saw : the journey that changed the...</td>\n      <td>Schanzer, Rosalyn</td>\n      <td>Darwin Charles 1809 1882 Juvenile literature, ...</td>\n      <td>National Geographic,</td>\n      <td>[2009]</td>\n    </tr>\n    <tr>\n      <th>...</th>\n      <td>...</td>\n      <td>...</td>\n      <td>...</td>\n      <td>...</td>\n      <td>...</td>\n      <td>...</td>\n      <td>...</td>\n      <td>...</td>\n      <td>...</td>\n      <td>...</td>\n      <td>...</td>\n    </tr>\n    <tr>\n      <th>9995</th>\n      <td>Physical</td>\n      <td>Horizon</td>\n      <td>BOOK</td>\n      <td>2018</td>\n      <td>12</td>\n      <td>2</td>\n      <td>My little polar bear / Claudia Rueda.</td>\n      <td>Rueda, Claudia</td>\n      <td>Polar bear Juvenile fiction, Bears Juvenile fi...</td>\n      <td>Scholastic Press,</td>\n      <td>2009.</td>\n    </tr>\n    <tr>\n      <th>9996</th>\n      <td>Digital</td>\n      <td>OverDrive</td>\n      <td>EBOOK</td>\n      <td>2018</td>\n      <td>12</td>\n      <td>1</td>\n      <td>Love Over Scotland: 44 Scotland Street Series,...</td>\n      <td>Alexander McCall Smith</td>\n      <td>Fiction, Humor (Fiction), Mystery</td>\n      <td>Random House, Inc.</td>\n      <td>2009</td>\n    </tr>\n    <tr>\n      <th>9997</th>\n      <td>Digital</td>\n      <td>OverDrive</td>\n      <td>EBOOK</td>\n      <td>2018</td>\n      <td>12</td>\n      <td>2</td>\n      <td>The India Fan</td>\n      <td>Victoria Holt</td>\n      <td>Fiction, Historical Fiction, Romance, Suspense</td>\n      <td>Sourcebooks</td>\n      <td>2013</td>\n    </tr>\n    <tr>\n      <th>9998</th>\n      <td>Physical</td>\n      <td>Horizon</td>\n      <td>VIDEODISC</td>\n      <td>2018</td>\n      <td>12</td>\n      <td>5</td>\n      <td>30 Rock. Season 7, the final season / Universa...</td>\n      <td>NaN</td>\n      <td>Rockefeller Center Drama, Television comedy wr...</td>\n      <td>Universal Studios Home Entertainment,</td>\n      <td>[2013]</td>\n    </tr>\n    <tr>\n      <th>9999</th>\n      <td>Physical</td>\n      <td>Horizon</td>\n      <td>BOOK</td>\n      <td>2018</td>\n      <td>12</td>\n      <td>1</td>\n      <td>Michelle Obama : meet the first lady / by Davi...</td>\n      <td>Brophy, David Bergen</td>\n      <td>Obama Michelle 1964 Juvenile literature, Obama...</td>\n      <td>Collins,</td>\n      <td>[2009]</td>\n    </tr>\n  </tbody>\n</table>\n<p>10000 rows × 11 columns</p>\n</div>"
     },
     "metadata": {},
     "execution_count": 60
    }
   ],
   "source": [
    "checkouts_df"
   ]
  },
  {
   "cell_type": "code",
   "execution_count": 7,
   "metadata": {},
   "outputs": [
    {
     "output_type": "execute_result",
     "data": {
      "text/plain": [
       "(10000, 11)"
      ]
     },
     "metadata": {},
     "execution_count": 7
    }
   ],
   "source": [
    "checkouts_df.shape #Zählt Zeilen und Spalten"
   ]
  },
  {
   "cell_type": "code",
   "execution_count": 8,
   "metadata": {},
   "outputs": [
    {
     "output_type": "execute_result",
     "data": {
      "text/plain": [
       "array([12], dtype=int64)"
      ]
     },
     "metadata": {},
     "execution_count": 8
    }
   ],
   "source": [
    "# Result: Seem like we only have enties from December - maybe need to further increase the data set and then subsample\n",
    "checkouts_df[\"checkoutmonth\"].unique()"
   ]
  },
  {
   "cell_type": "code",
   "execution_count": 9,
   "metadata": {},
   "outputs": [
    {
     "output_type": "execute_result",
     "data": {
      "text/plain": [
       "585"
      ]
     },
     "metadata": {},
     "execution_count": 9
    }
   ],
   "source": [
    "checkouts_df[\"checkouts\"].max()"
   ]
  },
  {
   "cell_type": "code",
   "execution_count": 10,
   "metadata": {},
   "outputs": [
    {
     "output_type": "execute_result",
     "data": {
      "text/plain": [
       "1"
      ]
     },
     "metadata": {},
     "execution_count": 10
    }
   ],
   "source": [
    "checkouts_df[\"checkouts\"].min()"
   ]
  },
  {
   "cell_type": "code",
   "execution_count": 13,
   "metadata": {},
   "outputs": [
    {
     "output_type": "execute_result",
     "data": {
      "text/plain": [
       "2.0"
      ]
     },
     "metadata": {},
     "execution_count": 13
    }
   ],
   "source": [
    "checkouts_df[\"checkouts\"].median()\n",
    "# For odd set of elements, the median value is the middle one.\n",
    "# For even set of elements, the median value is the mean of two middle elements."
   ]
  },
  {
   "cell_type": "code",
   "execution_count": 12,
   "metadata": {},
   "outputs": [
    {
     "output_type": "execute_result",
     "data": {
      "text/plain": [
       "3.4686"
      ]
     },
     "metadata": {},
     "execution_count": 12
    }
   ],
   "source": [
    "checkouts_df[\"checkouts\"].mean()"
   ]
  },
  {
   "cell_type": "code",
   "execution_count": 14,
   "metadata": {},
   "outputs": [
    {
     "output_type": "execute_result",
     "data": {
      "text/plain": [
       "array(['Physical', 'Digital'], dtype=object)"
      ]
     },
     "metadata": {},
     "execution_count": 14
    }
   ],
   "source": [
    "checkouts_df[\"usageclass\"].unique() \n",
    "# Welche Werte gibt es in der Spalte"
   ]
  },
  {
   "cell_type": "code",
   "execution_count": 15,
   "metadata": {},
   "outputs": [
    {
     "output_type": "execute_result",
     "data": {
      "text/plain": [
       "array(['BOOK', 'SOUNDDISC', 'AUDIOBOOK', 'VIDEODISC', 'EBOOK', 'VIDEO',\n",
       "       'MUSIC', 'SOUNDREC', 'ER', 'REGPRINT', 'CR',\n",
       "       'SOUNDDISC, VIDEODISC', 'LARGEPRINT', 'MAGAZINE', 'MIXED',\n",
       "       'ER, SOUNDDISC'], dtype=object)"
      ]
     },
     "metadata": {},
     "execution_count": 15
    }
   ],
   "source": [
    "checkouts_df[\"materialtype\"].unique()"
   ]
  },
  {
   "cell_type": "code",
   "execution_count": 16,
   "metadata": {},
   "outputs": [
    {
     "output_type": "execute_result",
     "data": {
      "text/plain": [
       "     usageclass checkouttype materialtype  checkoutyear  checkoutmonth  \\\n",
       "6       Digital    OverDrive    AUDIOBOOK          2018             12   \n",
       "10      Digital    OverDrive    AUDIOBOOK          2018             12   \n",
       "15      Digital    OverDrive    AUDIOBOOK          2018             12   \n",
       "28      Digital    OverDrive    AUDIOBOOK          2018             12   \n",
       "47      Digital    OverDrive    AUDIOBOOK          2018             12   \n",
       "...         ...          ...          ...           ...            ...   \n",
       "9969    Digital    OverDrive    AUDIOBOOK          2018             12   \n",
       "9973    Digital    OverDrive    AUDIOBOOK          2018             12   \n",
       "9979    Digital    OverDrive    AUDIOBOOK          2018             12   \n",
       "9986    Digital    OverDrive    AUDIOBOOK          2018             12   \n",
       "9988    Digital    OverDrive    AUDIOBOOK          2018             12   \n",
       "\n",
       "      checkouts                                              title  \\\n",
       "6             2                 The Red and the Black (Unabridged)   \n",
       "10            1  Southern Ghost: Death on Demand Series, Book 8...   \n",
       "15           13  The Ghost Map: The Story of London's Most Terr...   \n",
       "28            1  The Invisible: Brokenhearted Series, Book 2 (u...   \n",
       "47            8  Hallelujah Anyway: Rediscovering Mercy (unabri...   \n",
       "...         ...                                                ...   \n",
       "9969         11                      Chasing the Dime (Unabridged)   \n",
       "9973         11  MONEY Master the Game: 7 Simple Steps to Finan...   \n",
       "9979          1                         The Civil War (Unabridged)   \n",
       "9986         20  Fifty Fifty: Detective Harriet Blue Series, Bo...   \n",
       "9988          2  What Hath God Wrought: The Transformation of A...   \n",
       "\n",
       "                 creator                                           subjects  \\\n",
       "6               Stendhal                        Classic Literature, Fiction   \n",
       "10          Carolyn Hart                                   Fiction, Mystery   \n",
       "15        Steven Johnson              History, Medical, Nonfiction, Science   \n",
       "28        Amelia Kahaney  Romance, Young Adult Fiction, Young Adult Lite...   \n",
       "47           Anne Lamott  New Age, Nonfiction, Religion & Spirituality, ...   \n",
       "...                  ...                                                ...   \n",
       "9969    Michael Connelly                                  Fiction, Thriller   \n",
       "9973        Tony Robbins    Business, Finance, Nonfiction, Self-Improvement   \n",
       "9979                 NPR     History, Military, Nonfiction, Performing Arts   \n",
       "9986     James Patterson                         Fiction, Mystery, Thriller   \n",
       "9988  Daniel Walker Howe                                History, Nonfiction   \n",
       "\n",
       "                          publisher publicationyear  \n",
       "6            Blackstone Audio, Inc.            2012  \n",
       "10                    Books on Tape            2012  \n",
       "15                Tantor Media, Inc            2008  \n",
       "28    HarperCollins Publishers Inc.            2014  \n",
       "47                    Books on Tape            2017  \n",
       "...                             ...             ...  \n",
       "9969                 Hachette Audio            2017  \n",
       "9973  Simon & Schuster - Audiobooks            2015  \n",
       "9979             HighBridge Company            2011  \n",
       "9986         Blackstone Audio, Inc.            2018  \n",
       "9988         Blackstone Audio, Inc.            2009  \n",
       "\n",
       "[1029 rows x 11 columns]"
      ],
      "text/html": "<div>\n<style scoped>\n    .dataframe tbody tr th:only-of-type {\n        vertical-align: middle;\n    }\n\n    .dataframe tbody tr th {\n        vertical-align: top;\n    }\n\n    .dataframe thead th {\n        text-align: right;\n    }\n</style>\n<table border=\"1\" class=\"dataframe\">\n  <thead>\n    <tr style=\"text-align: right;\">\n      <th></th>\n      <th>usageclass</th>\n      <th>checkouttype</th>\n      <th>materialtype</th>\n      <th>checkoutyear</th>\n      <th>checkoutmonth</th>\n      <th>checkouts</th>\n      <th>title</th>\n      <th>creator</th>\n      <th>subjects</th>\n      <th>publisher</th>\n      <th>publicationyear</th>\n    </tr>\n  </thead>\n  <tbody>\n    <tr>\n      <th>6</th>\n      <td>Digital</td>\n      <td>OverDrive</td>\n      <td>AUDIOBOOK</td>\n      <td>2018</td>\n      <td>12</td>\n      <td>2</td>\n      <td>The Red and the Black (Unabridged)</td>\n      <td>Stendhal</td>\n      <td>Classic Literature, Fiction</td>\n      <td>Blackstone Audio, Inc.</td>\n      <td>2012</td>\n    </tr>\n    <tr>\n      <th>10</th>\n      <td>Digital</td>\n      <td>OverDrive</td>\n      <td>AUDIOBOOK</td>\n      <td>2018</td>\n      <td>12</td>\n      <td>1</td>\n      <td>Southern Ghost: Death on Demand Series, Book 8...</td>\n      <td>Carolyn Hart</td>\n      <td>Fiction, Mystery</td>\n      <td>Books on Tape</td>\n      <td>2012</td>\n    </tr>\n    <tr>\n      <th>15</th>\n      <td>Digital</td>\n      <td>OverDrive</td>\n      <td>AUDIOBOOK</td>\n      <td>2018</td>\n      <td>12</td>\n      <td>13</td>\n      <td>The Ghost Map: The Story of London's Most Terr...</td>\n      <td>Steven Johnson</td>\n      <td>History, Medical, Nonfiction, Science</td>\n      <td>Tantor Media, Inc</td>\n      <td>2008</td>\n    </tr>\n    <tr>\n      <th>28</th>\n      <td>Digital</td>\n      <td>OverDrive</td>\n      <td>AUDIOBOOK</td>\n      <td>2018</td>\n      <td>12</td>\n      <td>1</td>\n      <td>The Invisible: Brokenhearted Series, Book 2 (u...</td>\n      <td>Amelia Kahaney</td>\n      <td>Romance, Young Adult Fiction, Young Adult Lite...</td>\n      <td>HarperCollins Publishers Inc.</td>\n      <td>2014</td>\n    </tr>\n    <tr>\n      <th>47</th>\n      <td>Digital</td>\n      <td>OverDrive</td>\n      <td>AUDIOBOOK</td>\n      <td>2018</td>\n      <td>12</td>\n      <td>8</td>\n      <td>Hallelujah Anyway: Rediscovering Mercy (unabri...</td>\n      <td>Anne Lamott</td>\n      <td>New Age, Nonfiction, Religion &amp; Spirituality, ...</td>\n      <td>Books on Tape</td>\n      <td>2017</td>\n    </tr>\n    <tr>\n      <th>...</th>\n      <td>...</td>\n      <td>...</td>\n      <td>...</td>\n      <td>...</td>\n      <td>...</td>\n      <td>...</td>\n      <td>...</td>\n      <td>...</td>\n      <td>...</td>\n      <td>...</td>\n      <td>...</td>\n    </tr>\n    <tr>\n      <th>9969</th>\n      <td>Digital</td>\n      <td>OverDrive</td>\n      <td>AUDIOBOOK</td>\n      <td>2018</td>\n      <td>12</td>\n      <td>11</td>\n      <td>Chasing the Dime (Unabridged)</td>\n      <td>Michael Connelly</td>\n      <td>Fiction, Thriller</td>\n      <td>Hachette Audio</td>\n      <td>2017</td>\n    </tr>\n    <tr>\n      <th>9973</th>\n      <td>Digital</td>\n      <td>OverDrive</td>\n      <td>AUDIOBOOK</td>\n      <td>2018</td>\n      <td>12</td>\n      <td>11</td>\n      <td>MONEY Master the Game: 7 Simple Steps to Finan...</td>\n      <td>Tony Robbins</td>\n      <td>Business, Finance, Nonfiction, Self-Improvement</td>\n      <td>Simon &amp; Schuster - Audiobooks</td>\n      <td>2015</td>\n    </tr>\n    <tr>\n      <th>9979</th>\n      <td>Digital</td>\n      <td>OverDrive</td>\n      <td>AUDIOBOOK</td>\n      <td>2018</td>\n      <td>12</td>\n      <td>1</td>\n      <td>The Civil War (Unabridged)</td>\n      <td>NPR</td>\n      <td>History, Military, Nonfiction, Performing Arts</td>\n      <td>HighBridge Company</td>\n      <td>2011</td>\n    </tr>\n    <tr>\n      <th>9986</th>\n      <td>Digital</td>\n      <td>OverDrive</td>\n      <td>AUDIOBOOK</td>\n      <td>2018</td>\n      <td>12</td>\n      <td>20</td>\n      <td>Fifty Fifty: Detective Harriet Blue Series, Bo...</td>\n      <td>James Patterson</td>\n      <td>Fiction, Mystery, Thriller</td>\n      <td>Blackstone Audio, Inc.</td>\n      <td>2018</td>\n    </tr>\n    <tr>\n      <th>9988</th>\n      <td>Digital</td>\n      <td>OverDrive</td>\n      <td>AUDIOBOOK</td>\n      <td>2018</td>\n      <td>12</td>\n      <td>2</td>\n      <td>What Hath God Wrought: The Transformation of A...</td>\n      <td>Daniel Walker Howe</td>\n      <td>History, Nonfiction</td>\n      <td>Blackstone Audio, Inc.</td>\n      <td>2009</td>\n    </tr>\n  </tbody>\n</table>\n<p>1029 rows × 11 columns</p>\n</div>"
     },
     "metadata": {},
     "execution_count": 16
    }
   ],
   "source": [
    "checkouts_df[checkouts_df[\"materialtype\"] == \"AUDIOBOOK\"]\n",
    "# Zeigt mir nur die Spalten, in denen der Wert dem angefragten entspricht"
   ]
  },
  {
   "cell_type": "code",
   "execution_count": 18,
   "metadata": {},
   "outputs": [
    {
     "output_type": "execute_result",
     "data": {
      "text/plain": [
       "(1029, 11)"
      ]
     },
     "metadata": {},
     "execution_count": 18
    }
   ],
   "source": [
    "checkouts_audiobooks_df = checkouts_df[checkouts_df[\"materialtype\"] == \"AUDIOBOOK\"] #schreibt mir die in neues Datenframe\n",
    "checkouts_audiobooks_df.shape #zählt mir Zeilen und Spalten"
   ]
  },
  {
   "cell_type": "code",
   "execution_count": 19,
   "metadata": {},
   "outputs": [],
   "source": [
    "checkouts_audiobooks_df.to_csv(\"checkout_audio_books_only.csv\") # verwandelt meine Datei in csv"
   ]
  },
  {
   "cell_type": "code",
   "execution_count": null,
   "metadata": {},
   "outputs": [],
   "source": [
    "checkouts_audiobooks_df.to_excel(\"checkout_audio_books_only.xlsx\") # verwandelt meine Datei in Excel-Sheet"
   ]
  },
  {
   "cell_type": "code",
   "execution_count": 23,
   "metadata": {},
   "outputs": [
    {
     "output_type": "execute_result",
     "data": {
      "text/plain": [
       "BOOK                    4563\n",
       "EBOOK                   2548\n",
       "AUDIOBOOK               1029\n",
       "SOUNDDISC                883\n",
       "VIDEODISC                882\n",
       "MUSIC                     26\n",
       "REGPRINT                  18\n",
       "SOUNDDISC, VIDEODISC      13\n",
       "ER                         7\n",
       "VIDEO                      6\n",
       "MAGAZINE                   6\n",
       "CR                         6\n",
       "SOUNDREC                   5\n",
       "LARGEPRINT                 4\n",
       "ER, SOUNDDISC              2\n",
       "MIXED                      2\n",
       "Name: materialtype, dtype: int64"
      ]
     },
     "metadata": {},
     "execution_count": 23
    }
   ],
   "source": [
    "checkouts_df[\"materialtype\"].value_counts() #zeigt mir die Werte der Spalte mit Anzahl des Vorkommens an an"
   ]
  },
  {
   "cell_type": "code",
   "execution_count": 56,
   "metadata": {},
   "outputs": [],
   "source": [
    "import matplotlib.pyplot as plt"
   ]
  },
  {
   "cell_type": "code",
   "execution_count": 31,
   "metadata": {},
   "outputs": [
    {
     "output_type": "execute_result",
     "data": {
      "text/plain": [
       "<AxesSubplot:>"
      ]
     },
     "metadata": {},
     "execution_count": 31
    },
    {
     "output_type": "display_data",
     "data": {
      "text/plain": "<Figure size 432x288 with 1 Axes>",
      "image/svg+xml": "<?xml version=\"1.0\" encoding=\"utf-8\" standalone=\"no\"?>\r\n<!DOCTYPE svg PUBLIC \"-//W3C//DTD SVG 1.1//EN\"\r\n  \"http://www.w3.org/Graphics/SVG/1.1/DTD/svg11.dtd\">\r\n<!-- Created with matplotlib (https://matplotlib.org/) -->\r\n<svg height=\"361.560313pt\" version=\"1.1\" viewBox=\"0 0 381.65 361.560313\" width=\"381.65pt\" xmlns=\"http://www.w3.org/2000/svg\" xmlns:xlink=\"http://www.w3.org/1999/xlink\">\r\n <metadata>\r\n  <rdf:RDF xmlns:cc=\"http://creativecommons.org/ns#\" xmlns:dc=\"http://purl.org/dc/elements/1.1/\" xmlns:rdf=\"http://www.w3.org/1999/02/22-rdf-syntax-ns#\">\r\n   <cc:Work>\r\n    <dc:type rdf:resource=\"http://purl.org/dc/dcmitype/StillImage\"/>\r\n    <dc:date>2020-12-14T12:47:54.088139</dc:date>\r\n    <dc:format>image/svg+xml</dc:format>\r\n    <dc:creator>\r\n     <cc:Agent>\r\n      <dc:title>Matplotlib v3.3.3, https://matplotlib.org/</dc:title>\r\n     </cc:Agent>\r\n    </dc:creator>\r\n   </cc:Work>\r\n  </rdf:RDF>\r\n </metadata>\r\n <defs>\r\n  <style type=\"text/css\">*{stroke-linecap:butt;stroke-linejoin:round;}</style>\r\n </defs>\r\n <g id=\"figure_1\">\r\n  <g id=\"patch_1\">\r\n   <path d=\"M -0 361.560313 \r\nL 381.65 361.560313 \r\nL 381.65 0 \r\nL -0 0 \r\nz\r\n\" style=\"fill:none;\"/>\r\n  </g>\r\n  <g id=\"axes_1\">\r\n   <g id=\"patch_2\">\r\n    <path d=\"M 39.65 224.64 \r\nL 374.45 224.64 \r\nL 374.45 7.2 \r\nL 39.65 7.2 \r\nz\r\n\" style=\"fill:#ffffff;\"/>\r\n   </g>\r\n   <g id=\"patch_3\">\r\n    <path clip-path=\"url(#p6c1b5b3bbf)\" d=\"M 44.88125 224.64 \r\nL 55.34375 224.64 \r\nL 55.34375 17.554286 \r\nL 44.88125 17.554286 \r\nz\r\n\" style=\"fill:#1f77b4;\"/>\r\n   </g>\r\n   <g id=\"patch_4\">\r\n    <path clip-path=\"url(#p6c1b5b3bbf)\" d=\"M 65.80625 224.64 \r\nL 76.26875 224.64 \r\nL 76.26875 109.002393 \r\nL 65.80625 109.002393 \r\nz\r\n\" style=\"fill:#1f77b4;\"/>\r\n   </g>\r\n   <g id=\"patch_5\">\r\n    <path clip-path=\"url(#p6c1b5b3bbf)\" d=\"M 86.73125 224.64 \r\nL 97.19375 224.64 \r\nL 97.19375 177.940197 \r\nL 86.73125 177.940197 \r\nz\r\n\" style=\"fill:#1f77b4;\"/>\r\n   </g>\r\n   <g id=\"patch_6\">\r\n    <path clip-path=\"url(#p6c1b5b3bbf)\" d=\"M 107.65625 224.64 \r\nL 118.11875 224.64 \r\nL 118.11875 184.566214 \r\nL 107.65625 184.566214 \r\nz\r\n\" style=\"fill:#1f77b4;\"/>\r\n   </g>\r\n   <g id=\"patch_7\">\r\n    <path clip-path=\"url(#p6c1b5b3bbf)\" d=\"M 128.58125 224.64 \r\nL 139.04375 224.64 \r\nL 139.04375 184.611598 \r\nL 128.58125 184.611598 \r\nz\r\n\" style=\"fill:#1f77b4;\"/>\r\n   </g>\r\n   <g id=\"patch_8\">\r\n    <path clip-path=\"url(#p6c1b5b3bbf)\" d=\"M 149.50625 224.64 \r\nL 159.96875 224.64 \r\nL 159.96875 223.460024 \r\nL 149.50625 223.460024 \r\nz\r\n\" style=\"fill:#1f77b4;\"/>\r\n   </g>\r\n   <g id=\"patch_9\">\r\n    <path clip-path=\"url(#p6c1b5b3bbf)\" d=\"M 170.43125 224.64 \r\nL 180.89375 224.64 \r\nL 180.89375 223.823094 \r\nL 170.43125 223.823094 \r\nz\r\n\" style=\"fill:#1f77b4;\"/>\r\n   </g>\r\n   <g id=\"patch_10\">\r\n    <path clip-path=\"url(#p6c1b5b3bbf)\" d=\"M 191.35625 224.64 \r\nL 201.81875 224.64 \r\nL 201.81875 224.050012 \r\nL 191.35625 224.050012 \r\nz\r\n\" style=\"fill:#1f77b4;\"/>\r\n   </g>\r\n   <g id=\"patch_11\">\r\n    <path clip-path=\"url(#p6c1b5b3bbf)\" d=\"M 212.28125 224.64 \r\nL 222.74375 224.64 \r\nL 222.74375 224.322314 \r\nL 212.28125 224.322314 \r\nz\r\n\" style=\"fill:#1f77b4;\"/>\r\n   </g>\r\n   <g id=\"patch_12\">\r\n    <path clip-path=\"url(#p6c1b5b3bbf)\" d=\"M 233.20625 224.64 \r\nL 243.66875 224.64 \r\nL 243.66875 224.367698 \r\nL 233.20625 224.367698 \r\nz\r\n\" style=\"fill:#1f77b4;\"/>\r\n   </g>\r\n   <g id=\"patch_13\">\r\n    <path clip-path=\"url(#p6c1b5b3bbf)\" d=\"M 254.13125 224.64 \r\nL 264.59375 224.64 \r\nL 264.59375 224.367698 \r\nL 254.13125 224.367698 \r\nz\r\n\" style=\"fill:#1f77b4;\"/>\r\n   </g>\r\n   <g id=\"patch_14\">\r\n    <path clip-path=\"url(#p6c1b5b3bbf)\" d=\"M 275.05625 224.64 \r\nL 285.51875 224.64 \r\nL 285.51875 224.367698 \r\nL 275.05625 224.367698 \r\nz\r\n\" style=\"fill:#1f77b4;\"/>\r\n   </g>\r\n   <g id=\"patch_15\">\r\n    <path clip-path=\"url(#p6c1b5b3bbf)\" d=\"M 295.98125 224.64 \r\nL 306.44375 224.64 \r\nL 306.44375 224.413082 \r\nL 295.98125 224.413082 \r\nz\r\n\" style=\"fill:#1f77b4;\"/>\r\n   </g>\r\n   <g id=\"patch_16\">\r\n    <path clip-path=\"url(#p6c1b5b3bbf)\" d=\"M 316.90625 224.64 \r\nL 327.36875 224.64 \r\nL 327.36875 224.458465 \r\nL 316.90625 224.458465 \r\nz\r\n\" style=\"fill:#1f77b4;\"/>\r\n   </g>\r\n   <g id=\"patch_17\">\r\n    <path clip-path=\"url(#p6c1b5b3bbf)\" d=\"M 337.83125 224.64 \r\nL 348.29375 224.64 \r\nL 348.29375 224.549233 \r\nL 337.83125 224.549233 \r\nz\r\n\" style=\"fill:#1f77b4;\"/>\r\n   </g>\r\n   <g id=\"patch_18\">\r\n    <path clip-path=\"url(#p6c1b5b3bbf)\" d=\"M 358.75625 224.64 \r\nL 369.21875 224.64 \r\nL 369.21875 224.549233 \r\nL 358.75625 224.549233 \r\nz\r\n\" style=\"fill:#1f77b4;\"/>\r\n   </g>\r\n   <g id=\"matplotlib.axis_1\">\r\n    <g id=\"xtick_1\">\r\n     <g id=\"line2d_1\">\r\n      <defs>\r\n       <path d=\"M 0 0 \r\nL 0 3.5 \r\n\" id=\"m546dd7cf0f\" style=\"stroke:#000000;stroke-width:0.8;\"/>\r\n      </defs>\r\n      <g>\r\n       <use style=\"stroke:#000000;stroke-width:0.8;\" x=\"50.1125\" xlink:href=\"#m546dd7cf0f\" y=\"224.64\"/>\r\n      </g>\r\n     </g>\r\n     <g id=\"text_1\">\r\n      <!-- BOOK -->\r\n      <g transform=\"translate(52.871875 260.6275)rotate(-90)scale(0.1 -0.1)\">\r\n       <defs>\r\n        <path d=\"M 19.671875 34.8125 \r\nL 19.671875 8.109375 \r\nL 35.5 8.109375 \r\nQ 43.453125 8.109375 47.28125 11.40625 \r\nQ 51.125 14.703125 51.125 21.484375 \r\nQ 51.125 28.328125 47.28125 31.5625 \r\nQ 43.453125 34.8125 35.5 34.8125 \r\nz\r\nM 19.671875 64.796875 \r\nL 19.671875 42.828125 \r\nL 34.28125 42.828125 \r\nQ 41.5 42.828125 45.03125 45.53125 \r\nQ 48.578125 48.25 48.578125 53.8125 \r\nQ 48.578125 59.328125 45.03125 62.0625 \r\nQ 41.5 64.796875 34.28125 64.796875 \r\nz\r\nM 9.8125 72.90625 \r\nL 35.015625 72.90625 \r\nQ 46.296875 72.90625 52.390625 68.21875 \r\nQ 58.5 63.53125 58.5 54.890625 \r\nQ 58.5 48.1875 55.375 44.234375 \r\nQ 52.25 40.28125 46.1875 39.3125 \r\nQ 53.46875 37.75 57.5 32.78125 \r\nQ 61.53125 27.828125 61.53125 20.40625 \r\nQ 61.53125 10.640625 54.890625 5.3125 \r\nQ 48.25 0 35.984375 0 \r\nL 9.8125 0 \r\nz\r\n\" id=\"DejaVuSans-66\"/>\r\n        <path d=\"M 39.40625 66.21875 \r\nQ 28.65625 66.21875 22.328125 58.203125 \r\nQ 16.015625 50.203125 16.015625 36.375 \r\nQ 16.015625 22.609375 22.328125 14.59375 \r\nQ 28.65625 6.59375 39.40625 6.59375 \r\nQ 50.140625 6.59375 56.421875 14.59375 \r\nQ 62.703125 22.609375 62.703125 36.375 \r\nQ 62.703125 50.203125 56.421875 58.203125 \r\nQ 50.140625 66.21875 39.40625 66.21875 \r\nz\r\nM 39.40625 74.21875 \r\nQ 54.734375 74.21875 63.90625 63.9375 \r\nQ 73.09375 53.65625 73.09375 36.375 \r\nQ 73.09375 19.140625 63.90625 8.859375 \r\nQ 54.734375 -1.421875 39.40625 -1.421875 \r\nQ 24.03125 -1.421875 14.8125 8.828125 \r\nQ 5.609375 19.09375 5.609375 36.375 \r\nQ 5.609375 53.65625 14.8125 63.9375 \r\nQ 24.03125 74.21875 39.40625 74.21875 \r\nz\r\n\" id=\"DejaVuSans-79\"/>\r\n        <path d=\"M 9.8125 72.90625 \r\nL 19.671875 72.90625 \r\nL 19.671875 42.09375 \r\nL 52.390625 72.90625 \r\nL 65.09375 72.90625 \r\nL 28.90625 38.921875 \r\nL 67.671875 0 \r\nL 54.6875 0 \r\nL 19.671875 35.109375 \r\nL 19.671875 0 \r\nL 9.8125 0 \r\nz\r\n\" id=\"DejaVuSans-75\"/>\r\n       </defs>\r\n       <use xlink:href=\"#DejaVuSans-66\"/>\r\n       <use x=\"66.853516\" xlink:href=\"#DejaVuSans-79\"/>\r\n       <use x=\"145.564453\" xlink:href=\"#DejaVuSans-79\"/>\r\n       <use x=\"224.275391\" xlink:href=\"#DejaVuSans-75\"/>\r\n      </g>\r\n     </g>\r\n    </g>\r\n    <g id=\"xtick_2\">\r\n     <g id=\"line2d_2\">\r\n      <g>\r\n       <use style=\"stroke:#000000;stroke-width:0.8;\" x=\"71.0375\" xlink:href=\"#m546dd7cf0f\" y=\"224.64\"/>\r\n      </g>\r\n     </g>\r\n     <g id=\"text_2\">\r\n      <!-- EBOOK -->\r\n      <g transform=\"translate(73.796875 266.94625)rotate(-90)scale(0.1 -0.1)\">\r\n       <defs>\r\n        <path d=\"M 9.8125 72.90625 \r\nL 55.90625 72.90625 \r\nL 55.90625 64.59375 \r\nL 19.671875 64.59375 \r\nL 19.671875 43.015625 \r\nL 54.390625 43.015625 \r\nL 54.390625 34.71875 \r\nL 19.671875 34.71875 \r\nL 19.671875 8.296875 \r\nL 56.78125 8.296875 \r\nL 56.78125 0 \r\nL 9.8125 0 \r\nz\r\n\" id=\"DejaVuSans-69\"/>\r\n       </defs>\r\n       <use xlink:href=\"#DejaVuSans-69\"/>\r\n       <use x=\"63.183594\" xlink:href=\"#DejaVuSans-66\"/>\r\n       <use x=\"130.037109\" xlink:href=\"#DejaVuSans-79\"/>\r\n       <use x=\"208.748047\" xlink:href=\"#DejaVuSans-79\"/>\r\n       <use x=\"287.458984\" xlink:href=\"#DejaVuSans-75\"/>\r\n      </g>\r\n     </g>\r\n    </g>\r\n    <g id=\"xtick_3\">\r\n     <g id=\"line2d_3\">\r\n      <g>\r\n       <use style=\"stroke:#000000;stroke-width:0.8;\" x=\"91.9625\" xlink:href=\"#m546dd7cf0f\" y=\"224.64\"/>\r\n      </g>\r\n     </g>\r\n     <g id=\"text_3\">\r\n      <!-- AUDIOBOOK -->\r\n      <g transform=\"translate(94.721875 293.30875)rotate(-90)scale(0.1 -0.1)\">\r\n       <defs>\r\n        <path d=\"M 34.1875 63.1875 \r\nL 20.796875 26.90625 \r\nL 47.609375 26.90625 \r\nz\r\nM 28.609375 72.90625 \r\nL 39.796875 72.90625 \r\nL 67.578125 0 \r\nL 57.328125 0 \r\nL 50.6875 18.703125 \r\nL 17.828125 18.703125 \r\nL 11.1875 0 \r\nL 0.78125 0 \r\nz\r\n\" id=\"DejaVuSans-65\"/>\r\n        <path d=\"M 8.6875 72.90625 \r\nL 18.609375 72.90625 \r\nL 18.609375 28.609375 \r\nQ 18.609375 16.890625 22.84375 11.734375 \r\nQ 27.09375 6.59375 36.625 6.59375 \r\nQ 46.09375 6.59375 50.34375 11.734375 \r\nQ 54.59375 16.890625 54.59375 28.609375 \r\nL 54.59375 72.90625 \r\nL 64.5 72.90625 \r\nL 64.5 27.390625 \r\nQ 64.5 13.140625 57.4375 5.859375 \r\nQ 50.390625 -1.421875 36.625 -1.421875 \r\nQ 22.796875 -1.421875 15.734375 5.859375 \r\nQ 8.6875 13.140625 8.6875 27.390625 \r\nz\r\n\" id=\"DejaVuSans-85\"/>\r\n        <path d=\"M 19.671875 64.796875 \r\nL 19.671875 8.109375 \r\nL 31.59375 8.109375 \r\nQ 46.6875 8.109375 53.6875 14.9375 \r\nQ 60.6875 21.78125 60.6875 36.53125 \r\nQ 60.6875 51.171875 53.6875 57.984375 \r\nQ 46.6875 64.796875 31.59375 64.796875 \r\nz\r\nM 9.8125 72.90625 \r\nL 30.078125 72.90625 \r\nQ 51.265625 72.90625 61.171875 64.09375 \r\nQ 71.09375 55.28125 71.09375 36.53125 \r\nQ 71.09375 17.671875 61.125 8.828125 \r\nQ 51.171875 0 30.078125 0 \r\nL 9.8125 0 \r\nz\r\n\" id=\"DejaVuSans-68\"/>\r\n        <path d=\"M 9.8125 72.90625 \r\nL 19.671875 72.90625 \r\nL 19.671875 0 \r\nL 9.8125 0 \r\nz\r\n\" id=\"DejaVuSans-73\"/>\r\n       </defs>\r\n       <use xlink:href=\"#DejaVuSans-65\"/>\r\n       <use x=\"68.408203\" xlink:href=\"#DejaVuSans-85\"/>\r\n       <use x=\"141.601562\" xlink:href=\"#DejaVuSans-68\"/>\r\n       <use x=\"218.603516\" xlink:href=\"#DejaVuSans-73\"/>\r\n       <use x=\"248.095703\" xlink:href=\"#DejaVuSans-79\"/>\r\n       <use x=\"326.806641\" xlink:href=\"#DejaVuSans-66\"/>\r\n       <use x=\"393.660156\" xlink:href=\"#DejaVuSans-79\"/>\r\n       <use x=\"472.371094\" xlink:href=\"#DejaVuSans-79\"/>\r\n       <use x=\"551.082031\" xlink:href=\"#DejaVuSans-75\"/>\r\n      </g>\r\n     </g>\r\n    </g>\r\n    <g id=\"xtick_4\">\r\n     <g id=\"line2d_4\">\r\n      <g>\r\n       <use style=\"stroke:#000000;stroke-width:0.8;\" x=\"112.8875\" xlink:href=\"#m546dd7cf0f\" y=\"224.64\"/>\r\n      </g>\r\n     </g>\r\n     <g id=\"text_4\">\r\n      <!-- SOUNDDISC -->\r\n      <g transform=\"translate(115.646875 292.341563)rotate(-90)scale(0.1 -0.1)\">\r\n       <defs>\r\n        <path d=\"M 53.515625 70.515625 \r\nL 53.515625 60.890625 \r\nQ 47.90625 63.578125 42.921875 64.890625 \r\nQ 37.9375 66.21875 33.296875 66.21875 \r\nQ 25.25 66.21875 20.875 63.09375 \r\nQ 16.5 59.96875 16.5 54.203125 \r\nQ 16.5 49.359375 19.40625 46.890625 \r\nQ 22.3125 44.4375 30.421875 42.921875 \r\nL 36.375 41.703125 \r\nQ 47.40625 39.59375 52.65625 34.296875 \r\nQ 57.90625 29 57.90625 20.125 \r\nQ 57.90625 9.515625 50.796875 4.046875 \r\nQ 43.703125 -1.421875 29.984375 -1.421875 \r\nQ 24.8125 -1.421875 18.96875 -0.25 \r\nQ 13.140625 0.921875 6.890625 3.21875 \r\nL 6.890625 13.375 \r\nQ 12.890625 10.015625 18.65625 8.296875 \r\nQ 24.421875 6.59375 29.984375 6.59375 \r\nQ 38.421875 6.59375 43.015625 9.90625 \r\nQ 47.609375 13.234375 47.609375 19.390625 \r\nQ 47.609375 24.75 44.3125 27.78125 \r\nQ 41.015625 30.8125 33.5 32.328125 \r\nL 27.484375 33.5 \r\nQ 16.453125 35.6875 11.515625 40.375 \r\nQ 6.59375 45.0625 6.59375 53.421875 \r\nQ 6.59375 63.09375 13.40625 68.65625 \r\nQ 20.21875 74.21875 32.171875 74.21875 \r\nQ 37.3125 74.21875 42.625 73.28125 \r\nQ 47.953125 72.359375 53.515625 70.515625 \r\nz\r\n\" id=\"DejaVuSans-83\"/>\r\n        <path d=\"M 9.8125 72.90625 \r\nL 23.09375 72.90625 \r\nL 55.421875 11.921875 \r\nL 55.421875 72.90625 \r\nL 64.984375 72.90625 \r\nL 64.984375 0 \r\nL 51.703125 0 \r\nL 19.390625 60.984375 \r\nL 19.390625 0 \r\nL 9.8125 0 \r\nz\r\n\" id=\"DejaVuSans-78\"/>\r\n        <path d=\"M 64.40625 67.28125 \r\nL 64.40625 56.890625 \r\nQ 59.421875 61.53125 53.78125 63.8125 \r\nQ 48.140625 66.109375 41.796875 66.109375 \r\nQ 29.296875 66.109375 22.65625 58.46875 \r\nQ 16.015625 50.828125 16.015625 36.375 \r\nQ 16.015625 21.96875 22.65625 14.328125 \r\nQ 29.296875 6.6875 41.796875 6.6875 \r\nQ 48.140625 6.6875 53.78125 8.984375 \r\nQ 59.421875 11.28125 64.40625 15.921875 \r\nL 64.40625 5.609375 \r\nQ 59.234375 2.09375 53.4375 0.328125 \r\nQ 47.65625 -1.421875 41.21875 -1.421875 \r\nQ 24.65625 -1.421875 15.125 8.703125 \r\nQ 5.609375 18.84375 5.609375 36.375 \r\nQ 5.609375 53.953125 15.125 64.078125 \r\nQ 24.65625 74.21875 41.21875 74.21875 \r\nQ 47.75 74.21875 53.53125 72.484375 \r\nQ 59.328125 70.75 64.40625 67.28125 \r\nz\r\n\" id=\"DejaVuSans-67\"/>\r\n       </defs>\r\n       <use xlink:href=\"#DejaVuSans-83\"/>\r\n       <use x=\"63.476562\" xlink:href=\"#DejaVuSans-79\"/>\r\n       <use x=\"142.1875\" xlink:href=\"#DejaVuSans-85\"/>\r\n       <use x=\"215.380859\" xlink:href=\"#DejaVuSans-78\"/>\r\n       <use x=\"290.185547\" xlink:href=\"#DejaVuSans-68\"/>\r\n       <use x=\"367.1875\" xlink:href=\"#DejaVuSans-68\"/>\r\n       <use x=\"444.189453\" xlink:href=\"#DejaVuSans-73\"/>\r\n       <use x=\"473.681641\" xlink:href=\"#DejaVuSans-83\"/>\r\n       <use x=\"537.158203\" xlink:href=\"#DejaVuSans-67\"/>\r\n      </g>\r\n     </g>\r\n    </g>\r\n    <g id=\"xtick_5\">\r\n     <g id=\"line2d_5\">\r\n      <g>\r\n       <use style=\"stroke:#000000;stroke-width:0.8;\" x=\"133.8125\" xlink:href=\"#m546dd7cf0f\" y=\"224.64\"/>\r\n      </g>\r\n     </g>\r\n     <g id=\"text_5\">\r\n      <!-- VIDEODISC -->\r\n      <g transform=\"translate(136.571875 287.3025)rotate(-90)scale(0.1 -0.1)\">\r\n       <defs>\r\n        <path d=\"M 28.609375 0 \r\nL 0.78125 72.90625 \r\nL 11.078125 72.90625 \r\nL 34.1875 11.53125 \r\nL 57.328125 72.90625 \r\nL 67.578125 72.90625 \r\nL 39.796875 0 \r\nz\r\n\" id=\"DejaVuSans-86\"/>\r\n       </defs>\r\n       <use xlink:href=\"#DejaVuSans-86\"/>\r\n       <use x=\"68.408203\" xlink:href=\"#DejaVuSans-73\"/>\r\n       <use x=\"97.900391\" xlink:href=\"#DejaVuSans-68\"/>\r\n       <use x=\"174.902344\" xlink:href=\"#DejaVuSans-69\"/>\r\n       <use x=\"238.085938\" xlink:href=\"#DejaVuSans-79\"/>\r\n       <use x=\"316.796875\" xlink:href=\"#DejaVuSans-68\"/>\r\n       <use x=\"393.798828\" xlink:href=\"#DejaVuSans-73\"/>\r\n       <use x=\"423.291016\" xlink:href=\"#DejaVuSans-83\"/>\r\n       <use x=\"486.767578\" xlink:href=\"#DejaVuSans-67\"/>\r\n      </g>\r\n     </g>\r\n    </g>\r\n    <g id=\"xtick_6\">\r\n     <g id=\"line2d_6\">\r\n      <g>\r\n       <use style=\"stroke:#000000;stroke-width:0.8;\" x=\"154.7375\" xlink:href=\"#m546dd7cf0f\" y=\"224.64\"/>\r\n      </g>\r\n     </g>\r\n     <g id=\"text_6\">\r\n      <!-- MUSIC -->\r\n      <g transform=\"translate(157.496875 263.868125)rotate(-90)scale(0.1 -0.1)\">\r\n       <defs>\r\n        <path d=\"M 9.8125 72.90625 \r\nL 24.515625 72.90625 \r\nL 43.109375 23.296875 \r\nL 61.8125 72.90625 \r\nL 76.515625 72.90625 \r\nL 76.515625 0 \r\nL 66.890625 0 \r\nL 66.890625 64.015625 \r\nL 48.09375 14.015625 \r\nL 38.1875 14.015625 \r\nL 19.390625 64.015625 \r\nL 19.390625 0 \r\nL 9.8125 0 \r\nz\r\n\" id=\"DejaVuSans-77\"/>\r\n       </defs>\r\n       <use xlink:href=\"#DejaVuSans-77\"/>\r\n       <use x=\"86.279297\" xlink:href=\"#DejaVuSans-85\"/>\r\n       <use x=\"159.472656\" xlink:href=\"#DejaVuSans-83\"/>\r\n       <use x=\"222.949219\" xlink:href=\"#DejaVuSans-73\"/>\r\n       <use x=\"252.441406\" xlink:href=\"#DejaVuSans-67\"/>\r\n      </g>\r\n     </g>\r\n    </g>\r\n    <g id=\"xtick_7\">\r\n     <g id=\"line2d_7\">\r\n      <g>\r\n       <use style=\"stroke:#000000;stroke-width:0.8;\" x=\"175.6625\" xlink:href=\"#m546dd7cf0f\" y=\"224.64\"/>\r\n      </g>\r\n     </g>\r\n     <g id=\"text_7\">\r\n      <!-- REGPRINT -->\r\n      <g transform=\"translate(178.421875 282.172813)rotate(-90)scale(0.1 -0.1)\">\r\n       <defs>\r\n        <path d=\"M 44.390625 34.1875 \r\nQ 47.5625 33.109375 50.5625 29.59375 \r\nQ 53.5625 26.078125 56.59375 19.921875 \r\nL 66.609375 0 \r\nL 56 0 \r\nL 46.6875 18.703125 \r\nQ 43.0625 26.03125 39.671875 28.421875 \r\nQ 36.28125 30.8125 30.421875 30.8125 \r\nL 19.671875 30.8125 \r\nL 19.671875 0 \r\nL 9.8125 0 \r\nL 9.8125 72.90625 \r\nL 32.078125 72.90625 \r\nQ 44.578125 72.90625 50.734375 67.671875 \r\nQ 56.890625 62.453125 56.890625 51.90625 \r\nQ 56.890625 45.015625 53.6875 40.46875 \r\nQ 50.484375 35.9375 44.390625 34.1875 \r\nz\r\nM 19.671875 64.796875 \r\nL 19.671875 38.921875 \r\nL 32.078125 38.921875 \r\nQ 39.203125 38.921875 42.84375 42.21875 \r\nQ 46.484375 45.515625 46.484375 51.90625 \r\nQ 46.484375 58.296875 42.84375 61.546875 \r\nQ 39.203125 64.796875 32.078125 64.796875 \r\nz\r\n\" id=\"DejaVuSans-82\"/>\r\n        <path d=\"M 59.515625 10.40625 \r\nL 59.515625 29.984375 \r\nL 43.40625 29.984375 \r\nL 43.40625 38.09375 \r\nL 69.28125 38.09375 \r\nL 69.28125 6.78125 \r\nQ 63.578125 2.734375 56.6875 0.65625 \r\nQ 49.8125 -1.421875 42 -1.421875 \r\nQ 24.90625 -1.421875 15.25 8.5625 \r\nQ 5.609375 18.5625 5.609375 36.375 \r\nQ 5.609375 54.25 15.25 64.234375 \r\nQ 24.90625 74.21875 42 74.21875 \r\nQ 49.125 74.21875 55.546875 72.453125 \r\nQ 61.96875 70.703125 67.390625 67.28125 \r\nL 67.390625 56.78125 \r\nQ 61.921875 61.421875 55.765625 63.765625 \r\nQ 49.609375 66.109375 42.828125 66.109375 \r\nQ 29.4375 66.109375 22.71875 58.640625 \r\nQ 16.015625 51.171875 16.015625 36.375 \r\nQ 16.015625 21.625 22.71875 14.15625 \r\nQ 29.4375 6.6875 42.828125 6.6875 \r\nQ 48.046875 6.6875 52.140625 7.59375 \r\nQ 56.25 8.5 59.515625 10.40625 \r\nz\r\n\" id=\"DejaVuSans-71\"/>\r\n        <path d=\"M 19.671875 64.796875 \r\nL 19.671875 37.40625 \r\nL 32.078125 37.40625 \r\nQ 38.96875 37.40625 42.71875 40.96875 \r\nQ 46.484375 44.53125 46.484375 51.125 \r\nQ 46.484375 57.671875 42.71875 61.234375 \r\nQ 38.96875 64.796875 32.078125 64.796875 \r\nz\r\nM 9.8125 72.90625 \r\nL 32.078125 72.90625 \r\nQ 44.34375 72.90625 50.609375 67.359375 \r\nQ 56.890625 61.8125 56.890625 51.125 \r\nQ 56.890625 40.328125 50.609375 34.8125 \r\nQ 44.34375 29.296875 32.078125 29.296875 \r\nL 19.671875 29.296875 \r\nL 19.671875 0 \r\nL 9.8125 0 \r\nz\r\n\" id=\"DejaVuSans-80\"/>\r\n        <path d=\"M -0.296875 72.90625 \r\nL 61.375 72.90625 \r\nL 61.375 64.59375 \r\nL 35.5 64.59375 \r\nL 35.5 0 \r\nL 25.59375 0 \r\nL 25.59375 64.59375 \r\nL -0.296875 64.59375 \r\nz\r\n\" id=\"DejaVuSans-84\"/>\r\n       </defs>\r\n       <use xlink:href=\"#DejaVuSans-82\"/>\r\n       <use x=\"69.482422\" xlink:href=\"#DejaVuSans-69\"/>\r\n       <use x=\"132.666016\" xlink:href=\"#DejaVuSans-71\"/>\r\n       <use x=\"210.15625\" xlink:href=\"#DejaVuSans-80\"/>\r\n       <use x=\"270.458984\" xlink:href=\"#DejaVuSans-82\"/>\r\n       <use x=\"339.941406\" xlink:href=\"#DejaVuSans-73\"/>\r\n       <use x=\"369.433594\" xlink:href=\"#DejaVuSans-78\"/>\r\n       <use x=\"444.238281\" xlink:href=\"#DejaVuSans-84\"/>\r\n      </g>\r\n     </g>\r\n    </g>\r\n    <g id=\"xtick_8\">\r\n     <g id=\"line2d_8\">\r\n      <g>\r\n       <use style=\"stroke:#000000;stroke-width:0.8;\" x=\"196.5875\" xlink:href=\"#m546dd7cf0f\" y=\"224.64\"/>\r\n      </g>\r\n     </g>\r\n     <g id=\"text_8\">\r\n      <!-- SOUNDDISC, VIDEODISC -->\r\n      <g transform=\"translate(199.346875 354.360313)rotate(-90)scale(0.1 -0.1)\">\r\n       <defs>\r\n        <path d=\"M 11.71875 12.40625 \r\nL 22.015625 12.40625 \r\nL 22.015625 4 \r\nL 14.015625 -11.625 \r\nL 7.71875 -11.625 \r\nL 11.71875 4 \r\nz\r\n\" id=\"DejaVuSans-44\"/>\r\n        <path id=\"DejaVuSans-32\"/>\r\n       </defs>\r\n       <use xlink:href=\"#DejaVuSans-83\"/>\r\n       <use x=\"63.476562\" xlink:href=\"#DejaVuSans-79\"/>\r\n       <use x=\"142.1875\" xlink:href=\"#DejaVuSans-85\"/>\r\n       <use x=\"215.380859\" xlink:href=\"#DejaVuSans-78\"/>\r\n       <use x=\"290.185547\" xlink:href=\"#DejaVuSans-68\"/>\r\n       <use x=\"367.1875\" xlink:href=\"#DejaVuSans-68\"/>\r\n       <use x=\"444.189453\" xlink:href=\"#DejaVuSans-73\"/>\r\n       <use x=\"473.681641\" xlink:href=\"#DejaVuSans-83\"/>\r\n       <use x=\"537.158203\" xlink:href=\"#DejaVuSans-67\"/>\r\n       <use x=\"606.982422\" xlink:href=\"#DejaVuSans-44\"/>\r\n       <use x=\"638.769531\" xlink:href=\"#DejaVuSans-32\"/>\r\n       <use x=\"670.556641\" xlink:href=\"#DejaVuSans-86\"/>\r\n       <use x=\"738.964844\" xlink:href=\"#DejaVuSans-73\"/>\r\n       <use x=\"768.457031\" xlink:href=\"#DejaVuSans-68\"/>\r\n       <use x=\"845.458984\" xlink:href=\"#DejaVuSans-69\"/>\r\n       <use x=\"908.642578\" xlink:href=\"#DejaVuSans-79\"/>\r\n       <use x=\"987.353516\" xlink:href=\"#DejaVuSans-68\"/>\r\n       <use x=\"1064.355469\" xlink:href=\"#DejaVuSans-73\"/>\r\n       <use x=\"1093.847656\" xlink:href=\"#DejaVuSans-83\"/>\r\n       <use x=\"1157.324219\" xlink:href=\"#DejaVuSans-67\"/>\r\n      </g>\r\n     </g>\r\n    </g>\r\n    <g id=\"xtick_9\">\r\n     <g id=\"line2d_9\">\r\n      <g>\r\n       <use style=\"stroke:#000000;stroke-width:0.8;\" x=\"217.5125\" xlink:href=\"#m546dd7cf0f\" y=\"224.64\"/>\r\n      </g>\r\n     </g>\r\n     <g id=\"text_9\">\r\n      <!-- ER -->\r\n      <g transform=\"translate(220.271875 244.907188)rotate(-90)scale(0.1 -0.1)\">\r\n       <use xlink:href=\"#DejaVuSans-69\"/>\r\n       <use x=\"63.183594\" xlink:href=\"#DejaVuSans-82\"/>\r\n      </g>\r\n     </g>\r\n    </g>\r\n    <g id=\"xtick_10\">\r\n     <g id=\"line2d_10\">\r\n      <g>\r\n       <use style=\"stroke:#000000;stroke-width:0.8;\" x=\"238.4375\" xlink:href=\"#m546dd7cf0f\" y=\"224.64\"/>\r\n      </g>\r\n     </g>\r\n     <g id=\"text_10\">\r\n      <!-- VIDEO -->\r\n      <g transform=\"translate(241.196875 263.32125)rotate(-90)scale(0.1 -0.1)\">\r\n       <use xlink:href=\"#DejaVuSans-86\"/>\r\n       <use x=\"68.408203\" xlink:href=\"#DejaVuSans-73\"/>\r\n       <use x=\"97.900391\" xlink:href=\"#DejaVuSans-68\"/>\r\n       <use x=\"174.902344\" xlink:href=\"#DejaVuSans-69\"/>\r\n       <use x=\"238.085938\" xlink:href=\"#DejaVuSans-79\"/>\r\n      </g>\r\n     </g>\r\n    </g>\r\n    <g id=\"xtick_11\">\r\n     <g id=\"line2d_11\">\r\n      <g>\r\n       <use style=\"stroke:#000000;stroke-width:0.8;\" x=\"259.3625\" xlink:href=\"#m546dd7cf0f\" y=\"224.64\"/>\r\n      </g>\r\n     </g>\r\n     <g id=\"text_11\">\r\n      <!-- MAGAZINE -->\r\n      <g transform=\"translate(262.121875 285.122813)rotate(-90)scale(0.1 -0.1)\">\r\n       <defs>\r\n        <path d=\"M 5.609375 72.90625 \r\nL 62.890625 72.90625 \r\nL 62.890625 65.375 \r\nL 16.796875 8.296875 \r\nL 64.015625 8.296875 \r\nL 64.015625 0 \r\nL 4.5 0 \r\nL 4.5 7.515625 \r\nL 50.59375 64.59375 \r\nL 5.609375 64.59375 \r\nz\r\n\" id=\"DejaVuSans-90\"/>\r\n       </defs>\r\n       <use xlink:href=\"#DejaVuSans-77\"/>\r\n       <use x=\"86.279297\" xlink:href=\"#DejaVuSans-65\"/>\r\n       <use x=\"152.9375\" xlink:href=\"#DejaVuSans-71\"/>\r\n       <use x=\"230.427734\" xlink:href=\"#DejaVuSans-65\"/>\r\n       <use x=\"298.835938\" xlink:href=\"#DejaVuSans-90\"/>\r\n       <use x=\"367.341797\" xlink:href=\"#DejaVuSans-73\"/>\r\n       <use x=\"396.833984\" xlink:href=\"#DejaVuSans-78\"/>\r\n       <use x=\"471.638672\" xlink:href=\"#DejaVuSans-69\"/>\r\n      </g>\r\n     </g>\r\n    </g>\r\n    <g id=\"xtick_12\">\r\n     <g id=\"line2d_12\">\r\n      <g>\r\n       <use style=\"stroke:#000000;stroke-width:0.8;\" x=\"280.2875\" xlink:href=\"#m546dd7cf0f\" y=\"224.64\"/>\r\n      </g>\r\n     </g>\r\n     <g id=\"text_12\">\r\n      <!-- CR -->\r\n      <g transform=\"translate(283.046875 245.57125)rotate(-90)scale(0.1 -0.1)\">\r\n       <use xlink:href=\"#DejaVuSans-67\"/>\r\n       <use x=\"69.824219\" xlink:href=\"#DejaVuSans-82\"/>\r\n      </g>\r\n     </g>\r\n    </g>\r\n    <g id=\"xtick_13\">\r\n     <g id=\"line2d_13\">\r\n      <g>\r\n       <use style=\"stroke:#000000;stroke-width:0.8;\" x=\"301.2125\" xlink:href=\"#m546dd7cf0f\" y=\"224.64\"/>\r\n      </g>\r\n     </g>\r\n     <g id=\"text_13\">\r\n      <!-- SOUNDREC -->\r\n      <g transform=\"translate(303.971875 288.610313)rotate(-90)scale(0.1 -0.1)\">\r\n       <use xlink:href=\"#DejaVuSans-83\"/>\r\n       <use x=\"63.476562\" xlink:href=\"#DejaVuSans-79\"/>\r\n       <use x=\"142.1875\" xlink:href=\"#DejaVuSans-85\"/>\r\n       <use x=\"215.380859\" xlink:href=\"#DejaVuSans-78\"/>\r\n       <use x=\"290.185547\" xlink:href=\"#DejaVuSans-68\"/>\r\n       <use x=\"367.1875\" xlink:href=\"#DejaVuSans-82\"/>\r\n       <use x=\"436.669922\" xlink:href=\"#DejaVuSans-69\"/>\r\n       <use x=\"499.853516\" xlink:href=\"#DejaVuSans-67\"/>\r\n      </g>\r\n     </g>\r\n    </g>\r\n    <g id=\"xtick_14\">\r\n     <g id=\"line2d_14\">\r\n      <g>\r\n       <use style=\"stroke:#000000;stroke-width:0.8;\" x=\"322.1375\" xlink:href=\"#m546dd7cf0f\" y=\"224.64\"/>\r\n      </g>\r\n     </g>\r\n     <g id=\"text_14\">\r\n      <!-- LARGEPRINT -->\r\n      <g transform=\"translate(324.896875 294.810313)rotate(-90)scale(0.1 -0.1)\">\r\n       <defs>\r\n        <path d=\"M 9.8125 72.90625 \r\nL 19.671875 72.90625 \r\nL 19.671875 8.296875 \r\nL 55.171875 8.296875 \r\nL 55.171875 0 \r\nL 9.8125 0 \r\nz\r\n\" id=\"DejaVuSans-76\"/>\r\n       </defs>\r\n       <use xlink:href=\"#DejaVuSans-76\"/>\r\n       <use x=\"57.962891\" xlink:href=\"#DejaVuSans-65\"/>\r\n       <use x=\"126.371094\" xlink:href=\"#DejaVuSans-82\"/>\r\n       <use x=\"195.853516\" xlink:href=\"#DejaVuSans-71\"/>\r\n       <use x=\"273.34375\" xlink:href=\"#DejaVuSans-69\"/>\r\n       <use x=\"336.527344\" xlink:href=\"#DejaVuSans-80\"/>\r\n       <use x=\"396.830078\" xlink:href=\"#DejaVuSans-82\"/>\r\n       <use x=\"466.3125\" xlink:href=\"#DejaVuSans-73\"/>\r\n       <use x=\"495.804688\" xlink:href=\"#DejaVuSans-78\"/>\r\n       <use x=\"570.609375\" xlink:href=\"#DejaVuSans-84\"/>\r\n      </g>\r\n     </g>\r\n    </g>\r\n    <g id=\"xtick_15\">\r\n     <g id=\"line2d_15\">\r\n      <g>\r\n       <use style=\"stroke:#000000;stroke-width:0.8;\" x=\"343.0625\" xlink:href=\"#m546dd7cf0f\" y=\"224.64\"/>\r\n      </g>\r\n     </g>\r\n     <g id=\"text_15\">\r\n      <!-- ER, SOUNDDISC -->\r\n      <g transform=\"translate(345.821875 311.965)rotate(-90)scale(0.1 -0.1)\">\r\n       <use xlink:href=\"#DejaVuSans-69\"/>\r\n       <use x=\"63.183594\" xlink:href=\"#DejaVuSans-82\"/>\r\n       <use x=\"132.666016\" xlink:href=\"#DejaVuSans-44\"/>\r\n       <use x=\"164.453125\" xlink:href=\"#DejaVuSans-32\"/>\r\n       <use x=\"196.240234\" xlink:href=\"#DejaVuSans-83\"/>\r\n       <use x=\"259.716797\" xlink:href=\"#DejaVuSans-79\"/>\r\n       <use x=\"338.427734\" xlink:href=\"#DejaVuSans-85\"/>\r\n       <use x=\"411.621094\" xlink:href=\"#DejaVuSans-78\"/>\r\n       <use x=\"486.425781\" xlink:href=\"#DejaVuSans-68\"/>\r\n       <use x=\"563.427734\" xlink:href=\"#DejaVuSans-68\"/>\r\n       <use x=\"640.429688\" xlink:href=\"#DejaVuSans-73\"/>\r\n       <use x=\"669.921875\" xlink:href=\"#DejaVuSans-83\"/>\r\n       <use x=\"733.398438\" xlink:href=\"#DejaVuSans-67\"/>\r\n      </g>\r\n     </g>\r\n    </g>\r\n    <g id=\"xtick_16\">\r\n     <g id=\"line2d_16\">\r\n      <g>\r\n       <use style=\"stroke:#000000;stroke-width:0.8;\" x=\"363.9875\" xlink:href=\"#m546dd7cf0f\" y=\"224.64\"/>\r\n      </g>\r\n     </g>\r\n     <g id=\"text_16\">\r\n      <!-- MIXED -->\r\n      <g transform=\"translate(366.746875 264.086875)rotate(-90)scale(0.1 -0.1)\">\r\n       <defs>\r\n        <path d=\"M 6.296875 72.90625 \r\nL 16.890625 72.90625 \r\nL 35.015625 45.796875 \r\nL 53.21875 72.90625 \r\nL 63.8125 72.90625 \r\nL 40.375 37.890625 \r\nL 65.375 0 \r\nL 54.78125 0 \r\nL 34.28125 31 \r\nL 13.625 0 \r\nL 2.984375 0 \r\nL 29 38.921875 \r\nz\r\n\" id=\"DejaVuSans-88\"/>\r\n       </defs>\r\n       <use xlink:href=\"#DejaVuSans-77\"/>\r\n       <use x=\"86.279297\" xlink:href=\"#DejaVuSans-73\"/>\r\n       <use x=\"115.771484\" xlink:href=\"#DejaVuSans-88\"/>\r\n       <use x=\"184.277344\" xlink:href=\"#DejaVuSans-69\"/>\r\n       <use x=\"247.460938\" xlink:href=\"#DejaVuSans-68\"/>\r\n      </g>\r\n     </g>\r\n    </g>\r\n   </g>\r\n   <g id=\"matplotlib.axis_2\">\r\n    <g id=\"ytick_1\">\r\n     <g id=\"line2d_17\">\r\n      <defs>\r\n       <path d=\"M 0 0 \r\nL -3.5 0 \r\n\" id=\"m4c6d1c23dd\" style=\"stroke:#000000;stroke-width:0.8;\"/>\r\n      </defs>\r\n      <g>\r\n       <use style=\"stroke:#000000;stroke-width:0.8;\" x=\"39.65\" xlink:href=\"#m4c6d1c23dd\" y=\"224.64\"/>\r\n      </g>\r\n     </g>\r\n     <g id=\"text_17\">\r\n      <!-- 0 -->\r\n      <g transform=\"translate(26.2875 228.439219)scale(0.1 -0.1)\">\r\n       <defs>\r\n        <path d=\"M 31.78125 66.40625 \r\nQ 24.171875 66.40625 20.328125 58.90625 \r\nQ 16.5 51.421875 16.5 36.375 \r\nQ 16.5 21.390625 20.328125 13.890625 \r\nQ 24.171875 6.390625 31.78125 6.390625 \r\nQ 39.453125 6.390625 43.28125 13.890625 \r\nQ 47.125 21.390625 47.125 36.375 \r\nQ 47.125 51.421875 43.28125 58.90625 \r\nQ 39.453125 66.40625 31.78125 66.40625 \r\nz\r\nM 31.78125 74.21875 \r\nQ 44.046875 74.21875 50.515625 64.515625 \r\nQ 56.984375 54.828125 56.984375 36.375 \r\nQ 56.984375 17.96875 50.515625 8.265625 \r\nQ 44.046875 -1.421875 31.78125 -1.421875 \r\nQ 19.53125 -1.421875 13.0625 8.265625 \r\nQ 6.59375 17.96875 6.59375 36.375 \r\nQ 6.59375 54.828125 13.0625 64.515625 \r\nQ 19.53125 74.21875 31.78125 74.21875 \r\nz\r\n\" id=\"DejaVuSans-48\"/>\r\n       </defs>\r\n       <use xlink:href=\"#DejaVuSans-48\"/>\r\n      </g>\r\n     </g>\r\n    </g>\r\n    <g id=\"ytick_2\">\r\n     <g id=\"line2d_18\">\r\n      <g>\r\n       <use style=\"stroke:#000000;stroke-width:0.8;\" x=\"39.65\" xlink:href=\"#m4c6d1c23dd\" y=\"179.256324\"/>\r\n      </g>\r\n     </g>\r\n     <g id=\"text_18\">\r\n      <!-- 1000 -->\r\n      <g transform=\"translate(7.2 183.055543)scale(0.1 -0.1)\">\r\n       <defs>\r\n        <path d=\"M 12.40625 8.296875 \r\nL 28.515625 8.296875 \r\nL 28.515625 63.921875 \r\nL 10.984375 60.40625 \r\nL 10.984375 69.390625 \r\nL 28.421875 72.90625 \r\nL 38.28125 72.90625 \r\nL 38.28125 8.296875 \r\nL 54.390625 8.296875 \r\nL 54.390625 0 \r\nL 12.40625 0 \r\nz\r\n\" id=\"DejaVuSans-49\"/>\r\n       </defs>\r\n       <use xlink:href=\"#DejaVuSans-49\"/>\r\n       <use x=\"63.623047\" xlink:href=\"#DejaVuSans-48\"/>\r\n       <use x=\"127.246094\" xlink:href=\"#DejaVuSans-48\"/>\r\n       <use x=\"190.869141\" xlink:href=\"#DejaVuSans-48\"/>\r\n      </g>\r\n     </g>\r\n    </g>\r\n    <g id=\"ytick_3\">\r\n     <g id=\"line2d_19\">\r\n      <g>\r\n       <use style=\"stroke:#000000;stroke-width:0.8;\" x=\"39.65\" xlink:href=\"#m4c6d1c23dd\" y=\"133.872648\"/>\r\n      </g>\r\n     </g>\r\n     <g id=\"text_19\">\r\n      <!-- 2000 -->\r\n      <g transform=\"translate(7.2 137.671866)scale(0.1 -0.1)\">\r\n       <defs>\r\n        <path d=\"M 19.1875 8.296875 \r\nL 53.609375 8.296875 \r\nL 53.609375 0 \r\nL 7.328125 0 \r\nL 7.328125 8.296875 \r\nQ 12.9375 14.109375 22.625 23.890625 \r\nQ 32.328125 33.6875 34.8125 36.53125 \r\nQ 39.546875 41.84375 41.421875 45.53125 \r\nQ 43.3125 49.21875 43.3125 52.78125 \r\nQ 43.3125 58.59375 39.234375 62.25 \r\nQ 35.15625 65.921875 28.609375 65.921875 \r\nQ 23.96875 65.921875 18.8125 64.3125 \r\nQ 13.671875 62.703125 7.8125 59.421875 \r\nL 7.8125 69.390625 \r\nQ 13.765625 71.78125 18.9375 73 \r\nQ 24.125 74.21875 28.421875 74.21875 \r\nQ 39.75 74.21875 46.484375 68.546875 \r\nQ 53.21875 62.890625 53.21875 53.421875 \r\nQ 53.21875 48.921875 51.53125 44.890625 \r\nQ 49.859375 40.875 45.40625 35.40625 \r\nQ 44.1875 33.984375 37.640625 27.21875 \r\nQ 31.109375 20.453125 19.1875 8.296875 \r\nz\r\n\" id=\"DejaVuSans-50\"/>\r\n       </defs>\r\n       <use xlink:href=\"#DejaVuSans-50\"/>\r\n       <use x=\"63.623047\" xlink:href=\"#DejaVuSans-48\"/>\r\n       <use x=\"127.246094\" xlink:href=\"#DejaVuSans-48\"/>\r\n       <use x=\"190.869141\" xlink:href=\"#DejaVuSans-48\"/>\r\n      </g>\r\n     </g>\r\n    </g>\r\n    <g id=\"ytick_4\">\r\n     <g id=\"line2d_20\">\r\n      <g>\r\n       <use style=\"stroke:#000000;stroke-width:0.8;\" x=\"39.65\" xlink:href=\"#m4c6d1c23dd\" y=\"88.488972\"/>\r\n      </g>\r\n     </g>\r\n     <g id=\"text_20\">\r\n      <!-- 3000 -->\r\n      <g transform=\"translate(7.2 92.28819)scale(0.1 -0.1)\">\r\n       <defs>\r\n        <path d=\"M 40.578125 39.3125 \r\nQ 47.65625 37.796875 51.625 33 \r\nQ 55.609375 28.21875 55.609375 21.1875 \r\nQ 55.609375 10.40625 48.1875 4.484375 \r\nQ 40.765625 -1.421875 27.09375 -1.421875 \r\nQ 22.515625 -1.421875 17.65625 -0.515625 \r\nQ 12.796875 0.390625 7.625 2.203125 \r\nL 7.625 11.71875 \r\nQ 11.71875 9.328125 16.59375 8.109375 \r\nQ 21.484375 6.890625 26.8125 6.890625 \r\nQ 36.078125 6.890625 40.9375 10.546875 \r\nQ 45.796875 14.203125 45.796875 21.1875 \r\nQ 45.796875 27.640625 41.28125 31.265625 \r\nQ 36.765625 34.90625 28.71875 34.90625 \r\nL 20.21875 34.90625 \r\nL 20.21875 43.015625 \r\nL 29.109375 43.015625 \r\nQ 36.375 43.015625 40.234375 45.921875 \r\nQ 44.09375 48.828125 44.09375 54.296875 \r\nQ 44.09375 59.90625 40.109375 62.90625 \r\nQ 36.140625 65.921875 28.71875 65.921875 \r\nQ 24.65625 65.921875 20.015625 65.03125 \r\nQ 15.375 64.15625 9.8125 62.3125 \r\nL 9.8125 71.09375 \r\nQ 15.4375 72.65625 20.34375 73.4375 \r\nQ 25.25 74.21875 29.59375 74.21875 \r\nQ 40.828125 74.21875 47.359375 69.109375 \r\nQ 53.90625 64.015625 53.90625 55.328125 \r\nQ 53.90625 49.265625 50.4375 45.09375 \r\nQ 46.96875 40.921875 40.578125 39.3125 \r\nz\r\n\" id=\"DejaVuSans-51\"/>\r\n       </defs>\r\n       <use xlink:href=\"#DejaVuSans-51\"/>\r\n       <use x=\"63.623047\" xlink:href=\"#DejaVuSans-48\"/>\r\n       <use x=\"127.246094\" xlink:href=\"#DejaVuSans-48\"/>\r\n       <use x=\"190.869141\" xlink:href=\"#DejaVuSans-48\"/>\r\n      </g>\r\n     </g>\r\n    </g>\r\n    <g id=\"ytick_5\">\r\n     <g id=\"line2d_21\">\r\n      <g>\r\n       <use style=\"stroke:#000000;stroke-width:0.8;\" x=\"39.65\" xlink:href=\"#m4c6d1c23dd\" y=\"43.105295\"/>\r\n      </g>\r\n     </g>\r\n     <g id=\"text_21\">\r\n      <!-- 4000 -->\r\n      <g transform=\"translate(7.2 46.904514)scale(0.1 -0.1)\">\r\n       <defs>\r\n        <path d=\"M 37.796875 64.3125 \r\nL 12.890625 25.390625 \r\nL 37.796875 25.390625 \r\nz\r\nM 35.203125 72.90625 \r\nL 47.609375 72.90625 \r\nL 47.609375 25.390625 \r\nL 58.015625 25.390625 \r\nL 58.015625 17.1875 \r\nL 47.609375 17.1875 \r\nL 47.609375 0 \r\nL 37.796875 0 \r\nL 37.796875 17.1875 \r\nL 4.890625 17.1875 \r\nL 4.890625 26.703125 \r\nz\r\n\" id=\"DejaVuSans-52\"/>\r\n       </defs>\r\n       <use xlink:href=\"#DejaVuSans-52\"/>\r\n       <use x=\"63.623047\" xlink:href=\"#DejaVuSans-48\"/>\r\n       <use x=\"127.246094\" xlink:href=\"#DejaVuSans-48\"/>\r\n       <use x=\"190.869141\" xlink:href=\"#DejaVuSans-48\"/>\r\n      </g>\r\n     </g>\r\n    </g>\r\n   </g>\r\n   <g id=\"patch_19\">\r\n    <path d=\"M 39.65 224.64 \r\nL 39.65 7.2 \r\n\" style=\"fill:none;stroke:#000000;stroke-linecap:square;stroke-linejoin:miter;stroke-width:0.8;\"/>\r\n   </g>\r\n   <g id=\"patch_20\">\r\n    <path d=\"M 374.45 224.64 \r\nL 374.45 7.2 \r\n\" style=\"fill:none;stroke:#000000;stroke-linecap:square;stroke-linejoin:miter;stroke-width:0.8;\"/>\r\n   </g>\r\n   <g id=\"patch_21\">\r\n    <path d=\"M 39.65 224.64 \r\nL 374.45 224.64 \r\n\" style=\"fill:none;stroke:#000000;stroke-linecap:square;stroke-linejoin:miter;stroke-width:0.8;\"/>\r\n   </g>\r\n   <g id=\"patch_22\">\r\n    <path d=\"M 39.65 7.2 \r\nL 374.45 7.2 \r\n\" style=\"fill:none;stroke:#000000;stroke-linecap:square;stroke-linejoin:miter;stroke-width:0.8;\"/>\r\n   </g>\r\n  </g>\r\n </g>\r\n <defs>\r\n  <clipPath id=\"p6c1b5b3bbf\">\r\n   <rect height=\"217.44\" width=\"334.8\" x=\"39.65\" y=\"7.2\"/>\r\n  </clipPath>\r\n </defs>\r\n</svg>\r\n",
      "image/png": "[encoded data removed]"
     },
     "metadata": {
      "needs_background": "light"
     }
    }
   ],
   "source": [
    "checkouts_df[\"materialtype\"].value_counts().plot(kind=\"bar\")"
   ]
  },
  {
   "cell_type": "code",
   "execution_count": 32,
   "metadata": {},
   "outputs": [
    {
     "output_type": "execute_result",
     "data": {
      "text/plain": [
       "<AxesSubplot:>"
      ]
     },
     "metadata": {},
     "execution_count": 32
    },
    {
     "output_type": "display_data",
     "data": {
      "text/plain": "<Figure size 432x288 with 1 Axes>",
      "image/svg+xml": "<?xml version=\"1.0\" encoding=\"utf-8\" standalone=\"no\"?>\r\n<!DOCTYPE svg PUBLIC \"-//W3C//DTD SVG 1.1//EN\"\r\n  \"http://www.w3.org/Graphics/SVG/1.1/DTD/svg11.dtd\">\r\n<!-- Created with matplotlib (https://matplotlib.org/) -->\r\n<svg height=\"248.518125pt\" version=\"1.1\" viewBox=\"0 0 478.920312 248.518125\" width=\"478.920312pt\" xmlns=\"http://www.w3.org/2000/svg\" xmlns:xlink=\"http://www.w3.org/1999/xlink\">\r\n <metadata>\r\n  <rdf:RDF xmlns:cc=\"http://creativecommons.org/ns#\" xmlns:dc=\"http://purl.org/dc/elements/1.1/\" xmlns:rdf=\"http://www.w3.org/1999/02/22-rdf-syntax-ns#\">\r\n   <cc:Work>\r\n    <dc:type rdf:resource=\"http://purl.org/dc/dcmitype/StillImage\"/>\r\n    <dc:date>2020-12-14T12:49:13.271128</dc:date>\r\n    <dc:format>image/svg+xml</dc:format>\r\n    <dc:creator>\r\n     <cc:Agent>\r\n      <dc:title>Matplotlib v3.3.3, https://matplotlib.org/</dc:title>\r\n     </cc:Agent>\r\n    </dc:creator>\r\n   </cc:Work>\r\n  </rdf:RDF>\r\n </metadata>\r\n <defs>\r\n  <style type=\"text/css\">*{stroke-linecap:butt;stroke-linejoin:round;}</style>\r\n </defs>\r\n <g id=\"figure_1\">\r\n  <g id=\"patch_1\">\r\n   <path d=\"M 0 248.518125 \r\nL 478.920312 248.518125 \r\nL 478.920312 0 \r\nL 0 0 \r\nz\r\n\" style=\"fill:none;\"/>\r\n  </g>\r\n  <g id=\"axes_1\">\r\n   <g id=\"patch_2\">\r\n    <path d=\"M 136.920312 224.64 \r\nL 471.720312 224.64 \r\nL 471.720312 7.2 \r\nL 136.920312 7.2 \r\nz\r\n\" style=\"fill:#ffffff;\"/>\r\n   </g>\r\n   <g id=\"patch_3\">\r\n    <path clip-path=\"url(#pd09db178a9)\" d=\"M 136.920312 221.2425 \r\nL 455.777455 221.2425 \r\nL 455.777455 214.4475 \r\nL 136.920312 214.4475 \r\nz\r\n\" style=\"fill:#1f77b4;\"/>\r\n   </g>\r\n   <g id=\"patch_4\">\r\n    <path clip-path=\"url(#pd09db178a9)\" d=\"M 136.920312 207.6525 \r\nL 314.971595 207.6525 \r\nL 314.971595 200.8575 \r\nL 136.920312 200.8575 \r\nz\r\n\" style=\"fill:#1f77b4;\"/>\r\n   </g>\r\n   <g id=\"patch_5\">\r\n    <path clip-path=\"url(#pd09db178a9)\" d=\"M 136.920312 194.0625 \r\nL 208.825638 194.0625 \r\nL 208.825638 187.2675 \r\nL 136.920312 187.2675 \r\nz\r\n\" style=\"fill:#1f77b4;\"/>\r\n   </g>\r\n   <g id=\"patch_6\">\r\n    <path clip-path=\"url(#pd09db178a9)\" d=\"M 136.920312 180.4725 \r\nL 198.623327 180.4725 \r\nL 198.623327 173.6775 \r\nL 136.920312 173.6775 \r\nz\r\n\" style=\"fill:#1f77b4;\"/>\r\n   </g>\r\n   <g id=\"patch_7\">\r\n    <path clip-path=\"url(#pd09db178a9)\" d=\"M 136.920312 166.8825 \r\nL 198.553449 166.8825 \r\nL 198.553449 160.0875 \r\nL 136.920312 160.0875 \r\nz\r\n\" style=\"fill:#1f77b4;\"/>\r\n   </g>\r\n   <g id=\"patch_8\">\r\n    <path clip-path=\"url(#pd09db178a9)\" d=\"M 136.920312 153.2925 \r\nL 138.737162 153.2925 \r\nL 138.737162 146.4975 \r\nL 136.920312 146.4975 \r\nz\r\n\" style=\"fill:#1f77b4;\"/>\r\n   </g>\r\n   <g id=\"patch_9\">\r\n    <path clip-path=\"url(#pd09db178a9)\" d=\"M 136.920312 139.7025 \r\nL 138.178132 139.7025 \r\nL 138.178132 132.9075 \r\nL 136.920312 132.9075 \r\nz\r\n\" style=\"fill:#1f77b4;\"/>\r\n   </g>\r\n   <g id=\"patch_10\">\r\n    <path clip-path=\"url(#pd09db178a9)\" d=\"M 136.920312 126.1125 \r\nL 137.828737 126.1125 \r\nL 137.828737 119.3175 \r\nL 136.920312 119.3175 \r\nz\r\n\" style=\"fill:#1f77b4;\"/>\r\n   </g>\r\n   <g id=\"patch_11\">\r\n    <path clip-path=\"url(#pd09db178a9)\" d=\"M 136.920312 112.5225 \r\nL 137.409464 112.5225 \r\nL 137.409464 105.7275 \r\nL 136.920312 105.7275 \r\nz\r\n\" style=\"fill:#1f77b4;\"/>\r\n   </g>\r\n   <g id=\"patch_12\">\r\n    <path clip-path=\"url(#pd09db178a9)\" d=\"M 136.920312 98.9325 \r\nL 137.339586 98.9325 \r\nL 137.339586 92.1375 \r\nL 136.920312 92.1375 \r\nz\r\n\" style=\"fill:#1f77b4;\"/>\r\n   </g>\r\n   <g id=\"patch_13\">\r\n    <path clip-path=\"url(#pd09db178a9)\" d=\"M 136.920312 85.3425 \r\nL 137.339586 85.3425 \r\nL 137.339586 78.5475 \r\nL 136.920312 78.5475 \r\nz\r\n\" style=\"fill:#1f77b4;\"/>\r\n   </g>\r\n   <g id=\"patch_14\">\r\n    <path clip-path=\"url(#pd09db178a9)\" d=\"M 136.920312 71.7525 \r\nL 137.339586 71.7525 \r\nL 137.339586 64.9575 \r\nL 136.920312 64.9575 \r\nz\r\n\" style=\"fill:#1f77b4;\"/>\r\n   </g>\r\n   <g id=\"patch_15\">\r\n    <path clip-path=\"url(#pd09db178a9)\" d=\"M 136.920312 58.1625 \r\nL 137.269707 58.1625 \r\nL 137.269707 51.3675 \r\nL 136.920312 51.3675 \r\nz\r\n\" style=\"fill:#1f77b4;\"/>\r\n   </g>\r\n   <g id=\"patch_16\">\r\n    <path clip-path=\"url(#pd09db178a9)\" d=\"M 136.920312 44.5725 \r\nL 137.199828 44.5725 \r\nL 137.199828 37.7775 \r\nL 136.920312 37.7775 \r\nz\r\n\" style=\"fill:#1f77b4;\"/>\r\n   </g>\r\n   <g id=\"patch_17\">\r\n    <path clip-path=\"url(#pd09db178a9)\" d=\"M 136.920312 30.9825 \r\nL 137.06007 30.9825 \r\nL 137.06007 24.1875 \r\nL 136.920312 24.1875 \r\nz\r\n\" style=\"fill:#1f77b4;\"/>\r\n   </g>\r\n   <g id=\"patch_18\">\r\n    <path clip-path=\"url(#pd09db178a9)\" d=\"M 136.920312 17.3925 \r\nL 137.06007 17.3925 \r\nL 137.06007 10.5975 \r\nL 136.920312 10.5975 \r\nz\r\n\" style=\"fill:#1f77b4;\"/>\r\n   </g>\r\n   <g id=\"matplotlib.axis_1\">\r\n    <g id=\"xtick_1\">\r\n     <g id=\"line2d_1\">\r\n      <defs>\r\n       <path d=\"M 0 0 \r\nL 0 3.5 \r\n\" id=\"mf533e6d120\" style=\"stroke:#000000;stroke-width:0.8;\"/>\r\n      </defs>\r\n      <g>\r\n       <use style=\"stroke:#000000;stroke-width:0.8;\" x=\"136.920312\" xlink:href=\"#mf533e6d120\" y=\"224.64\"/>\r\n      </g>\r\n     </g>\r\n     <g id=\"text_1\">\r\n      <!-- 0 -->\r\n      <g transform=\"translate(133.739062 239.238437)scale(0.1 -0.1)\">\r\n       <defs>\r\n        <path d=\"M 31.78125 66.40625 \r\nQ 24.171875 66.40625 20.328125 58.90625 \r\nQ 16.5 51.421875 16.5 36.375 \r\nQ 16.5 21.390625 20.328125 13.890625 \r\nQ 24.171875 6.390625 31.78125 6.390625 \r\nQ 39.453125 6.390625 43.28125 13.890625 \r\nQ 47.125 21.390625 47.125 36.375 \r\nQ 47.125 51.421875 43.28125 58.90625 \r\nQ 39.453125 66.40625 31.78125 66.40625 \r\nz\r\nM 31.78125 74.21875 \r\nQ 44.046875 74.21875 50.515625 64.515625 \r\nQ 56.984375 54.828125 56.984375 36.375 \r\nQ 56.984375 17.96875 50.515625 8.265625 \r\nQ 44.046875 -1.421875 31.78125 -1.421875 \r\nQ 19.53125 -1.421875 13.0625 8.265625 \r\nQ 6.59375 17.96875 6.59375 36.375 \r\nQ 6.59375 54.828125 13.0625 64.515625 \r\nQ 19.53125 74.21875 31.78125 74.21875 \r\nz\r\n\" id=\"DejaVuSans-48\"/>\r\n       </defs>\r\n       <use xlink:href=\"#DejaVuSans-48\"/>\r\n      </g>\r\n     </g>\r\n    </g>\r\n    <g id=\"xtick_2\">\r\n     <g id=\"line2d_2\">\r\n      <g>\r\n       <use style=\"stroke:#000000;stroke-width:0.8;\" x=\"206.799152\" xlink:href=\"#mf533e6d120\" y=\"224.64\"/>\r\n      </g>\r\n     </g>\r\n     <g id=\"text_2\">\r\n      <!-- 1000 -->\r\n      <g transform=\"translate(194.074152 239.238437)scale(0.1 -0.1)\">\r\n       <defs>\r\n        <path d=\"M 12.40625 8.296875 \r\nL 28.515625 8.296875 \r\nL 28.515625 63.921875 \r\nL 10.984375 60.40625 \r\nL 10.984375 69.390625 \r\nL 28.421875 72.90625 \r\nL 38.28125 72.90625 \r\nL 38.28125 8.296875 \r\nL 54.390625 8.296875 \r\nL 54.390625 0 \r\nL 12.40625 0 \r\nz\r\n\" id=\"DejaVuSans-49\"/>\r\n       </defs>\r\n       <use xlink:href=\"#DejaVuSans-49\"/>\r\n       <use x=\"63.623047\" xlink:href=\"#DejaVuSans-48\"/>\r\n       <use x=\"127.246094\" xlink:href=\"#DejaVuSans-48\"/>\r\n       <use x=\"190.869141\" xlink:href=\"#DejaVuSans-48\"/>\r\n      </g>\r\n     </g>\r\n    </g>\r\n    <g id=\"xtick_3\">\r\n     <g id=\"line2d_3\">\r\n      <g>\r\n       <use style=\"stroke:#000000;stroke-width:0.8;\" x=\"276.677991\" xlink:href=\"#mf533e6d120\" y=\"224.64\"/>\r\n      </g>\r\n     </g>\r\n     <g id=\"text_3\">\r\n      <!-- 2000 -->\r\n      <g transform=\"translate(263.952991 239.238437)scale(0.1 -0.1)\">\r\n       <defs>\r\n        <path d=\"M 19.1875 8.296875 \r\nL 53.609375 8.296875 \r\nL 53.609375 0 \r\nL 7.328125 0 \r\nL 7.328125 8.296875 \r\nQ 12.9375 14.109375 22.625 23.890625 \r\nQ 32.328125 33.6875 34.8125 36.53125 \r\nQ 39.546875 41.84375 41.421875 45.53125 \r\nQ 43.3125 49.21875 43.3125 52.78125 \r\nQ 43.3125 58.59375 39.234375 62.25 \r\nQ 35.15625 65.921875 28.609375 65.921875 \r\nQ 23.96875 65.921875 18.8125 64.3125 \r\nQ 13.671875 62.703125 7.8125 59.421875 \r\nL 7.8125 69.390625 \r\nQ 13.765625 71.78125 18.9375 73 \r\nQ 24.125 74.21875 28.421875 74.21875 \r\nQ 39.75 74.21875 46.484375 68.546875 \r\nQ 53.21875 62.890625 53.21875 53.421875 \r\nQ 53.21875 48.921875 51.53125 44.890625 \r\nQ 49.859375 40.875 45.40625 35.40625 \r\nQ 44.1875 33.984375 37.640625 27.21875 \r\nQ 31.109375 20.453125 19.1875 8.296875 \r\nz\r\n\" id=\"DejaVuSans-50\"/>\r\n       </defs>\r\n       <use xlink:href=\"#DejaVuSans-50\"/>\r\n       <use x=\"63.623047\" xlink:href=\"#DejaVuSans-48\"/>\r\n       <use x=\"127.246094\" xlink:href=\"#DejaVuSans-48\"/>\r\n       <use x=\"190.869141\" xlink:href=\"#DejaVuSans-48\"/>\r\n      </g>\r\n     </g>\r\n    </g>\r\n    <g id=\"xtick_4\">\r\n     <g id=\"line2d_4\">\r\n      <g>\r\n       <use style=\"stroke:#000000;stroke-width:0.8;\" x=\"346.55683\" xlink:href=\"#mf533e6d120\" y=\"224.64\"/>\r\n      </g>\r\n     </g>\r\n     <g id=\"text_4\">\r\n      <!-- 3000 -->\r\n      <g transform=\"translate(333.83183 239.238437)scale(0.1 -0.1)\">\r\n       <defs>\r\n        <path d=\"M 40.578125 39.3125 \r\nQ 47.65625 37.796875 51.625 33 \r\nQ 55.609375 28.21875 55.609375 21.1875 \r\nQ 55.609375 10.40625 48.1875 4.484375 \r\nQ 40.765625 -1.421875 27.09375 -1.421875 \r\nQ 22.515625 -1.421875 17.65625 -0.515625 \r\nQ 12.796875 0.390625 7.625 2.203125 \r\nL 7.625 11.71875 \r\nQ 11.71875 9.328125 16.59375 8.109375 \r\nQ 21.484375 6.890625 26.8125 6.890625 \r\nQ 36.078125 6.890625 40.9375 10.546875 \r\nQ 45.796875 14.203125 45.796875 21.1875 \r\nQ 45.796875 27.640625 41.28125 31.265625 \r\nQ 36.765625 34.90625 28.71875 34.90625 \r\nL 20.21875 34.90625 \r\nL 20.21875 43.015625 \r\nL 29.109375 43.015625 \r\nQ 36.375 43.015625 40.234375 45.921875 \r\nQ 44.09375 48.828125 44.09375 54.296875 \r\nQ 44.09375 59.90625 40.109375 62.90625 \r\nQ 36.140625 65.921875 28.71875 65.921875 \r\nQ 24.65625 65.921875 20.015625 65.03125 \r\nQ 15.375 64.15625 9.8125 62.3125 \r\nL 9.8125 71.09375 \r\nQ 15.4375 72.65625 20.34375 73.4375 \r\nQ 25.25 74.21875 29.59375 74.21875 \r\nQ 40.828125 74.21875 47.359375 69.109375 \r\nQ 53.90625 64.015625 53.90625 55.328125 \r\nQ 53.90625 49.265625 50.4375 45.09375 \r\nQ 46.96875 40.921875 40.578125 39.3125 \r\nz\r\n\" id=\"DejaVuSans-51\"/>\r\n       </defs>\r\n       <use xlink:href=\"#DejaVuSans-51\"/>\r\n       <use x=\"63.623047\" xlink:href=\"#DejaVuSans-48\"/>\r\n       <use x=\"127.246094\" xlink:href=\"#DejaVuSans-48\"/>\r\n       <use x=\"190.869141\" xlink:href=\"#DejaVuSans-48\"/>\r\n      </g>\r\n     </g>\r\n    </g>\r\n    <g id=\"xtick_5\">\r\n     <g id=\"line2d_5\">\r\n      <g>\r\n       <use style=\"stroke:#000000;stroke-width:0.8;\" x=\"416.435669\" xlink:href=\"#mf533e6d120\" y=\"224.64\"/>\r\n      </g>\r\n     </g>\r\n     <g id=\"text_5\">\r\n      <!-- 4000 -->\r\n      <g transform=\"translate(403.710669 239.238437)scale(0.1 -0.1)\">\r\n       <defs>\r\n        <path d=\"M 37.796875 64.3125 \r\nL 12.890625 25.390625 \r\nL 37.796875 25.390625 \r\nz\r\nM 35.203125 72.90625 \r\nL 47.609375 72.90625 \r\nL 47.609375 25.390625 \r\nL 58.015625 25.390625 \r\nL 58.015625 17.1875 \r\nL 47.609375 17.1875 \r\nL 47.609375 0 \r\nL 37.796875 0 \r\nL 37.796875 17.1875 \r\nL 4.890625 17.1875 \r\nL 4.890625 26.703125 \r\nz\r\n\" id=\"DejaVuSans-52\"/>\r\n       </defs>\r\n       <use xlink:href=\"#DejaVuSans-52\"/>\r\n       <use x=\"63.623047\" xlink:href=\"#DejaVuSans-48\"/>\r\n       <use x=\"127.246094\" xlink:href=\"#DejaVuSans-48\"/>\r\n       <use x=\"190.869141\" xlink:href=\"#DejaVuSans-48\"/>\r\n      </g>\r\n     </g>\r\n    </g>\r\n   </g>\r\n   <g id=\"matplotlib.axis_2\">\r\n    <g id=\"ytick_1\">\r\n     <g id=\"line2d_6\">\r\n      <defs>\r\n       <path d=\"M 0 0 \r\nL -3.5 0 \r\n\" id=\"m4fe63c8b96\" style=\"stroke:#000000;stroke-width:0.8;\"/>\r\n      </defs>\r\n      <g>\r\n       <use style=\"stroke:#000000;stroke-width:0.8;\" x=\"136.920312\" xlink:href=\"#m4fe63c8b96\" y=\"217.845\"/>\r\n      </g>\r\n     </g>\r\n     <g id=\"text_6\">\r\n      <!-- BOOK -->\r\n      <g transform=\"translate(100.932812 221.644219)scale(0.1 -0.1)\">\r\n       <defs>\r\n        <path d=\"M 19.671875 34.8125 \r\nL 19.671875 8.109375 \r\nL 35.5 8.109375 \r\nQ 43.453125 8.109375 47.28125 11.40625 \r\nQ 51.125 14.703125 51.125 21.484375 \r\nQ 51.125 28.328125 47.28125 31.5625 \r\nQ 43.453125 34.8125 35.5 34.8125 \r\nz\r\nM 19.671875 64.796875 \r\nL 19.671875 42.828125 \r\nL 34.28125 42.828125 \r\nQ 41.5 42.828125 45.03125 45.53125 \r\nQ 48.578125 48.25 48.578125 53.8125 \r\nQ 48.578125 59.328125 45.03125 62.0625 \r\nQ 41.5 64.796875 34.28125 64.796875 \r\nz\r\nM 9.8125 72.90625 \r\nL 35.015625 72.90625 \r\nQ 46.296875 72.90625 52.390625 68.21875 \r\nQ 58.5 63.53125 58.5 54.890625 \r\nQ 58.5 48.1875 55.375 44.234375 \r\nQ 52.25 40.28125 46.1875 39.3125 \r\nQ 53.46875 37.75 57.5 32.78125 \r\nQ 61.53125 27.828125 61.53125 20.40625 \r\nQ 61.53125 10.640625 54.890625 5.3125 \r\nQ 48.25 0 35.984375 0 \r\nL 9.8125 0 \r\nz\r\n\" id=\"DejaVuSans-66\"/>\r\n        <path d=\"M 39.40625 66.21875 \r\nQ 28.65625 66.21875 22.328125 58.203125 \r\nQ 16.015625 50.203125 16.015625 36.375 \r\nQ 16.015625 22.609375 22.328125 14.59375 \r\nQ 28.65625 6.59375 39.40625 6.59375 \r\nQ 50.140625 6.59375 56.421875 14.59375 \r\nQ 62.703125 22.609375 62.703125 36.375 \r\nQ 62.703125 50.203125 56.421875 58.203125 \r\nQ 50.140625 66.21875 39.40625 66.21875 \r\nz\r\nM 39.40625 74.21875 \r\nQ 54.734375 74.21875 63.90625 63.9375 \r\nQ 73.09375 53.65625 73.09375 36.375 \r\nQ 73.09375 19.140625 63.90625 8.859375 \r\nQ 54.734375 -1.421875 39.40625 -1.421875 \r\nQ 24.03125 -1.421875 14.8125 8.828125 \r\nQ 5.609375 19.09375 5.609375 36.375 \r\nQ 5.609375 53.65625 14.8125 63.9375 \r\nQ 24.03125 74.21875 39.40625 74.21875 \r\nz\r\n\" id=\"DejaVuSans-79\"/>\r\n        <path d=\"M 9.8125 72.90625 \r\nL 19.671875 72.90625 \r\nL 19.671875 42.09375 \r\nL 52.390625 72.90625 \r\nL 65.09375 72.90625 \r\nL 28.90625 38.921875 \r\nL 67.671875 0 \r\nL 54.6875 0 \r\nL 19.671875 35.109375 \r\nL 19.671875 0 \r\nL 9.8125 0 \r\nz\r\n\" id=\"DejaVuSans-75\"/>\r\n       </defs>\r\n       <use xlink:href=\"#DejaVuSans-66\"/>\r\n       <use x=\"66.853516\" xlink:href=\"#DejaVuSans-79\"/>\r\n       <use x=\"145.564453\" xlink:href=\"#DejaVuSans-79\"/>\r\n       <use x=\"224.275391\" xlink:href=\"#DejaVuSans-75\"/>\r\n      </g>\r\n     </g>\r\n    </g>\r\n    <g id=\"ytick_2\">\r\n     <g id=\"line2d_7\">\r\n      <g>\r\n       <use style=\"stroke:#000000;stroke-width:0.8;\" x=\"136.920312\" xlink:href=\"#m4fe63c8b96\" y=\"204.255\"/>\r\n      </g>\r\n     </g>\r\n     <g id=\"text_7\">\r\n      <!-- EBOOK -->\r\n      <g transform=\"translate(94.614062 208.054219)scale(0.1 -0.1)\">\r\n       <defs>\r\n        <path d=\"M 9.8125 72.90625 \r\nL 55.90625 72.90625 \r\nL 55.90625 64.59375 \r\nL 19.671875 64.59375 \r\nL 19.671875 43.015625 \r\nL 54.390625 43.015625 \r\nL 54.390625 34.71875 \r\nL 19.671875 34.71875 \r\nL 19.671875 8.296875 \r\nL 56.78125 8.296875 \r\nL 56.78125 0 \r\nL 9.8125 0 \r\nz\r\n\" id=\"DejaVuSans-69\"/>\r\n       </defs>\r\n       <use xlink:href=\"#DejaVuSans-69\"/>\r\n       <use x=\"63.183594\" xlink:href=\"#DejaVuSans-66\"/>\r\n       <use x=\"130.037109\" xlink:href=\"#DejaVuSans-79\"/>\r\n       <use x=\"208.748047\" xlink:href=\"#DejaVuSans-79\"/>\r\n       <use x=\"287.458984\" xlink:href=\"#DejaVuSans-75\"/>\r\n      </g>\r\n     </g>\r\n    </g>\r\n    <g id=\"ytick_3\">\r\n     <g id=\"line2d_8\">\r\n      <g>\r\n       <use style=\"stroke:#000000;stroke-width:0.8;\" x=\"136.920312\" xlink:href=\"#m4fe63c8b96\" y=\"190.665\"/>\r\n      </g>\r\n     </g>\r\n     <g id=\"text_8\">\r\n      <!-- AUDIOBOOK -->\r\n      <g transform=\"translate(68.251562 194.464219)scale(0.1 -0.1)\">\r\n       <defs>\r\n        <path d=\"M 34.1875 63.1875 \r\nL 20.796875 26.90625 \r\nL 47.609375 26.90625 \r\nz\r\nM 28.609375 72.90625 \r\nL 39.796875 72.90625 \r\nL 67.578125 0 \r\nL 57.328125 0 \r\nL 50.6875 18.703125 \r\nL 17.828125 18.703125 \r\nL 11.1875 0 \r\nL 0.78125 0 \r\nz\r\n\" id=\"DejaVuSans-65\"/>\r\n        <path d=\"M 8.6875 72.90625 \r\nL 18.609375 72.90625 \r\nL 18.609375 28.609375 \r\nQ 18.609375 16.890625 22.84375 11.734375 \r\nQ 27.09375 6.59375 36.625 6.59375 \r\nQ 46.09375 6.59375 50.34375 11.734375 \r\nQ 54.59375 16.890625 54.59375 28.609375 \r\nL 54.59375 72.90625 \r\nL 64.5 72.90625 \r\nL 64.5 27.390625 \r\nQ 64.5 13.140625 57.4375 5.859375 \r\nQ 50.390625 -1.421875 36.625 -1.421875 \r\nQ 22.796875 -1.421875 15.734375 5.859375 \r\nQ 8.6875 13.140625 8.6875 27.390625 \r\nz\r\n\" id=\"DejaVuSans-85\"/>\r\n        <path d=\"M 19.671875 64.796875 \r\nL 19.671875 8.109375 \r\nL 31.59375 8.109375 \r\nQ 46.6875 8.109375 53.6875 14.9375 \r\nQ 60.6875 21.78125 60.6875 36.53125 \r\nQ 60.6875 51.171875 53.6875 57.984375 \r\nQ 46.6875 64.796875 31.59375 64.796875 \r\nz\r\nM 9.8125 72.90625 \r\nL 30.078125 72.90625 \r\nQ 51.265625 72.90625 61.171875 64.09375 \r\nQ 71.09375 55.28125 71.09375 36.53125 \r\nQ 71.09375 17.671875 61.125 8.828125 \r\nQ 51.171875 0 30.078125 0 \r\nL 9.8125 0 \r\nz\r\n\" id=\"DejaVuSans-68\"/>\r\n        <path d=\"M 9.8125 72.90625 \r\nL 19.671875 72.90625 \r\nL 19.671875 0 \r\nL 9.8125 0 \r\nz\r\n\" id=\"DejaVuSans-73\"/>\r\n       </defs>\r\n       <use xlink:href=\"#DejaVuSans-65\"/>\r\n       <use x=\"68.408203\" xlink:href=\"#DejaVuSans-85\"/>\r\n       <use x=\"141.601562\" xlink:href=\"#DejaVuSans-68\"/>\r\n       <use x=\"218.603516\" xlink:href=\"#DejaVuSans-73\"/>\r\n       <use x=\"248.095703\" xlink:href=\"#DejaVuSans-79\"/>\r\n       <use x=\"326.806641\" xlink:href=\"#DejaVuSans-66\"/>\r\n       <use x=\"393.660156\" xlink:href=\"#DejaVuSans-79\"/>\r\n       <use x=\"472.371094\" xlink:href=\"#DejaVuSans-79\"/>\r\n       <use x=\"551.082031\" xlink:href=\"#DejaVuSans-75\"/>\r\n      </g>\r\n     </g>\r\n    </g>\r\n    <g id=\"ytick_4\">\r\n     <g id=\"line2d_9\">\r\n      <g>\r\n       <use style=\"stroke:#000000;stroke-width:0.8;\" x=\"136.920312\" xlink:href=\"#m4fe63c8b96\" y=\"177.075\"/>\r\n      </g>\r\n     </g>\r\n     <g id=\"text_9\">\r\n      <!-- SOUNDDISC -->\r\n      <g transform=\"translate(69.21875 180.874219)scale(0.1 -0.1)\">\r\n       <defs>\r\n        <path d=\"M 53.515625 70.515625 \r\nL 53.515625 60.890625 \r\nQ 47.90625 63.578125 42.921875 64.890625 \r\nQ 37.9375 66.21875 33.296875 66.21875 \r\nQ 25.25 66.21875 20.875 63.09375 \r\nQ 16.5 59.96875 16.5 54.203125 \r\nQ 16.5 49.359375 19.40625 46.890625 \r\nQ 22.3125 44.4375 30.421875 42.921875 \r\nL 36.375 41.703125 \r\nQ 47.40625 39.59375 52.65625 34.296875 \r\nQ 57.90625 29 57.90625 20.125 \r\nQ 57.90625 9.515625 50.796875 4.046875 \r\nQ 43.703125 -1.421875 29.984375 -1.421875 \r\nQ 24.8125 -1.421875 18.96875 -0.25 \r\nQ 13.140625 0.921875 6.890625 3.21875 \r\nL 6.890625 13.375 \r\nQ 12.890625 10.015625 18.65625 8.296875 \r\nQ 24.421875 6.59375 29.984375 6.59375 \r\nQ 38.421875 6.59375 43.015625 9.90625 \r\nQ 47.609375 13.234375 47.609375 19.390625 \r\nQ 47.609375 24.75 44.3125 27.78125 \r\nQ 41.015625 30.8125 33.5 32.328125 \r\nL 27.484375 33.5 \r\nQ 16.453125 35.6875 11.515625 40.375 \r\nQ 6.59375 45.0625 6.59375 53.421875 \r\nQ 6.59375 63.09375 13.40625 68.65625 \r\nQ 20.21875 74.21875 32.171875 74.21875 \r\nQ 37.3125 74.21875 42.625 73.28125 \r\nQ 47.953125 72.359375 53.515625 70.515625 \r\nz\r\n\" id=\"DejaVuSans-83\"/>\r\n        <path d=\"M 9.8125 72.90625 \r\nL 23.09375 72.90625 \r\nL 55.421875 11.921875 \r\nL 55.421875 72.90625 \r\nL 64.984375 72.90625 \r\nL 64.984375 0 \r\nL 51.703125 0 \r\nL 19.390625 60.984375 \r\nL 19.390625 0 \r\nL 9.8125 0 \r\nz\r\n\" id=\"DejaVuSans-78\"/>\r\n        <path d=\"M 64.40625 67.28125 \r\nL 64.40625 56.890625 \r\nQ 59.421875 61.53125 53.78125 63.8125 \r\nQ 48.140625 66.109375 41.796875 66.109375 \r\nQ 29.296875 66.109375 22.65625 58.46875 \r\nQ 16.015625 50.828125 16.015625 36.375 \r\nQ 16.015625 21.96875 22.65625 14.328125 \r\nQ 29.296875 6.6875 41.796875 6.6875 \r\nQ 48.140625 6.6875 53.78125 8.984375 \r\nQ 59.421875 11.28125 64.40625 15.921875 \r\nL 64.40625 5.609375 \r\nQ 59.234375 2.09375 53.4375 0.328125 \r\nQ 47.65625 -1.421875 41.21875 -1.421875 \r\nQ 24.65625 -1.421875 15.125 8.703125 \r\nQ 5.609375 18.84375 5.609375 36.375 \r\nQ 5.609375 53.953125 15.125 64.078125 \r\nQ 24.65625 74.21875 41.21875 74.21875 \r\nQ 47.75 74.21875 53.53125 72.484375 \r\nQ 59.328125 70.75 64.40625 67.28125 \r\nz\r\n\" id=\"DejaVuSans-67\"/>\r\n       </defs>\r\n       <use xlink:href=\"#DejaVuSans-83\"/>\r\n       <use x=\"63.476562\" xlink:href=\"#DejaVuSans-79\"/>\r\n       <use x=\"142.1875\" xlink:href=\"#DejaVuSans-85\"/>\r\n       <use x=\"215.380859\" xlink:href=\"#DejaVuSans-78\"/>\r\n       <use x=\"290.185547\" xlink:href=\"#DejaVuSans-68\"/>\r\n       <use x=\"367.1875\" xlink:href=\"#DejaVuSans-68\"/>\r\n       <use x=\"444.189453\" xlink:href=\"#DejaVuSans-73\"/>\r\n       <use x=\"473.681641\" xlink:href=\"#DejaVuSans-83\"/>\r\n       <use x=\"537.158203\" xlink:href=\"#DejaVuSans-67\"/>\r\n      </g>\r\n     </g>\r\n    </g>\r\n    <g id=\"ytick_5\">\r\n     <g id=\"line2d_10\">\r\n      <g>\r\n       <use style=\"stroke:#000000;stroke-width:0.8;\" x=\"136.920312\" xlink:href=\"#m4fe63c8b96\" y=\"163.485\"/>\r\n      </g>\r\n     </g>\r\n     <g id=\"text_10\">\r\n      <!-- VIDEODISC -->\r\n      <g transform=\"translate(74.257812 167.284219)scale(0.1 -0.1)\">\r\n       <defs>\r\n        <path d=\"M 28.609375 0 \r\nL 0.78125 72.90625 \r\nL 11.078125 72.90625 \r\nL 34.1875 11.53125 \r\nL 57.328125 72.90625 \r\nL 67.578125 72.90625 \r\nL 39.796875 0 \r\nz\r\n\" id=\"DejaVuSans-86\"/>\r\n       </defs>\r\n       <use xlink:href=\"#DejaVuSans-86\"/>\r\n       <use x=\"68.408203\" xlink:href=\"#DejaVuSans-73\"/>\r\n       <use x=\"97.900391\" xlink:href=\"#DejaVuSans-68\"/>\r\n       <use x=\"174.902344\" xlink:href=\"#DejaVuSans-69\"/>\r\n       <use x=\"238.085938\" xlink:href=\"#DejaVuSans-79\"/>\r\n       <use x=\"316.796875\" xlink:href=\"#DejaVuSans-68\"/>\r\n       <use x=\"393.798828\" xlink:href=\"#DejaVuSans-73\"/>\r\n       <use x=\"423.291016\" xlink:href=\"#DejaVuSans-83\"/>\r\n       <use x=\"486.767578\" xlink:href=\"#DejaVuSans-67\"/>\r\n      </g>\r\n     </g>\r\n    </g>\r\n    <g id=\"ytick_6\">\r\n     <g id=\"line2d_11\">\r\n      <g>\r\n       <use style=\"stroke:#000000;stroke-width:0.8;\" x=\"136.920312\" xlink:href=\"#m4fe63c8b96\" y=\"149.895\"/>\r\n      </g>\r\n     </g>\r\n     <g id=\"text_11\">\r\n      <!-- MUSIC -->\r\n      <g transform=\"translate(97.692187 153.694219)scale(0.1 -0.1)\">\r\n       <defs>\r\n        <path d=\"M 9.8125 72.90625 \r\nL 24.515625 72.90625 \r\nL 43.109375 23.296875 \r\nL 61.8125 72.90625 \r\nL 76.515625 72.90625 \r\nL 76.515625 0 \r\nL 66.890625 0 \r\nL 66.890625 64.015625 \r\nL 48.09375 14.015625 \r\nL 38.1875 14.015625 \r\nL 19.390625 64.015625 \r\nL 19.390625 0 \r\nL 9.8125 0 \r\nz\r\n\" id=\"DejaVuSans-77\"/>\r\n       </defs>\r\n       <use xlink:href=\"#DejaVuSans-77\"/>\r\n       <use x=\"86.279297\" xlink:href=\"#DejaVuSans-85\"/>\r\n       <use x=\"159.472656\" xlink:href=\"#DejaVuSans-83\"/>\r\n       <use x=\"222.949219\" xlink:href=\"#DejaVuSans-73\"/>\r\n       <use x=\"252.441406\" xlink:href=\"#DejaVuSans-67\"/>\r\n      </g>\r\n     </g>\r\n    </g>\r\n    <g id=\"ytick_7\">\r\n     <g id=\"line2d_12\">\r\n      <g>\r\n       <use style=\"stroke:#000000;stroke-width:0.8;\" x=\"136.920312\" xlink:href=\"#m4fe63c8b96\" y=\"136.305\"/>\r\n      </g>\r\n     </g>\r\n     <g id=\"text_12\">\r\n      <!-- REGPRINT -->\r\n      <g transform=\"translate(79.3875 140.104219)scale(0.1 -0.1)\">\r\n       <defs>\r\n        <path d=\"M 44.390625 34.1875 \r\nQ 47.5625 33.109375 50.5625 29.59375 \r\nQ 53.5625 26.078125 56.59375 19.921875 \r\nL 66.609375 0 \r\nL 56 0 \r\nL 46.6875 18.703125 \r\nQ 43.0625 26.03125 39.671875 28.421875 \r\nQ 36.28125 30.8125 30.421875 30.8125 \r\nL 19.671875 30.8125 \r\nL 19.671875 0 \r\nL 9.8125 0 \r\nL 9.8125 72.90625 \r\nL 32.078125 72.90625 \r\nQ 44.578125 72.90625 50.734375 67.671875 \r\nQ 56.890625 62.453125 56.890625 51.90625 \r\nQ 56.890625 45.015625 53.6875 40.46875 \r\nQ 50.484375 35.9375 44.390625 34.1875 \r\nz\r\nM 19.671875 64.796875 \r\nL 19.671875 38.921875 \r\nL 32.078125 38.921875 \r\nQ 39.203125 38.921875 42.84375 42.21875 \r\nQ 46.484375 45.515625 46.484375 51.90625 \r\nQ 46.484375 58.296875 42.84375 61.546875 \r\nQ 39.203125 64.796875 32.078125 64.796875 \r\nz\r\n\" id=\"DejaVuSans-82\"/>\r\n        <path d=\"M 59.515625 10.40625 \r\nL 59.515625 29.984375 \r\nL 43.40625 29.984375 \r\nL 43.40625 38.09375 \r\nL 69.28125 38.09375 \r\nL 69.28125 6.78125 \r\nQ 63.578125 2.734375 56.6875 0.65625 \r\nQ 49.8125 -1.421875 42 -1.421875 \r\nQ 24.90625 -1.421875 15.25 8.5625 \r\nQ 5.609375 18.5625 5.609375 36.375 \r\nQ 5.609375 54.25 15.25 64.234375 \r\nQ 24.90625 74.21875 42 74.21875 \r\nQ 49.125 74.21875 55.546875 72.453125 \r\nQ 61.96875 70.703125 67.390625 67.28125 \r\nL 67.390625 56.78125 \r\nQ 61.921875 61.421875 55.765625 63.765625 \r\nQ 49.609375 66.109375 42.828125 66.109375 \r\nQ 29.4375 66.109375 22.71875 58.640625 \r\nQ 16.015625 51.171875 16.015625 36.375 \r\nQ 16.015625 21.625 22.71875 14.15625 \r\nQ 29.4375 6.6875 42.828125 6.6875 \r\nQ 48.046875 6.6875 52.140625 7.59375 \r\nQ 56.25 8.5 59.515625 10.40625 \r\nz\r\n\" id=\"DejaVuSans-71\"/>\r\n        <path d=\"M 19.671875 64.796875 \r\nL 19.671875 37.40625 \r\nL 32.078125 37.40625 \r\nQ 38.96875 37.40625 42.71875 40.96875 \r\nQ 46.484375 44.53125 46.484375 51.125 \r\nQ 46.484375 57.671875 42.71875 61.234375 \r\nQ 38.96875 64.796875 32.078125 64.796875 \r\nz\r\nM 9.8125 72.90625 \r\nL 32.078125 72.90625 \r\nQ 44.34375 72.90625 50.609375 67.359375 \r\nQ 56.890625 61.8125 56.890625 51.125 \r\nQ 56.890625 40.328125 50.609375 34.8125 \r\nQ 44.34375 29.296875 32.078125 29.296875 \r\nL 19.671875 29.296875 \r\nL 19.671875 0 \r\nL 9.8125 0 \r\nz\r\n\" id=\"DejaVuSans-80\"/>\r\n        <path d=\"M -0.296875 72.90625 \r\nL 61.375 72.90625 \r\nL 61.375 64.59375 \r\nL 35.5 64.59375 \r\nL 35.5 0 \r\nL 25.59375 0 \r\nL 25.59375 64.59375 \r\nL -0.296875 64.59375 \r\nz\r\n\" id=\"DejaVuSans-84\"/>\r\n       </defs>\r\n       <use xlink:href=\"#DejaVuSans-82\"/>\r\n       <use x=\"69.482422\" xlink:href=\"#DejaVuSans-69\"/>\r\n       <use x=\"132.666016\" xlink:href=\"#DejaVuSans-71\"/>\r\n       <use x=\"210.15625\" xlink:href=\"#DejaVuSans-80\"/>\r\n       <use x=\"270.458984\" xlink:href=\"#DejaVuSans-82\"/>\r\n       <use x=\"339.941406\" xlink:href=\"#DejaVuSans-73\"/>\r\n       <use x=\"369.433594\" xlink:href=\"#DejaVuSans-78\"/>\r\n       <use x=\"444.238281\" xlink:href=\"#DejaVuSans-84\"/>\r\n      </g>\r\n     </g>\r\n    </g>\r\n    <g id=\"ytick_8\">\r\n     <g id=\"line2d_13\">\r\n      <g>\r\n       <use style=\"stroke:#000000;stroke-width:0.8;\" x=\"136.920312\" xlink:href=\"#m4fe63c8b96\" y=\"122.715\"/>\r\n      </g>\r\n     </g>\r\n     <g id=\"text_13\">\r\n      <!-- SOUNDDISC, VIDEODISC -->\r\n      <g transform=\"translate(7.2 126.514219)scale(0.1 -0.1)\">\r\n       <defs>\r\n        <path d=\"M 11.71875 12.40625 \r\nL 22.015625 12.40625 \r\nL 22.015625 4 \r\nL 14.015625 -11.625 \r\nL 7.71875 -11.625 \r\nL 11.71875 4 \r\nz\r\n\" id=\"DejaVuSans-44\"/>\r\n        <path id=\"DejaVuSans-32\"/>\r\n       </defs>\r\n       <use xlink:href=\"#DejaVuSans-83\"/>\r\n       <use x=\"63.476562\" xlink:href=\"#DejaVuSans-79\"/>\r\n       <use x=\"142.1875\" xlink:href=\"#DejaVuSans-85\"/>\r\n       <use x=\"215.380859\" xlink:href=\"#DejaVuSans-78\"/>\r\n       <use x=\"290.185547\" xlink:href=\"#DejaVuSans-68\"/>\r\n       <use x=\"367.1875\" xlink:href=\"#DejaVuSans-68\"/>\r\n       <use x=\"444.189453\" xlink:href=\"#DejaVuSans-73\"/>\r\n       <use x=\"473.681641\" xlink:href=\"#DejaVuSans-83\"/>\r\n       <use x=\"537.158203\" xlink:href=\"#DejaVuSans-67\"/>\r\n       <use x=\"606.982422\" xlink:href=\"#DejaVuSans-44\"/>\r\n       <use x=\"638.769531\" xlink:href=\"#DejaVuSans-32\"/>\r\n       <use x=\"670.556641\" xlink:href=\"#DejaVuSans-86\"/>\r\n       <use x=\"738.964844\" xlink:href=\"#DejaVuSans-73\"/>\r\n       <use x=\"768.457031\" xlink:href=\"#DejaVuSans-68\"/>\r\n       <use x=\"845.458984\" xlink:href=\"#DejaVuSans-69\"/>\r\n       <use x=\"908.642578\" xlink:href=\"#DejaVuSans-79\"/>\r\n       <use x=\"987.353516\" xlink:href=\"#DejaVuSans-68\"/>\r\n       <use x=\"1064.355469\" xlink:href=\"#DejaVuSans-73\"/>\r\n       <use x=\"1093.847656\" xlink:href=\"#DejaVuSans-83\"/>\r\n       <use x=\"1157.324219\" xlink:href=\"#DejaVuSans-67\"/>\r\n      </g>\r\n     </g>\r\n    </g>\r\n    <g id=\"ytick_9\">\r\n     <g id=\"line2d_14\">\r\n      <g>\r\n       <use style=\"stroke:#000000;stroke-width:0.8;\" x=\"136.920312\" xlink:href=\"#m4fe63c8b96\" y=\"109.125\"/>\r\n      </g>\r\n     </g>\r\n     <g id=\"text_14\">\r\n      <!-- ER -->\r\n      <g transform=\"translate(116.653125 112.924219)scale(0.1 -0.1)\">\r\n       <use xlink:href=\"#DejaVuSans-69\"/>\r\n       <use x=\"63.183594\" xlink:href=\"#DejaVuSans-82\"/>\r\n      </g>\r\n     </g>\r\n    </g>\r\n    <g id=\"ytick_10\">\r\n     <g id=\"line2d_15\">\r\n      <g>\r\n       <use style=\"stroke:#000000;stroke-width:0.8;\" x=\"136.920312\" xlink:href=\"#m4fe63c8b96\" y=\"95.535\"/>\r\n      </g>\r\n     </g>\r\n     <g id=\"text_15\">\r\n      <!-- VIDEO -->\r\n      <g transform=\"translate(98.239062 99.334219)scale(0.1 -0.1)\">\r\n       <use xlink:href=\"#DejaVuSans-86\"/>\r\n       <use x=\"68.408203\" xlink:href=\"#DejaVuSans-73\"/>\r\n       <use x=\"97.900391\" xlink:href=\"#DejaVuSans-68\"/>\r\n       <use x=\"174.902344\" xlink:href=\"#DejaVuSans-69\"/>\r\n       <use x=\"238.085938\" xlink:href=\"#DejaVuSans-79\"/>\r\n      </g>\r\n     </g>\r\n    </g>\r\n    <g id=\"ytick_11\">\r\n     <g id=\"line2d_16\">\r\n      <g>\r\n       <use style=\"stroke:#000000;stroke-width:0.8;\" x=\"136.920312\" xlink:href=\"#m4fe63c8b96\" y=\"81.945\"/>\r\n      </g>\r\n     </g>\r\n     <g id=\"text_16\">\r\n      <!-- MAGAZINE -->\r\n      <g transform=\"translate(76.4375 85.744219)scale(0.1 -0.1)\">\r\n       <defs>\r\n        <path d=\"M 5.609375 72.90625 \r\nL 62.890625 72.90625 \r\nL 62.890625 65.375 \r\nL 16.796875 8.296875 \r\nL 64.015625 8.296875 \r\nL 64.015625 0 \r\nL 4.5 0 \r\nL 4.5 7.515625 \r\nL 50.59375 64.59375 \r\nL 5.609375 64.59375 \r\nz\r\n\" id=\"DejaVuSans-90\"/>\r\n       </defs>\r\n       <use xlink:href=\"#DejaVuSans-77\"/>\r\n       <use x=\"86.279297\" xlink:href=\"#DejaVuSans-65\"/>\r\n       <use x=\"152.9375\" xlink:href=\"#DejaVuSans-71\"/>\r\n       <use x=\"230.427734\" xlink:href=\"#DejaVuSans-65\"/>\r\n       <use x=\"298.835938\" xlink:href=\"#DejaVuSans-90\"/>\r\n       <use x=\"367.341797\" xlink:href=\"#DejaVuSans-73\"/>\r\n       <use x=\"396.833984\" xlink:href=\"#DejaVuSans-78\"/>\r\n       <use x=\"471.638672\" xlink:href=\"#DejaVuSans-69\"/>\r\n      </g>\r\n     </g>\r\n    </g>\r\n    <g id=\"ytick_12\">\r\n     <g id=\"line2d_17\">\r\n      <g>\r\n       <use style=\"stroke:#000000;stroke-width:0.8;\" x=\"136.920312\" xlink:href=\"#m4fe63c8b96\" y=\"68.355\"/>\r\n      </g>\r\n     </g>\r\n     <g id=\"text_17\">\r\n      <!-- CR -->\r\n      <g transform=\"translate(115.989062 72.154219)scale(0.1 -0.1)\">\r\n       <use xlink:href=\"#DejaVuSans-67\"/>\r\n       <use x=\"69.824219\" xlink:href=\"#DejaVuSans-82\"/>\r\n      </g>\r\n     </g>\r\n    </g>\r\n    <g id=\"ytick_13\">\r\n     <g id=\"line2d_18\">\r\n      <g>\r\n       <use style=\"stroke:#000000;stroke-width:0.8;\" x=\"136.920312\" xlink:href=\"#m4fe63c8b96\" y=\"54.765\"/>\r\n      </g>\r\n     </g>\r\n     <g id=\"text_18\">\r\n      <!-- SOUNDREC -->\r\n      <g transform=\"translate(72.95 58.564219)scale(0.1 -0.1)\">\r\n       <use xlink:href=\"#DejaVuSans-83\"/>\r\n       <use x=\"63.476562\" xlink:href=\"#DejaVuSans-79\"/>\r\n       <use x=\"142.1875\" xlink:href=\"#DejaVuSans-85\"/>\r\n       <use x=\"215.380859\" xlink:href=\"#DejaVuSans-78\"/>\r\n       <use x=\"290.185547\" xlink:href=\"#DejaVuSans-68\"/>\r\n       <use x=\"367.1875\" xlink:href=\"#DejaVuSans-82\"/>\r\n       <use x=\"436.669922\" xlink:href=\"#DejaVuSans-69\"/>\r\n       <use x=\"499.853516\" xlink:href=\"#DejaVuSans-67\"/>\r\n      </g>\r\n     </g>\r\n    </g>\r\n    <g id=\"ytick_14\">\r\n     <g id=\"line2d_19\">\r\n      <g>\r\n       <use style=\"stroke:#000000;stroke-width:0.8;\" x=\"136.920312\" xlink:href=\"#m4fe63c8b96\" y=\"41.175\"/>\r\n      </g>\r\n     </g>\r\n     <g id=\"text_19\">\r\n      <!-- LARGEPRINT -->\r\n      <g transform=\"translate(66.75 44.974219)scale(0.1 -0.1)\">\r\n       <defs>\r\n        <path d=\"M 9.8125 72.90625 \r\nL 19.671875 72.90625 \r\nL 19.671875 8.296875 \r\nL 55.171875 8.296875 \r\nL 55.171875 0 \r\nL 9.8125 0 \r\nz\r\n\" id=\"DejaVuSans-76\"/>\r\n       </defs>\r\n       <use xlink:href=\"#DejaVuSans-76\"/>\r\n       <use x=\"57.962891\" xlink:href=\"#DejaVuSans-65\"/>\r\n       <use x=\"126.371094\" xlink:href=\"#DejaVuSans-82\"/>\r\n       <use x=\"195.853516\" xlink:href=\"#DejaVuSans-71\"/>\r\n       <use x=\"273.34375\" xlink:href=\"#DejaVuSans-69\"/>\r\n       <use x=\"336.527344\" xlink:href=\"#DejaVuSans-80\"/>\r\n       <use x=\"396.830078\" xlink:href=\"#DejaVuSans-82\"/>\r\n       <use x=\"466.3125\" xlink:href=\"#DejaVuSans-73\"/>\r\n       <use x=\"495.804688\" xlink:href=\"#DejaVuSans-78\"/>\r\n       <use x=\"570.609375\" xlink:href=\"#DejaVuSans-84\"/>\r\n      </g>\r\n     </g>\r\n    </g>\r\n    <g id=\"ytick_15\">\r\n     <g id=\"line2d_20\">\r\n      <g>\r\n       <use style=\"stroke:#000000;stroke-width:0.8;\" x=\"136.920312\" xlink:href=\"#m4fe63c8b96\" y=\"27.585\"/>\r\n      </g>\r\n     </g>\r\n     <g id=\"text_20\">\r\n      <!-- ER, SOUNDDISC -->\r\n      <g transform=\"translate(49.595312 31.384219)scale(0.1 -0.1)\">\r\n       <use xlink:href=\"#DejaVuSans-69\"/>\r\n       <use x=\"63.183594\" xlink:href=\"#DejaVuSans-82\"/>\r\n       <use x=\"132.666016\" xlink:href=\"#DejaVuSans-44\"/>\r\n       <use x=\"164.453125\" xlink:href=\"#DejaVuSans-32\"/>\r\n       <use x=\"196.240234\" xlink:href=\"#DejaVuSans-83\"/>\r\n       <use x=\"259.716797\" xlink:href=\"#DejaVuSans-79\"/>\r\n       <use x=\"338.427734\" xlink:href=\"#DejaVuSans-85\"/>\r\n       <use x=\"411.621094\" xlink:href=\"#DejaVuSans-78\"/>\r\n       <use x=\"486.425781\" xlink:href=\"#DejaVuSans-68\"/>\r\n       <use x=\"563.427734\" xlink:href=\"#DejaVuSans-68\"/>\r\n       <use x=\"640.429688\" xlink:href=\"#DejaVuSans-73\"/>\r\n       <use x=\"669.921875\" xlink:href=\"#DejaVuSans-83\"/>\r\n       <use x=\"733.398438\" xlink:href=\"#DejaVuSans-67\"/>\r\n      </g>\r\n     </g>\r\n    </g>\r\n    <g id=\"ytick_16\">\r\n     <g id=\"line2d_21\">\r\n      <g>\r\n       <use style=\"stroke:#000000;stroke-width:0.8;\" x=\"136.920312\" xlink:href=\"#m4fe63c8b96\" y=\"13.995\"/>\r\n      </g>\r\n     </g>\r\n     <g id=\"text_21\">\r\n      <!-- MIXED -->\r\n      <g transform=\"translate(97.473437 17.794219)scale(0.1 -0.1)\">\r\n       <defs>\r\n        <path d=\"M 6.296875 72.90625 \r\nL 16.890625 72.90625 \r\nL 35.015625 45.796875 \r\nL 53.21875 72.90625 \r\nL 63.8125 72.90625 \r\nL 40.375 37.890625 \r\nL 65.375 0 \r\nL 54.78125 0 \r\nL 34.28125 31 \r\nL 13.625 0 \r\nL 2.984375 0 \r\nL 29 38.921875 \r\nz\r\n\" id=\"DejaVuSans-88\"/>\r\n       </defs>\r\n       <use xlink:href=\"#DejaVuSans-77\"/>\r\n       <use x=\"86.279297\" xlink:href=\"#DejaVuSans-73\"/>\r\n       <use x=\"115.771484\" xlink:href=\"#DejaVuSans-88\"/>\r\n       <use x=\"184.277344\" xlink:href=\"#DejaVuSans-69\"/>\r\n       <use x=\"247.460938\" xlink:href=\"#DejaVuSans-68\"/>\r\n      </g>\r\n     </g>\r\n    </g>\r\n   </g>\r\n   <g id=\"patch_19\">\r\n    <path d=\"M 136.920312 224.64 \r\nL 136.920312 7.2 \r\n\" style=\"fill:none;stroke:#000000;stroke-linecap:square;stroke-linejoin:miter;stroke-width:0.8;\"/>\r\n   </g>\r\n   <g id=\"patch_20\">\r\n    <path d=\"M 471.720312 224.64 \r\nL 471.720312 7.2 \r\n\" style=\"fill:none;stroke:#000000;stroke-linecap:square;stroke-linejoin:miter;stroke-width:0.8;\"/>\r\n   </g>\r\n   <g id=\"patch_21\">\r\n    <path d=\"M 136.920312 224.64 \r\nL 471.720312 224.64 \r\n\" style=\"fill:none;stroke:#000000;stroke-linecap:square;stroke-linejoin:miter;stroke-width:0.8;\"/>\r\n   </g>\r\n   <g id=\"patch_22\">\r\n    <path d=\"M 136.920312 7.2 \r\nL 471.720312 7.2 \r\n\" style=\"fill:none;stroke:#000000;stroke-linecap:square;stroke-linejoin:miter;stroke-width:0.8;\"/>\r\n   </g>\r\n  </g>\r\n </g>\r\n <defs>\r\n  <clipPath id=\"pd09db178a9\">\r\n   <rect height=\"217.44\" width=\"334.8\" x=\"136.920312\" y=\"7.2\"/>\r\n  </clipPath>\r\n </defs>\r\n</svg>\r\n",
      "image/png": "[encoded data removed]"
     },
     "metadata": {
      "needs_background": "light"
     }
    }
   ],
   "source": [
    "checkouts_df[\"materialtype\"].value_counts().plot(kind=\"barh\") #horizontal"
   ]
  },
  {
   "cell_type": "code",
   "execution_count": 33,
   "metadata": {},
   "outputs": [
    {
     "output_type": "execute_result",
     "data": {
      "text/plain": [
       "<AxesSubplot:>"
      ]
     },
     "metadata": {},
     "execution_count": 33
    },
    {
     "output_type": "display_data",
     "data": {
      "text/plain": "<Figure size 432x288 with 1 Axes>",
      "image/svg+xml": "<?xml version=\"1.0\" encoding=\"utf-8\" standalone=\"no\"?>\r\n<!DOCTYPE svg PUBLIC \"-//W3C//DTD SVG 1.1//EN\"\r\n  \"http://www.w3.org/Graphics/SVG/1.1/DTD/svg11.dtd\">\r\n<!-- Created with matplotlib (https://matplotlib.org/) -->\r\n<svg height=\"248.518125pt\" version=\"1.1\" viewBox=\"0 0 390.155627 248.518125\" width=\"390.155627pt\" xmlns=\"http://www.w3.org/2000/svg\" xmlns:xlink=\"http://www.w3.org/1999/xlink\">\r\n <metadata>\r\n  <rdf:RDF xmlns:cc=\"http://creativecommons.org/ns#\" xmlns:dc=\"http://purl.org/dc/elements/1.1/\" xmlns:rdf=\"http://www.w3.org/1999/02/22-rdf-syntax-ns#\">\r\n   <cc:Work>\r\n    <dc:type rdf:resource=\"http://purl.org/dc/dcmitype/StillImage\"/>\r\n    <dc:date>2020-12-14T12:49:52.995006</dc:date>\r\n    <dc:format>image/svg+xml</dc:format>\r\n    <dc:creator>\r\n     <cc:Agent>\r\n      <dc:title>Matplotlib v3.3.3, https://matplotlib.org/</dc:title>\r\n     </cc:Agent>\r\n    </dc:creator>\r\n   </cc:Work>\r\n  </rdf:RDF>\r\n </metadata>\r\n <defs>\r\n  <style type=\"text/css\">*{stroke-linecap:butt;stroke-linejoin:round;}</style>\r\n </defs>\r\n <g id=\"figure_1\">\r\n  <g id=\"patch_1\">\r\n   <path d=\"M 0 248.518125 \r\nL 390.155627 248.518125 \r\nL 390.155627 0 \r\nL 0 0 \r\nz\r\n\" style=\"fill:none;\"/>\r\n  </g>\r\n  <g id=\"axes_1\">\r\n   <g id=\"patch_2\">\r\n    <path d=\"M 46.0125 224.64 \r\nL 380.8125 224.64 \r\nL 380.8125 7.2 \r\nL 46.0125 7.2 \r\nz\r\n\" style=\"fill:#ffffff;\"/>\r\n   </g>\r\n   <g id=\"patch_3\">\r\n    <path clip-path=\"url(#p940915e741)\" d=\"M 61.230682 224.64 \r\nL 91.667045 224.64 \r\nL 91.667045 17.554286 \r\nL 61.230682 17.554286 \r\nz\r\n\" style=\"fill:#1f77b4;\"/>\r\n   </g>\r\n   <g id=\"patch_4\">\r\n    <path clip-path=\"url(#p940915e741)\" d=\"M 91.667045 224.64 \r\nL 122.103409 224.64 \r\nL 122.103409 224.224499 \r\nL 91.667045 224.224499 \r\nz\r\n\" style=\"fill:#1f77b4;\"/>\r\n   </g>\r\n   <g id=\"patch_5\">\r\n    <path clip-path=\"url(#p940915e741)\" d=\"M 122.103409 224.64 \r\nL 152.539773 224.64 \r\nL 152.539773 224.51535 \r\nL 122.103409 224.51535 \r\nz\r\n\" style=\"fill:#1f77b4;\"/>\r\n   </g>\r\n   <g id=\"patch_6\">\r\n    <path clip-path=\"url(#p940915e741)\" d=\"M 152.539773 224.64 \r\nL 182.976136 224.64 \r\nL 182.976136 224.577675 \r\nL 152.539773 224.577675 \r\nz\r\n\" style=\"fill:#1f77b4;\"/>\r\n   </g>\r\n   <g id=\"patch_7\">\r\n    <path clip-path=\"url(#p940915e741)\" d=\"M 182.976136 224.64 \r\nL 213.4125 224.64 \r\nL 213.4125 224.619225 \r\nL 182.976136 224.619225 \r\nz\r\n\" style=\"fill:#1f77b4;\"/>\r\n   </g>\r\n   <g id=\"patch_8\">\r\n    <path clip-path=\"url(#p940915e741)\" d=\"M 213.4125 224.64 \r\nL 243.848864 224.64 \r\nL 243.848864 224.619225 \r\nL 213.4125 224.619225 \r\nz\r\n\" style=\"fill:#1f77b4;\"/>\r\n   </g>\r\n   <g id=\"patch_9\">\r\n    <path clip-path=\"url(#p940915e741)\" d=\"M 243.848864 224.64 \r\nL 274.285227 224.64 \r\nL 274.285227 224.64 \r\nL 243.848864 224.64 \r\nz\r\n\" style=\"fill:#1f77b4;\"/>\r\n   </g>\r\n   <g id=\"patch_10\">\r\n    <path clip-path=\"url(#p940915e741)\" d=\"M 274.285227 224.64 \r\nL 304.721591 224.64 \r\nL 304.721591 224.64 \r\nL 274.285227 224.64 \r\nz\r\n\" style=\"fill:#1f77b4;\"/>\r\n   </g>\r\n   <g id=\"patch_11\">\r\n    <path clip-path=\"url(#p940915e741)\" d=\"M 304.721591 224.64 \r\nL 335.157955 224.64 \r\nL 335.157955 224.64 \r\nL 304.721591 224.64 \r\nz\r\n\" style=\"fill:#1f77b4;\"/>\r\n   </g>\r\n   <g id=\"patch_12\">\r\n    <path clip-path=\"url(#p940915e741)\" d=\"M 335.157955 224.64 \r\nL 365.594318 224.64 \r\nL 365.594318 224.619225 \r\nL 335.157955 224.619225 \r\nz\r\n\" style=\"fill:#1f77b4;\"/>\r\n   </g>\r\n   <g id=\"matplotlib.axis_1\">\r\n    <g id=\"xtick_1\">\r\n     <g id=\"line2d_1\">\r\n      <path clip-path=\"url(#p940915e741)\" d=\"M 60.709511 224.64 \r\nL 60.709511 7.2 \r\n\" style=\"fill:none;stroke:#b0b0b0;stroke-linecap:square;stroke-width:0.8;\"/>\r\n     </g>\r\n     <g id=\"line2d_2\">\r\n      <defs>\r\n       <path d=\"M 0 0 \r\nL 0 3.5 \r\n\" id=\"mb6c3aafcb3\" style=\"stroke:#000000;stroke-width:0.8;\"/>\r\n      </defs>\r\n      <g>\r\n       <use style=\"stroke:#000000;stroke-width:0.8;\" x=\"60.709511\" xlink:href=\"#mb6c3aafcb3\" y=\"224.64\"/>\r\n      </g>\r\n     </g>\r\n     <g id=\"text_1\">\r\n      <!-- 0 -->\r\n      <g transform=\"translate(57.528261 239.238437)scale(0.1 -0.1)\">\r\n       <defs>\r\n        <path d=\"M 31.78125 66.40625 \r\nQ 24.171875 66.40625 20.328125 58.90625 \r\nQ 16.5 51.421875 16.5 36.375 \r\nQ 16.5 21.390625 20.328125 13.890625 \r\nQ 24.171875 6.390625 31.78125 6.390625 \r\nQ 39.453125 6.390625 43.28125 13.890625 \r\nQ 47.125 21.390625 47.125 36.375 \r\nQ 47.125 51.421875 43.28125 58.90625 \r\nQ 39.453125 66.40625 31.78125 66.40625 \r\nz\r\nM 31.78125 74.21875 \r\nQ 44.046875 74.21875 50.515625 64.515625 \r\nQ 56.984375 54.828125 56.984375 36.375 \r\nQ 56.984375 17.96875 50.515625 8.265625 \r\nQ 44.046875 -1.421875 31.78125 -1.421875 \r\nQ 19.53125 -1.421875 13.0625 8.265625 \r\nQ 6.59375 17.96875 6.59375 36.375 \r\nQ 6.59375 54.828125 13.0625 64.515625 \r\nQ 19.53125 74.21875 31.78125 74.21875 \r\nz\r\n\" id=\"DejaVuSans-48\"/>\r\n       </defs>\r\n       <use xlink:href=\"#DejaVuSans-48\"/>\r\n      </g>\r\n     </g>\r\n    </g>\r\n    <g id=\"xtick_2\">\r\n     <g id=\"line2d_3\">\r\n      <path clip-path=\"url(#p940915e741)\" d=\"M 112.826572 224.64 \r\nL 112.826572 7.2 \r\n\" style=\"fill:none;stroke:#b0b0b0;stroke-linecap:square;stroke-width:0.8;\"/>\r\n     </g>\r\n     <g id=\"line2d_4\">\r\n      <g>\r\n       <use style=\"stroke:#000000;stroke-width:0.8;\" x=\"112.826572\" xlink:href=\"#mb6c3aafcb3\" y=\"224.64\"/>\r\n      </g>\r\n     </g>\r\n     <g id=\"text_2\">\r\n      <!-- 100 -->\r\n      <g transform=\"translate(103.282822 239.238437)scale(0.1 -0.1)\">\r\n       <defs>\r\n        <path d=\"M 12.40625 8.296875 \r\nL 28.515625 8.296875 \r\nL 28.515625 63.921875 \r\nL 10.984375 60.40625 \r\nL 10.984375 69.390625 \r\nL 28.421875 72.90625 \r\nL 38.28125 72.90625 \r\nL 38.28125 8.296875 \r\nL 54.390625 8.296875 \r\nL 54.390625 0 \r\nL 12.40625 0 \r\nz\r\n\" id=\"DejaVuSans-49\"/>\r\n       </defs>\r\n       <use xlink:href=\"#DejaVuSans-49\"/>\r\n       <use x=\"63.623047\" xlink:href=\"#DejaVuSans-48\"/>\r\n       <use x=\"127.246094\" xlink:href=\"#DejaVuSans-48\"/>\r\n      </g>\r\n     </g>\r\n    </g>\r\n    <g id=\"xtick_3\">\r\n     <g id=\"line2d_5\">\r\n      <path clip-path=\"url(#p940915e741)\" d=\"M 164.943633 224.64 \r\nL 164.943633 7.2 \r\n\" style=\"fill:none;stroke:#b0b0b0;stroke-linecap:square;stroke-width:0.8;\"/>\r\n     </g>\r\n     <g id=\"line2d_6\">\r\n      <g>\r\n       <use style=\"stroke:#000000;stroke-width:0.8;\" x=\"164.943633\" xlink:href=\"#mb6c3aafcb3\" y=\"224.64\"/>\r\n      </g>\r\n     </g>\r\n     <g id=\"text_3\">\r\n      <!-- 200 -->\r\n      <g transform=\"translate(155.399883 239.238437)scale(0.1 -0.1)\">\r\n       <defs>\r\n        <path d=\"M 19.1875 8.296875 \r\nL 53.609375 8.296875 \r\nL 53.609375 0 \r\nL 7.328125 0 \r\nL 7.328125 8.296875 \r\nQ 12.9375 14.109375 22.625 23.890625 \r\nQ 32.328125 33.6875 34.8125 36.53125 \r\nQ 39.546875 41.84375 41.421875 45.53125 \r\nQ 43.3125 49.21875 43.3125 52.78125 \r\nQ 43.3125 58.59375 39.234375 62.25 \r\nQ 35.15625 65.921875 28.609375 65.921875 \r\nQ 23.96875 65.921875 18.8125 64.3125 \r\nQ 13.671875 62.703125 7.8125 59.421875 \r\nL 7.8125 69.390625 \r\nQ 13.765625 71.78125 18.9375 73 \r\nQ 24.125 74.21875 28.421875 74.21875 \r\nQ 39.75 74.21875 46.484375 68.546875 \r\nQ 53.21875 62.890625 53.21875 53.421875 \r\nQ 53.21875 48.921875 51.53125 44.890625 \r\nQ 49.859375 40.875 45.40625 35.40625 \r\nQ 44.1875 33.984375 37.640625 27.21875 \r\nQ 31.109375 20.453125 19.1875 8.296875 \r\nz\r\n\" id=\"DejaVuSans-50\"/>\r\n       </defs>\r\n       <use xlink:href=\"#DejaVuSans-50\"/>\r\n       <use x=\"63.623047\" xlink:href=\"#DejaVuSans-48\"/>\r\n       <use x=\"127.246094\" xlink:href=\"#DejaVuSans-48\"/>\r\n      </g>\r\n     </g>\r\n    </g>\r\n    <g id=\"xtick_4\">\r\n     <g id=\"line2d_7\">\r\n      <path clip-path=\"url(#p940915e741)\" d=\"M 217.060694 224.64 \r\nL 217.060694 7.2 \r\n\" style=\"fill:none;stroke:#b0b0b0;stroke-linecap:square;stroke-width:0.8;\"/>\r\n     </g>\r\n     <g id=\"line2d_8\">\r\n      <g>\r\n       <use style=\"stroke:#000000;stroke-width:0.8;\" x=\"217.060694\" xlink:href=\"#mb6c3aafcb3\" y=\"224.64\"/>\r\n      </g>\r\n     </g>\r\n     <g id=\"text_4\">\r\n      <!-- 300 -->\r\n      <g transform=\"translate(207.516944 239.238437)scale(0.1 -0.1)\">\r\n       <defs>\r\n        <path d=\"M 40.578125 39.3125 \r\nQ 47.65625 37.796875 51.625 33 \r\nQ 55.609375 28.21875 55.609375 21.1875 \r\nQ 55.609375 10.40625 48.1875 4.484375 \r\nQ 40.765625 -1.421875 27.09375 -1.421875 \r\nQ 22.515625 -1.421875 17.65625 -0.515625 \r\nQ 12.796875 0.390625 7.625 2.203125 \r\nL 7.625 11.71875 \r\nQ 11.71875 9.328125 16.59375 8.109375 \r\nQ 21.484375 6.890625 26.8125 6.890625 \r\nQ 36.078125 6.890625 40.9375 10.546875 \r\nQ 45.796875 14.203125 45.796875 21.1875 \r\nQ 45.796875 27.640625 41.28125 31.265625 \r\nQ 36.765625 34.90625 28.71875 34.90625 \r\nL 20.21875 34.90625 \r\nL 20.21875 43.015625 \r\nL 29.109375 43.015625 \r\nQ 36.375 43.015625 40.234375 45.921875 \r\nQ 44.09375 48.828125 44.09375 54.296875 \r\nQ 44.09375 59.90625 40.109375 62.90625 \r\nQ 36.140625 65.921875 28.71875 65.921875 \r\nQ 24.65625 65.921875 20.015625 65.03125 \r\nQ 15.375 64.15625 9.8125 62.3125 \r\nL 9.8125 71.09375 \r\nQ 15.4375 72.65625 20.34375 73.4375 \r\nQ 25.25 74.21875 29.59375 74.21875 \r\nQ 40.828125 74.21875 47.359375 69.109375 \r\nQ 53.90625 64.015625 53.90625 55.328125 \r\nQ 53.90625 49.265625 50.4375 45.09375 \r\nQ 46.96875 40.921875 40.578125 39.3125 \r\nz\r\n\" id=\"DejaVuSans-51\"/>\r\n       </defs>\r\n       <use xlink:href=\"#DejaVuSans-51\"/>\r\n       <use x=\"63.623047\" xlink:href=\"#DejaVuSans-48\"/>\r\n       <use x=\"127.246094\" xlink:href=\"#DejaVuSans-48\"/>\r\n      </g>\r\n     </g>\r\n    </g>\r\n    <g id=\"xtick_5\">\r\n     <g id=\"line2d_9\">\r\n      <path clip-path=\"url(#p940915e741)\" d=\"M 269.177755 224.64 \r\nL 269.177755 7.2 \r\n\" style=\"fill:none;stroke:#b0b0b0;stroke-linecap:square;stroke-width:0.8;\"/>\r\n     </g>\r\n     <g id=\"line2d_10\">\r\n      <g>\r\n       <use style=\"stroke:#000000;stroke-width:0.8;\" x=\"269.177755\" xlink:href=\"#mb6c3aafcb3\" y=\"224.64\"/>\r\n      </g>\r\n     </g>\r\n     <g id=\"text_5\">\r\n      <!-- 400 -->\r\n      <g transform=\"translate(259.634005 239.238437)scale(0.1 -0.1)\">\r\n       <defs>\r\n        <path d=\"M 37.796875 64.3125 \r\nL 12.890625 25.390625 \r\nL 37.796875 25.390625 \r\nz\r\nM 35.203125 72.90625 \r\nL 47.609375 72.90625 \r\nL 47.609375 25.390625 \r\nL 58.015625 25.390625 \r\nL 58.015625 17.1875 \r\nL 47.609375 17.1875 \r\nL 47.609375 0 \r\nL 37.796875 0 \r\nL 37.796875 17.1875 \r\nL 4.890625 17.1875 \r\nL 4.890625 26.703125 \r\nz\r\n\" id=\"DejaVuSans-52\"/>\r\n       </defs>\r\n       <use xlink:href=\"#DejaVuSans-52\"/>\r\n       <use x=\"63.623047\" xlink:href=\"#DejaVuSans-48\"/>\r\n       <use x=\"127.246094\" xlink:href=\"#DejaVuSans-48\"/>\r\n      </g>\r\n     </g>\r\n    </g>\r\n    <g id=\"xtick_6\">\r\n     <g id=\"line2d_11\">\r\n      <path clip-path=\"url(#p940915e741)\" d=\"M 321.294816 224.64 \r\nL 321.294816 7.2 \r\n\" style=\"fill:none;stroke:#b0b0b0;stroke-linecap:square;stroke-width:0.8;\"/>\r\n     </g>\r\n     <g id=\"line2d_12\">\r\n      <g>\r\n       <use style=\"stroke:#000000;stroke-width:0.8;\" x=\"321.294816\" xlink:href=\"#mb6c3aafcb3\" y=\"224.64\"/>\r\n      </g>\r\n     </g>\r\n     <g id=\"text_6\">\r\n      <!-- 500 -->\r\n      <g transform=\"translate(311.751066 239.238437)scale(0.1 -0.1)\">\r\n       <defs>\r\n        <path d=\"M 10.796875 72.90625 \r\nL 49.515625 72.90625 \r\nL 49.515625 64.59375 \r\nL 19.828125 64.59375 \r\nL 19.828125 46.734375 \r\nQ 21.96875 47.46875 24.109375 47.828125 \r\nQ 26.265625 48.1875 28.421875 48.1875 \r\nQ 40.625 48.1875 47.75 41.5 \r\nQ 54.890625 34.8125 54.890625 23.390625 \r\nQ 54.890625 11.625 47.5625 5.09375 \r\nQ 40.234375 -1.421875 26.90625 -1.421875 \r\nQ 22.3125 -1.421875 17.546875 -0.640625 \r\nQ 12.796875 0.140625 7.71875 1.703125 \r\nL 7.71875 11.625 \r\nQ 12.109375 9.234375 16.796875 8.0625 \r\nQ 21.484375 6.890625 26.703125 6.890625 \r\nQ 35.15625 6.890625 40.078125 11.328125 \r\nQ 45.015625 15.765625 45.015625 23.390625 \r\nQ 45.015625 31 40.078125 35.4375 \r\nQ 35.15625 39.890625 26.703125 39.890625 \r\nQ 22.75 39.890625 18.8125 39.015625 \r\nQ 14.890625 38.140625 10.796875 36.28125 \r\nz\r\n\" id=\"DejaVuSans-53\"/>\r\n       </defs>\r\n       <use xlink:href=\"#DejaVuSans-53\"/>\r\n       <use x=\"63.623047\" xlink:href=\"#DejaVuSans-48\"/>\r\n       <use x=\"127.246094\" xlink:href=\"#DejaVuSans-48\"/>\r\n      </g>\r\n     </g>\r\n    </g>\r\n    <g id=\"xtick_7\">\r\n     <g id=\"line2d_13\">\r\n      <path clip-path=\"url(#p940915e741)\" d=\"M 373.411877 224.64 \r\nL 373.411877 7.2 \r\n\" style=\"fill:none;stroke:#b0b0b0;stroke-linecap:square;stroke-width:0.8;\"/>\r\n     </g>\r\n     <g id=\"line2d_14\">\r\n      <g>\r\n       <use style=\"stroke:#000000;stroke-width:0.8;\" x=\"373.411877\" xlink:href=\"#mb6c3aafcb3\" y=\"224.64\"/>\r\n      </g>\r\n     </g>\r\n     <g id=\"text_7\">\r\n      <!-- 600 -->\r\n      <g transform=\"translate(363.868127 239.238437)scale(0.1 -0.1)\">\r\n       <defs>\r\n        <path d=\"M 33.015625 40.375 \r\nQ 26.375 40.375 22.484375 35.828125 \r\nQ 18.609375 31.296875 18.609375 23.390625 \r\nQ 18.609375 15.53125 22.484375 10.953125 \r\nQ 26.375 6.390625 33.015625 6.390625 \r\nQ 39.65625 6.390625 43.53125 10.953125 \r\nQ 47.40625 15.53125 47.40625 23.390625 \r\nQ 47.40625 31.296875 43.53125 35.828125 \r\nQ 39.65625 40.375 33.015625 40.375 \r\nz\r\nM 52.59375 71.296875 \r\nL 52.59375 62.3125 \r\nQ 48.875 64.0625 45.09375 64.984375 \r\nQ 41.3125 65.921875 37.59375 65.921875 \r\nQ 27.828125 65.921875 22.671875 59.328125 \r\nQ 17.53125 52.734375 16.796875 39.40625 \r\nQ 19.671875 43.65625 24.015625 45.921875 \r\nQ 28.375 48.1875 33.59375 48.1875 \r\nQ 44.578125 48.1875 50.953125 41.515625 \r\nQ 57.328125 34.859375 57.328125 23.390625 \r\nQ 57.328125 12.15625 50.6875 5.359375 \r\nQ 44.046875 -1.421875 33.015625 -1.421875 \r\nQ 20.359375 -1.421875 13.671875 8.265625 \r\nQ 6.984375 17.96875 6.984375 36.375 \r\nQ 6.984375 53.65625 15.1875 63.9375 \r\nQ 23.390625 74.21875 37.203125 74.21875 \r\nQ 40.921875 74.21875 44.703125 73.484375 \r\nQ 48.484375 72.75 52.59375 71.296875 \r\nz\r\n\" id=\"DejaVuSans-54\"/>\r\n       </defs>\r\n       <use xlink:href=\"#DejaVuSans-54\"/>\r\n       <use x=\"63.623047\" xlink:href=\"#DejaVuSans-48\"/>\r\n       <use x=\"127.246094\" xlink:href=\"#DejaVuSans-48\"/>\r\n      </g>\r\n     </g>\r\n    </g>\r\n   </g>\r\n   <g id=\"matplotlib.axis_2\">\r\n    <g id=\"ytick_1\">\r\n     <g id=\"line2d_15\">\r\n      <path clip-path=\"url(#p940915e741)\" d=\"M 46.0125 224.64 \r\nL 380.8125 224.64 \r\n\" style=\"fill:none;stroke:#b0b0b0;stroke-linecap:square;stroke-width:0.8;\"/>\r\n     </g>\r\n     <g id=\"line2d_16\">\r\n      <defs>\r\n       <path d=\"M 0 0 \r\nL -3.5 0 \r\n\" id=\"m829f0336e8\" style=\"stroke:#000000;stroke-width:0.8;\"/>\r\n      </defs>\r\n      <g>\r\n       <use style=\"stroke:#000000;stroke-width:0.8;\" x=\"46.0125\" xlink:href=\"#m829f0336e8\" y=\"224.64\"/>\r\n      </g>\r\n     </g>\r\n     <g id=\"text_8\">\r\n      <!-- 0 -->\r\n      <g transform=\"translate(32.65 228.439219)scale(0.1 -0.1)\">\r\n       <use xlink:href=\"#DejaVuSans-48\"/>\r\n      </g>\r\n     </g>\r\n    </g>\r\n    <g id=\"ytick_2\">\r\n     <g id=\"line2d_17\">\r\n      <path clip-path=\"url(#p940915e741)\" d=\"M 46.0125 183.089897 \r\nL 380.8125 183.089897 \r\n\" style=\"fill:none;stroke:#b0b0b0;stroke-linecap:square;stroke-width:0.8;\"/>\r\n     </g>\r\n     <g id=\"line2d_18\">\r\n      <g>\r\n       <use style=\"stroke:#000000;stroke-width:0.8;\" x=\"46.0125\" xlink:href=\"#m829f0336e8\" y=\"183.089897\"/>\r\n      </g>\r\n     </g>\r\n     <g id=\"text_9\">\r\n      <!-- 2000 -->\r\n      <g transform=\"translate(13.5625 186.889116)scale(0.1 -0.1)\">\r\n       <use xlink:href=\"#DejaVuSans-50\"/>\r\n       <use x=\"63.623047\" xlink:href=\"#DejaVuSans-48\"/>\r\n       <use x=\"127.246094\" xlink:href=\"#DejaVuSans-48\"/>\r\n       <use x=\"190.869141\" xlink:href=\"#DejaVuSans-48\"/>\r\n      </g>\r\n     </g>\r\n    </g>\r\n    <g id=\"ytick_3\">\r\n     <g id=\"line2d_19\">\r\n      <path clip-path=\"url(#p940915e741)\" d=\"M 46.0125 141.539794 \r\nL 380.8125 141.539794 \r\n\" style=\"fill:none;stroke:#b0b0b0;stroke-linecap:square;stroke-width:0.8;\"/>\r\n     </g>\r\n     <g id=\"line2d_20\">\r\n      <g>\r\n       <use style=\"stroke:#000000;stroke-width:0.8;\" x=\"46.0125\" xlink:href=\"#m829f0336e8\" y=\"141.539794\"/>\r\n      </g>\r\n     </g>\r\n     <g id=\"text_10\">\r\n      <!-- 4000 -->\r\n      <g transform=\"translate(13.5625 145.339012)scale(0.1 -0.1)\">\r\n       <use xlink:href=\"#DejaVuSans-52\"/>\r\n       <use x=\"63.623047\" xlink:href=\"#DejaVuSans-48\"/>\r\n       <use x=\"127.246094\" xlink:href=\"#DejaVuSans-48\"/>\r\n       <use x=\"190.869141\" xlink:href=\"#DejaVuSans-48\"/>\r\n      </g>\r\n     </g>\r\n    </g>\r\n    <g id=\"ytick_4\">\r\n     <g id=\"line2d_21\">\r\n      <path clip-path=\"url(#p940915e741)\" d=\"M 46.0125 99.98969 \r\nL 380.8125 99.98969 \r\n\" style=\"fill:none;stroke:#b0b0b0;stroke-linecap:square;stroke-width:0.8;\"/>\r\n     </g>\r\n     <g id=\"line2d_22\">\r\n      <g>\r\n       <use style=\"stroke:#000000;stroke-width:0.8;\" x=\"46.0125\" xlink:href=\"#m829f0336e8\" y=\"99.98969\"/>\r\n      </g>\r\n     </g>\r\n     <g id=\"text_11\">\r\n      <!-- 6000 -->\r\n      <g transform=\"translate(13.5625 103.788909)scale(0.1 -0.1)\">\r\n       <use xlink:href=\"#DejaVuSans-54\"/>\r\n       <use x=\"63.623047\" xlink:href=\"#DejaVuSans-48\"/>\r\n       <use x=\"127.246094\" xlink:href=\"#DejaVuSans-48\"/>\r\n       <use x=\"190.869141\" xlink:href=\"#DejaVuSans-48\"/>\r\n      </g>\r\n     </g>\r\n    </g>\r\n    <g id=\"ytick_5\">\r\n     <g id=\"line2d_23\">\r\n      <path clip-path=\"url(#p940915e741)\" d=\"M 46.0125 58.439587 \r\nL 380.8125 58.439587 \r\n\" style=\"fill:none;stroke:#b0b0b0;stroke-linecap:square;stroke-width:0.8;\"/>\r\n     </g>\r\n     <g id=\"line2d_24\">\r\n      <g>\r\n       <use style=\"stroke:#000000;stroke-width:0.8;\" x=\"46.0125\" xlink:href=\"#m829f0336e8\" y=\"58.439587\"/>\r\n      </g>\r\n     </g>\r\n     <g id=\"text_12\">\r\n      <!-- 8000 -->\r\n      <g transform=\"translate(13.5625 62.238806)scale(0.1 -0.1)\">\r\n       <defs>\r\n        <path d=\"M 31.78125 34.625 \r\nQ 24.75 34.625 20.71875 30.859375 \r\nQ 16.703125 27.09375 16.703125 20.515625 \r\nQ 16.703125 13.921875 20.71875 10.15625 \r\nQ 24.75 6.390625 31.78125 6.390625 \r\nQ 38.8125 6.390625 42.859375 10.171875 \r\nQ 46.921875 13.96875 46.921875 20.515625 \r\nQ 46.921875 27.09375 42.890625 30.859375 \r\nQ 38.875 34.625 31.78125 34.625 \r\nz\r\nM 21.921875 38.8125 \r\nQ 15.578125 40.375 12.03125 44.71875 \r\nQ 8.5 49.078125 8.5 55.328125 \r\nQ 8.5 64.0625 14.71875 69.140625 \r\nQ 20.953125 74.21875 31.78125 74.21875 \r\nQ 42.671875 74.21875 48.875 69.140625 \r\nQ 55.078125 64.0625 55.078125 55.328125 \r\nQ 55.078125 49.078125 51.53125 44.71875 \r\nQ 48 40.375 41.703125 38.8125 \r\nQ 48.828125 37.15625 52.796875 32.3125 \r\nQ 56.78125 27.484375 56.78125 20.515625 \r\nQ 56.78125 9.90625 50.3125 4.234375 \r\nQ 43.84375 -1.421875 31.78125 -1.421875 \r\nQ 19.734375 -1.421875 13.25 4.234375 \r\nQ 6.78125 9.90625 6.78125 20.515625 \r\nQ 6.78125 27.484375 10.78125 32.3125 \r\nQ 14.796875 37.15625 21.921875 38.8125 \r\nz\r\nM 18.3125 54.390625 \r\nQ 18.3125 48.734375 21.84375 45.5625 \r\nQ 25.390625 42.390625 31.78125 42.390625 \r\nQ 38.140625 42.390625 41.71875 45.5625 \r\nQ 45.3125 48.734375 45.3125 54.390625 \r\nQ 45.3125 60.0625 41.71875 63.234375 \r\nQ 38.140625 66.40625 31.78125 66.40625 \r\nQ 25.390625 66.40625 21.84375 63.234375 \r\nQ 18.3125 60.0625 18.3125 54.390625 \r\nz\r\n\" id=\"DejaVuSans-56\"/>\r\n       </defs>\r\n       <use xlink:href=\"#DejaVuSans-56\"/>\r\n       <use x=\"63.623047\" xlink:href=\"#DejaVuSans-48\"/>\r\n       <use x=\"127.246094\" xlink:href=\"#DejaVuSans-48\"/>\r\n       <use x=\"190.869141\" xlink:href=\"#DejaVuSans-48\"/>\r\n      </g>\r\n     </g>\r\n    </g>\r\n    <g id=\"ytick_6\">\r\n     <g id=\"line2d_25\">\r\n      <path clip-path=\"url(#p940915e741)\" d=\"M 46.0125 16.889484 \r\nL 380.8125 16.889484 \r\n\" style=\"fill:none;stroke:#b0b0b0;stroke-linecap:square;stroke-width:0.8;\"/>\r\n     </g>\r\n     <g id=\"line2d_26\">\r\n      <g>\r\n       <use style=\"stroke:#000000;stroke-width:0.8;\" x=\"46.0125\" xlink:href=\"#m829f0336e8\" y=\"16.889484\"/>\r\n      </g>\r\n     </g>\r\n     <g id=\"text_13\">\r\n      <!-- 10000 -->\r\n      <g transform=\"translate(7.2 20.688703)scale(0.1 -0.1)\">\r\n       <use xlink:href=\"#DejaVuSans-49\"/>\r\n       <use x=\"63.623047\" xlink:href=\"#DejaVuSans-48\"/>\r\n       <use x=\"127.246094\" xlink:href=\"#DejaVuSans-48\"/>\r\n       <use x=\"190.869141\" xlink:href=\"#DejaVuSans-48\"/>\r\n       <use x=\"254.492188\" xlink:href=\"#DejaVuSans-48\"/>\r\n      </g>\r\n     </g>\r\n    </g>\r\n   </g>\r\n   <g id=\"patch_13\">\r\n    <path d=\"M 46.0125 224.64 \r\nL 46.0125 7.2 \r\n\" style=\"fill:none;stroke:#000000;stroke-linecap:square;stroke-linejoin:miter;stroke-width:0.8;\"/>\r\n   </g>\r\n   <g id=\"patch_14\">\r\n    <path d=\"M 380.8125 224.64 \r\nL 380.8125 7.2 \r\n\" style=\"fill:none;stroke:#000000;stroke-linecap:square;stroke-linejoin:miter;stroke-width:0.8;\"/>\r\n   </g>\r\n   <g id=\"patch_15\">\r\n    <path d=\"M 46.0125 224.64 \r\nL 380.8125 224.64 \r\n\" style=\"fill:none;stroke:#000000;stroke-linecap:square;stroke-linejoin:miter;stroke-width:0.8;\"/>\r\n   </g>\r\n   <g id=\"patch_16\">\r\n    <path d=\"M 46.0125 7.2 \r\nL 380.8125 7.2 \r\n\" style=\"fill:none;stroke:#000000;stroke-linecap:square;stroke-linejoin:miter;stroke-width:0.8;\"/>\r\n   </g>\r\n  </g>\r\n </g>\r\n <defs>\r\n  <clipPath id=\"p940915e741\">\r\n   <rect height=\"217.44\" width=\"334.8\" x=\"46.0125\" y=\"7.2\"/>\r\n  </clipPath>\r\n </defs>\r\n</svg>\r\n",
      "image/png": "[encoded data removed]"
     },
     "metadata": {
      "needs_background": "light"
     }
    }
   ],
   "source": [
    "checkouts_df[\"checkouts\"].hist() #Historgramm - https://de.wikipedia.org/wiki/Histogramm"
   ]
  },
  {
   "cell_type": "code",
   "execution_count": 48,
   "metadata": {},
   "outputs": [
    {
     "output_type": "execute_result",
     "data": {
      "text/plain": [
       "<AxesSubplot:>"
      ]
     },
     "metadata": {},
     "execution_count": 48
    },
    {
     "output_type": "display_data",
     "data": {
      "text/plain": "<Figure size 432x288 with 1 Axes>",
      "image/svg+xml": "<?xml version=\"1.0\" encoding=\"utf-8\" standalone=\"no\"?>\r\n<!DOCTYPE svg PUBLIC \"-//W3C//DTD SVG 1.1//EN\"\r\n  \"http://www.w3.org/Graphics/SVG/1.1/DTD/svg11.dtd\">\r\n<!-- Created with matplotlib (https://matplotlib.org/) -->\r\n<svg height=\"248.518125pt\" version=\"1.1\" viewBox=\"0 0 381.65 248.518125\" width=\"381.65pt\" xmlns=\"http://www.w3.org/2000/svg\" xmlns:xlink=\"http://www.w3.org/1999/xlink\">\r\n <metadata>\r\n  <rdf:RDF xmlns:cc=\"http://creativecommons.org/ns#\" xmlns:dc=\"http://purl.org/dc/elements/1.1/\" xmlns:rdf=\"http://www.w3.org/1999/02/22-rdf-syntax-ns#\">\r\n   <cc:Work>\r\n    <dc:type rdf:resource=\"http://purl.org/dc/dcmitype/StillImage\"/>\r\n    <dc:date>2020-12-14T13:40:09.139971</dc:date>\r\n    <dc:format>image/svg+xml</dc:format>\r\n    <dc:creator>\r\n     <cc:Agent>\r\n      <dc:title>Matplotlib v3.3.3, https://matplotlib.org/</dc:title>\r\n     </cc:Agent>\r\n    </dc:creator>\r\n   </cc:Work>\r\n  </rdf:RDF>\r\n </metadata>\r\n <defs>\r\n  <style type=\"text/css\">*{stroke-linecap:butt;stroke-linejoin:round;}</style>\r\n </defs>\r\n <g id=\"figure_1\">\r\n  <g id=\"patch_1\">\r\n   <path d=\"M -0 248.518125 \r\nL 381.65 248.518125 \r\nL 381.65 0 \r\nL -0 0 \r\nz\r\n\" style=\"fill:none;\"/>\r\n  </g>\r\n  <g id=\"axes_1\">\r\n   <g id=\"patch_2\">\r\n    <path d=\"M 39.65 224.64 \r\nL 374.45 224.64 \r\nL 374.45 7.2 \r\nL 39.65 7.2 \r\nz\r\n\" style=\"fill:#ffffff;\"/>\r\n   </g>\r\n   <g id=\"patch_3\">\r\n    <path clip-path=\"url(#p4035137551)\" d=\"M 54.868182 224.64 \r\nL 70.086364 224.64 \r\nL 70.086364 17.554286 \r\nL 54.868182 17.554286 \r\nz\r\n\" style=\"fill:#1f77b4;\"/>\r\n   </g>\r\n   <g id=\"patch_4\">\r\n    <path clip-path=\"url(#p4035137551)\" d=\"M 70.086364 224.64 \r\nL 85.304545 224.64 \r\nL 85.304545 198.130252 \r\nL 70.086364 198.130252 \r\nz\r\n\" style=\"fill:#1f77b4;\"/>\r\n   </g>\r\n   <g id=\"patch_5\">\r\n    <path clip-path=\"url(#p4035137551)\" d=\"M 85.304545 224.64 \r\nL 100.522727 224.64 \r\nL 100.522727 209.209351 \r\nL 85.304545 209.209351 \r\nz\r\n\" style=\"fill:#1f77b4;\"/>\r\n   </g>\r\n   <g id=\"patch_6\">\r\n    <path clip-path=\"url(#p4035137551)\" d=\"M 100.522727 224.64 \r\nL 115.740909 224.64 \r\nL 115.740909 219.781214 \r\nL 100.522727 219.781214 \r\nz\r\n\" style=\"fill:#1f77b4;\"/>\r\n   </g>\r\n   <g id=\"patch_7\">\r\n    <path clip-path=\"url(#p4035137551)\" d=\"M 115.740909 224.64 \r\nL 130.959091 224.64 \r\nL 130.959091 221.810158 \r\nL 115.740909 221.810158 \r\nz\r\n\" style=\"fill:#1f77b4;\"/>\r\n   </g>\r\n   <g id=\"patch_8\">\r\n    <path clip-path=\"url(#p4035137551)\" d=\"M 130.959091 224.64 \r\nL 146.177273 224.64 \r\nL 146.177273 221.196135 \r\nL 130.959091 221.196135 \r\nz\r\n\" style=\"fill:#1f77b4;\"/>\r\n   </g>\r\n   <g id=\"patch_9\">\r\n    <path clip-path=\"url(#p4035137551)\" d=\"M 146.177273 224.64 \r\nL 161.395455 224.64 \r\nL 161.395455 223.705618 \r\nL 146.177273 223.705618 \r\nz\r\n\" style=\"fill:#1f77b4;\"/>\r\n   </g>\r\n   <g id=\"patch_10\">\r\n    <path clip-path=\"url(#p4035137551)\" d=\"M 161.395455 224.64 \r\nL 176.613636 224.64 \r\nL 176.613636 223.144989 \r\nL 161.395455 223.144989 \r\nz\r\n\" style=\"fill:#1f77b4;\"/>\r\n   </g>\r\n   <g id=\"patch_11\">\r\n    <path clip-path=\"url(#p4035137551)\" d=\"M 176.613636 224.64 \r\nL 191.831818 224.64 \r\nL 191.831818 223.945888 \r\nL 176.613636 223.945888 \r\nz\r\n\" style=\"fill:#1f77b4;\"/>\r\n   </g>\r\n   <g id=\"patch_12\">\r\n    <path clip-path=\"url(#p4035137551)\" d=\"M 191.831818 224.64 \r\nL 207.05 224.64 \r\nL 207.05 224.212854 \r\nL 191.831818 224.212854 \r\nz\r\n\" style=\"fill:#1f77b4;\"/>\r\n   </g>\r\n   <g id=\"patch_13\">\r\n    <path clip-path=\"url(#p4035137551)\" d=\"M 207.05 224.64 \r\nL 222.268182 224.64 \r\nL 222.268182 224.025978 \r\nL 207.05 224.025978 \r\nz\r\n\" style=\"fill:#1f77b4;\"/>\r\n   </g>\r\n   <g id=\"patch_14\">\r\n    <path clip-path=\"url(#p4035137551)\" d=\"M 222.268182 224.64 \r\nL 237.486364 224.64 \r\nL 237.486364 224.319641 \r\nL 222.268182 224.319641 \r\nz\r\n\" style=\"fill:#1f77b4;\"/>\r\n   </g>\r\n   <g id=\"patch_15\">\r\n    <path clip-path=\"url(#p4035137551)\" d=\"M 237.486364 224.64 \r\nL 252.704545 224.64 \r\nL 252.704545 224.292944 \r\nL 237.486364 224.292944 \r\nz\r\n\" style=\"fill:#1f77b4;\"/>\r\n   </g>\r\n   <g id=\"patch_16\">\r\n    <path clip-path=\"url(#p4035137551)\" d=\"M 252.704545 224.64 \r\nL 267.922727 224.64 \r\nL 267.922727 224.346337 \r\nL 252.704545 224.346337 \r\nz\r\n\" style=\"fill:#1f77b4;\"/>\r\n   </g>\r\n   <g id=\"patch_17\">\r\n    <path clip-path=\"url(#p4035137551)\" d=\"M 267.922727 224.64 \r\nL 283.140909 224.64 \r\nL 283.140909 224.586607 \r\nL 267.922727 224.586607 \r\nz\r\n\" style=\"fill:#1f77b4;\"/>\r\n   </g>\r\n   <g id=\"patch_18\">\r\n    <path clip-path=\"url(#p4035137551)\" d=\"M 283.140909 224.64 \r\nL 298.359091 224.64 \r\nL 298.359091 224.373034 \r\nL 283.140909 224.373034 \r\nz\r\n\" style=\"fill:#1f77b4;\"/>\r\n   </g>\r\n   <g id=\"patch_19\">\r\n    <path clip-path=\"url(#p4035137551)\" d=\"M 298.359091 224.64 \r\nL 313.577273 224.64 \r\nL 313.577273 224.586607 \r\nL 298.359091 224.586607 \r\nz\r\n\" style=\"fill:#1f77b4;\"/>\r\n   </g>\r\n   <g id=\"patch_20\">\r\n    <path clip-path=\"url(#p4035137551)\" d=\"M 313.577273 224.64 \r\nL 328.795455 224.64 \r\nL 328.795455 224.613303 \r\nL 313.577273 224.613303 \r\nz\r\n\" style=\"fill:#1f77b4;\"/>\r\n   </g>\r\n   <g id=\"patch_21\">\r\n    <path clip-path=\"url(#p4035137551)\" d=\"M 328.795455 224.64 \r\nL 344.013636 224.64 \r\nL 344.013636 224.55991 \r\nL 328.795455 224.55991 \r\nz\r\n\" style=\"fill:#1f77b4;\"/>\r\n   </g>\r\n   <g id=\"patch_22\">\r\n    <path clip-path=\"url(#p4035137551)\" d=\"M 344.013636 224.64 \r\nL 359.231818 224.64 \r\nL 359.231818 224.55991 \r\nL 344.013636 224.55991 \r\nz\r\n\" style=\"fill:#1f77b4;\"/>\r\n   </g>\r\n   <g id=\"matplotlib.axis_1\">\r\n    <g id=\"xtick_1\">\r\n     <g id=\"line2d_1\">\r\n      <path clip-path=\"url(#p4035137551)\" d=\"M 48.527273 224.64 \r\nL 48.527273 7.2 \r\n\" style=\"fill:none;stroke:#b0b0b0;stroke-linecap:square;stroke-width:0.8;\"/>\r\n     </g>\r\n     <g id=\"line2d_2\">\r\n      <defs>\r\n       <path d=\"M 0 0 \r\nL 0 3.5 \r\n\" id=\"m98644b12f6\" style=\"stroke:#000000;stroke-width:0.8;\"/>\r\n      </defs>\r\n      <g>\r\n       <use style=\"stroke:#000000;stroke-width:0.8;\" x=\"48.527273\" xlink:href=\"#m98644b12f6\" y=\"224.64\"/>\r\n      </g>\r\n     </g>\r\n     <g id=\"text_1\">\r\n      <!-- 0 -->\r\n      <g transform=\"translate(45.346023 239.238437)scale(0.1 -0.1)\">\r\n       <defs>\r\n        <path d=\"M 31.78125 66.40625 \r\nQ 24.171875 66.40625 20.328125 58.90625 \r\nQ 16.5 51.421875 16.5 36.375 \r\nQ 16.5 21.390625 20.328125 13.890625 \r\nQ 24.171875 6.390625 31.78125 6.390625 \r\nQ 39.453125 6.390625 43.28125 13.890625 \r\nQ 47.125 21.390625 47.125 36.375 \r\nQ 47.125 51.421875 43.28125 58.90625 \r\nQ 39.453125 66.40625 31.78125 66.40625 \r\nz\r\nM 31.78125 74.21875 \r\nQ 44.046875 74.21875 50.515625 64.515625 \r\nQ 56.984375 54.828125 56.984375 36.375 \r\nQ 56.984375 17.96875 50.515625 8.265625 \r\nQ 44.046875 -1.421875 31.78125 -1.421875 \r\nQ 19.53125 -1.421875 13.0625 8.265625 \r\nQ 6.59375 17.96875 6.59375 36.375 \r\nQ 6.59375 54.828125 13.0625 64.515625 \r\nQ 19.53125 74.21875 31.78125 74.21875 \r\nz\r\n\" id=\"DejaVuSans-48\"/>\r\n       </defs>\r\n       <use xlink:href=\"#DejaVuSans-48\"/>\r\n      </g>\r\n     </g>\r\n    </g>\r\n    <g id=\"xtick_2\">\r\n     <g id=\"line2d_3\">\r\n      <path clip-path=\"url(#p4035137551)\" d=\"M 111.936364 224.64 \r\nL 111.936364 7.2 \r\n\" style=\"fill:none;stroke:#b0b0b0;stroke-linecap:square;stroke-width:0.8;\"/>\r\n     </g>\r\n     <g id=\"line2d_4\">\r\n      <g>\r\n       <use style=\"stroke:#000000;stroke-width:0.8;\" x=\"111.936364\" xlink:href=\"#m98644b12f6\" y=\"224.64\"/>\r\n      </g>\r\n     </g>\r\n     <g id=\"text_2\">\r\n      <!-- 10 -->\r\n      <g transform=\"translate(105.573864 239.238437)scale(0.1 -0.1)\">\r\n       <defs>\r\n        <path d=\"M 12.40625 8.296875 \r\nL 28.515625 8.296875 \r\nL 28.515625 63.921875 \r\nL 10.984375 60.40625 \r\nL 10.984375 69.390625 \r\nL 28.421875 72.90625 \r\nL 38.28125 72.90625 \r\nL 38.28125 8.296875 \r\nL 54.390625 8.296875 \r\nL 54.390625 0 \r\nL 12.40625 0 \r\nz\r\n\" id=\"DejaVuSans-49\"/>\r\n       </defs>\r\n       <use xlink:href=\"#DejaVuSans-49\"/>\r\n       <use x=\"63.623047\" xlink:href=\"#DejaVuSans-48\"/>\r\n      </g>\r\n     </g>\r\n    </g>\r\n    <g id=\"xtick_3\">\r\n     <g id=\"line2d_5\">\r\n      <path clip-path=\"url(#p4035137551)\" d=\"M 175.345455 224.64 \r\nL 175.345455 7.2 \r\n\" style=\"fill:none;stroke:#b0b0b0;stroke-linecap:square;stroke-width:0.8;\"/>\r\n     </g>\r\n     <g id=\"line2d_6\">\r\n      <g>\r\n       <use style=\"stroke:#000000;stroke-width:0.8;\" x=\"175.345455\" xlink:href=\"#m98644b12f6\" y=\"224.64\"/>\r\n      </g>\r\n     </g>\r\n     <g id=\"text_3\">\r\n      <!-- 20 -->\r\n      <g transform=\"translate(168.982955 239.238437)scale(0.1 -0.1)\">\r\n       <defs>\r\n        <path d=\"M 19.1875 8.296875 \r\nL 53.609375 8.296875 \r\nL 53.609375 0 \r\nL 7.328125 0 \r\nL 7.328125 8.296875 \r\nQ 12.9375 14.109375 22.625 23.890625 \r\nQ 32.328125 33.6875 34.8125 36.53125 \r\nQ 39.546875 41.84375 41.421875 45.53125 \r\nQ 43.3125 49.21875 43.3125 52.78125 \r\nQ 43.3125 58.59375 39.234375 62.25 \r\nQ 35.15625 65.921875 28.609375 65.921875 \r\nQ 23.96875 65.921875 18.8125 64.3125 \r\nQ 13.671875 62.703125 7.8125 59.421875 \r\nL 7.8125 69.390625 \r\nQ 13.765625 71.78125 18.9375 73 \r\nQ 24.125 74.21875 28.421875 74.21875 \r\nQ 39.75 74.21875 46.484375 68.546875 \r\nQ 53.21875 62.890625 53.21875 53.421875 \r\nQ 53.21875 48.921875 51.53125 44.890625 \r\nQ 49.859375 40.875 45.40625 35.40625 \r\nQ 44.1875 33.984375 37.640625 27.21875 \r\nQ 31.109375 20.453125 19.1875 8.296875 \r\nz\r\n\" id=\"DejaVuSans-50\"/>\r\n       </defs>\r\n       <use xlink:href=\"#DejaVuSans-50\"/>\r\n       <use x=\"63.623047\" xlink:href=\"#DejaVuSans-48\"/>\r\n      </g>\r\n     </g>\r\n    </g>\r\n    <g id=\"xtick_4\">\r\n     <g id=\"line2d_7\">\r\n      <path clip-path=\"url(#p4035137551)\" d=\"M 238.754545 224.64 \r\nL 238.754545 7.2 \r\n\" style=\"fill:none;stroke:#b0b0b0;stroke-linecap:square;stroke-width:0.8;\"/>\r\n     </g>\r\n     <g id=\"line2d_8\">\r\n      <g>\r\n       <use style=\"stroke:#000000;stroke-width:0.8;\" x=\"238.754545\" xlink:href=\"#m98644b12f6\" y=\"224.64\"/>\r\n      </g>\r\n     </g>\r\n     <g id=\"text_4\">\r\n      <!-- 30 -->\r\n      <g transform=\"translate(232.392045 239.238437)scale(0.1 -0.1)\">\r\n       <defs>\r\n        <path d=\"M 40.578125 39.3125 \r\nQ 47.65625 37.796875 51.625 33 \r\nQ 55.609375 28.21875 55.609375 21.1875 \r\nQ 55.609375 10.40625 48.1875 4.484375 \r\nQ 40.765625 -1.421875 27.09375 -1.421875 \r\nQ 22.515625 -1.421875 17.65625 -0.515625 \r\nQ 12.796875 0.390625 7.625 2.203125 \r\nL 7.625 11.71875 \r\nQ 11.71875 9.328125 16.59375 8.109375 \r\nQ 21.484375 6.890625 26.8125 6.890625 \r\nQ 36.078125 6.890625 40.9375 10.546875 \r\nQ 45.796875 14.203125 45.796875 21.1875 \r\nQ 45.796875 27.640625 41.28125 31.265625 \r\nQ 36.765625 34.90625 28.71875 34.90625 \r\nL 20.21875 34.90625 \r\nL 20.21875 43.015625 \r\nL 29.109375 43.015625 \r\nQ 36.375 43.015625 40.234375 45.921875 \r\nQ 44.09375 48.828125 44.09375 54.296875 \r\nQ 44.09375 59.90625 40.109375 62.90625 \r\nQ 36.140625 65.921875 28.71875 65.921875 \r\nQ 24.65625 65.921875 20.015625 65.03125 \r\nQ 15.375 64.15625 9.8125 62.3125 \r\nL 9.8125 71.09375 \r\nQ 15.4375 72.65625 20.34375 73.4375 \r\nQ 25.25 74.21875 29.59375 74.21875 \r\nQ 40.828125 74.21875 47.359375 69.109375 \r\nQ 53.90625 64.015625 53.90625 55.328125 \r\nQ 53.90625 49.265625 50.4375 45.09375 \r\nQ 46.96875 40.921875 40.578125 39.3125 \r\nz\r\n\" id=\"DejaVuSans-51\"/>\r\n       </defs>\r\n       <use xlink:href=\"#DejaVuSans-51\"/>\r\n       <use x=\"63.623047\" xlink:href=\"#DejaVuSans-48\"/>\r\n      </g>\r\n     </g>\r\n    </g>\r\n    <g id=\"xtick_5\">\r\n     <g id=\"line2d_9\">\r\n      <path clip-path=\"url(#p4035137551)\" d=\"M 302.163636 224.64 \r\nL 302.163636 7.2 \r\n\" style=\"fill:none;stroke:#b0b0b0;stroke-linecap:square;stroke-width:0.8;\"/>\r\n     </g>\r\n     <g id=\"line2d_10\">\r\n      <g>\r\n       <use style=\"stroke:#000000;stroke-width:0.8;\" x=\"302.163636\" xlink:href=\"#m98644b12f6\" y=\"224.64\"/>\r\n      </g>\r\n     </g>\r\n     <g id=\"text_5\">\r\n      <!-- 40 -->\r\n      <g transform=\"translate(295.801136 239.238437)scale(0.1 -0.1)\">\r\n       <defs>\r\n        <path d=\"M 37.796875 64.3125 \r\nL 12.890625 25.390625 \r\nL 37.796875 25.390625 \r\nz\r\nM 35.203125 72.90625 \r\nL 47.609375 72.90625 \r\nL 47.609375 25.390625 \r\nL 58.015625 25.390625 \r\nL 58.015625 17.1875 \r\nL 47.609375 17.1875 \r\nL 47.609375 0 \r\nL 37.796875 0 \r\nL 37.796875 17.1875 \r\nL 4.890625 17.1875 \r\nL 4.890625 26.703125 \r\nz\r\n\" id=\"DejaVuSans-52\"/>\r\n       </defs>\r\n       <use xlink:href=\"#DejaVuSans-52\"/>\r\n       <use x=\"63.623047\" xlink:href=\"#DejaVuSans-48\"/>\r\n      </g>\r\n     </g>\r\n    </g>\r\n    <g id=\"xtick_6\">\r\n     <g id=\"line2d_11\">\r\n      <path clip-path=\"url(#p4035137551)\" d=\"M 365.572727 224.64 \r\nL 365.572727 7.2 \r\n\" style=\"fill:none;stroke:#b0b0b0;stroke-linecap:square;stroke-width:0.8;\"/>\r\n     </g>\r\n     <g id=\"line2d_12\">\r\n      <g>\r\n       <use style=\"stroke:#000000;stroke-width:0.8;\" x=\"365.572727\" xlink:href=\"#m98644b12f6\" y=\"224.64\"/>\r\n      </g>\r\n     </g>\r\n     <g id=\"text_6\">\r\n      <!-- 50 -->\r\n      <g transform=\"translate(359.210227 239.238437)scale(0.1 -0.1)\">\r\n       <defs>\r\n        <path d=\"M 10.796875 72.90625 \r\nL 49.515625 72.90625 \r\nL 49.515625 64.59375 \r\nL 19.828125 64.59375 \r\nL 19.828125 46.734375 \r\nQ 21.96875 47.46875 24.109375 47.828125 \r\nQ 26.265625 48.1875 28.421875 48.1875 \r\nQ 40.625 48.1875 47.75 41.5 \r\nQ 54.890625 34.8125 54.890625 23.390625 \r\nQ 54.890625 11.625 47.5625 5.09375 \r\nQ 40.234375 -1.421875 26.90625 -1.421875 \r\nQ 22.3125 -1.421875 17.546875 -0.640625 \r\nQ 12.796875 0.140625 7.71875 1.703125 \r\nL 7.71875 11.625 \r\nQ 12.109375 9.234375 16.796875 8.0625 \r\nQ 21.484375 6.890625 26.703125 6.890625 \r\nQ 35.15625 6.890625 40.078125 11.328125 \r\nQ 45.015625 15.765625 45.015625 23.390625 \r\nQ 45.015625 31 40.078125 35.4375 \r\nQ 35.15625 39.890625 26.703125 39.890625 \r\nQ 22.75 39.890625 18.8125 39.015625 \r\nQ 14.890625 38.140625 10.796875 36.28125 \r\nz\r\n\" id=\"DejaVuSans-53\"/>\r\n       </defs>\r\n       <use xlink:href=\"#DejaVuSans-53\"/>\r\n       <use x=\"63.623047\" xlink:href=\"#DejaVuSans-48\"/>\r\n      </g>\r\n     </g>\r\n    </g>\r\n   </g>\r\n   <g id=\"matplotlib.axis_2\">\r\n    <g id=\"ytick_1\">\r\n     <g id=\"line2d_13\">\r\n      <path clip-path=\"url(#p4035137551)\" d=\"M 39.65 224.64 \r\nL 374.45 224.64 \r\n\" style=\"fill:none;stroke:#b0b0b0;stroke-linecap:square;stroke-width:0.8;\"/>\r\n     </g>\r\n     <g id=\"line2d_14\">\r\n      <defs>\r\n       <path d=\"M 0 0 \r\nL -3.5 0 \r\n\" id=\"mc2ae3a870b\" style=\"stroke:#000000;stroke-width:0.8;\"/>\r\n      </defs>\r\n      <g>\r\n       <use style=\"stroke:#000000;stroke-width:0.8;\" x=\"39.65\" xlink:href=\"#mc2ae3a870b\" y=\"224.64\"/>\r\n      </g>\r\n     </g>\r\n     <g id=\"text_7\">\r\n      <!-- 0 -->\r\n      <g transform=\"translate(26.2875 228.439219)scale(0.1 -0.1)\">\r\n       <use xlink:href=\"#DejaVuSans-48\"/>\r\n      </g>\r\n     </g>\r\n    </g>\r\n    <g id=\"ytick_2\">\r\n     <g id=\"line2d_15\">\r\n      <path clip-path=\"url(#p4035137551)\" d=\"M 39.65 197.943376 \r\nL 374.45 197.943376 \r\n\" style=\"fill:none;stroke:#b0b0b0;stroke-linecap:square;stroke-width:0.8;\"/>\r\n     </g>\r\n     <g id=\"line2d_16\">\r\n      <g>\r\n       <use style=\"stroke:#000000;stroke-width:0.8;\" x=\"39.65\" xlink:href=\"#mc2ae3a870b\" y=\"197.943376\"/>\r\n      </g>\r\n     </g>\r\n     <g id=\"text_8\">\r\n      <!-- 1000 -->\r\n      <g transform=\"translate(7.2 201.742595)scale(0.1 -0.1)\">\r\n       <use xlink:href=\"#DejaVuSans-49\"/>\r\n       <use x=\"63.623047\" xlink:href=\"#DejaVuSans-48\"/>\r\n       <use x=\"127.246094\" xlink:href=\"#DejaVuSans-48\"/>\r\n       <use x=\"190.869141\" xlink:href=\"#DejaVuSans-48\"/>\r\n      </g>\r\n     </g>\r\n    </g>\r\n    <g id=\"ytick_3\">\r\n     <g id=\"line2d_17\">\r\n      <path clip-path=\"url(#p4035137551)\" d=\"M 39.65 171.246752 \r\nL 374.45 171.246752 \r\n\" style=\"fill:none;stroke:#b0b0b0;stroke-linecap:square;stroke-width:0.8;\"/>\r\n     </g>\r\n     <g id=\"line2d_18\">\r\n      <g>\r\n       <use style=\"stroke:#000000;stroke-width:0.8;\" x=\"39.65\" xlink:href=\"#mc2ae3a870b\" y=\"171.246752\"/>\r\n      </g>\r\n     </g>\r\n     <g id=\"text_9\">\r\n      <!-- 2000 -->\r\n      <g transform=\"translate(7.2 175.04597)scale(0.1 -0.1)\">\r\n       <use xlink:href=\"#DejaVuSans-50\"/>\r\n       <use x=\"63.623047\" xlink:href=\"#DejaVuSans-48\"/>\r\n       <use x=\"127.246094\" xlink:href=\"#DejaVuSans-48\"/>\r\n       <use x=\"190.869141\" xlink:href=\"#DejaVuSans-48\"/>\r\n      </g>\r\n     </g>\r\n    </g>\r\n    <g id=\"ytick_4\">\r\n     <g id=\"line2d_19\">\r\n      <path clip-path=\"url(#p4035137551)\" d=\"M 39.65 144.550127 \r\nL 374.45 144.550127 \r\n\" style=\"fill:none;stroke:#b0b0b0;stroke-linecap:square;stroke-width:0.8;\"/>\r\n     </g>\r\n     <g id=\"line2d_20\">\r\n      <g>\r\n       <use style=\"stroke:#000000;stroke-width:0.8;\" x=\"39.65\" xlink:href=\"#mc2ae3a870b\" y=\"144.550127\"/>\r\n      </g>\r\n     </g>\r\n     <g id=\"text_10\">\r\n      <!-- 3000 -->\r\n      <g transform=\"translate(7.2 148.349346)scale(0.1 -0.1)\">\r\n       <use xlink:href=\"#DejaVuSans-51\"/>\r\n       <use x=\"63.623047\" xlink:href=\"#DejaVuSans-48\"/>\r\n       <use x=\"127.246094\" xlink:href=\"#DejaVuSans-48\"/>\r\n       <use x=\"190.869141\" xlink:href=\"#DejaVuSans-48\"/>\r\n      </g>\r\n     </g>\r\n    </g>\r\n    <g id=\"ytick_5\">\r\n     <g id=\"line2d_21\">\r\n      <path clip-path=\"url(#p4035137551)\" d=\"M 39.65 117.853503 \r\nL 374.45 117.853503 \r\n\" style=\"fill:none;stroke:#b0b0b0;stroke-linecap:square;stroke-width:0.8;\"/>\r\n     </g>\r\n     <g id=\"line2d_22\">\r\n      <g>\r\n       <use style=\"stroke:#000000;stroke-width:0.8;\" x=\"39.65\" xlink:href=\"#mc2ae3a870b\" y=\"117.853503\"/>\r\n      </g>\r\n     </g>\r\n     <g id=\"text_11\">\r\n      <!-- 4000 -->\r\n      <g transform=\"translate(7.2 121.652722)scale(0.1 -0.1)\">\r\n       <use xlink:href=\"#DejaVuSans-52\"/>\r\n       <use x=\"63.623047\" xlink:href=\"#DejaVuSans-48\"/>\r\n       <use x=\"127.246094\" xlink:href=\"#DejaVuSans-48\"/>\r\n       <use x=\"190.869141\" xlink:href=\"#DejaVuSans-48\"/>\r\n      </g>\r\n     </g>\r\n    </g>\r\n    <g id=\"ytick_6\">\r\n     <g id=\"line2d_23\">\r\n      <path clip-path=\"url(#p4035137551)\" d=\"M 39.65 91.156879 \r\nL 374.45 91.156879 \r\n\" style=\"fill:none;stroke:#b0b0b0;stroke-linecap:square;stroke-width:0.8;\"/>\r\n     </g>\r\n     <g id=\"line2d_24\">\r\n      <g>\r\n       <use style=\"stroke:#000000;stroke-width:0.8;\" x=\"39.65\" xlink:href=\"#mc2ae3a870b\" y=\"91.156879\"/>\r\n      </g>\r\n     </g>\r\n     <g id=\"text_12\">\r\n      <!-- 5000 -->\r\n      <g transform=\"translate(7.2 94.956098)scale(0.1 -0.1)\">\r\n       <use xlink:href=\"#DejaVuSans-53\"/>\r\n       <use x=\"63.623047\" xlink:href=\"#DejaVuSans-48\"/>\r\n       <use x=\"127.246094\" xlink:href=\"#DejaVuSans-48\"/>\r\n       <use x=\"190.869141\" xlink:href=\"#DejaVuSans-48\"/>\r\n      </g>\r\n     </g>\r\n    </g>\r\n    <g id=\"ytick_7\">\r\n     <g id=\"line2d_25\">\r\n      <path clip-path=\"url(#p4035137551)\" d=\"M 39.65 64.460255 \r\nL 374.45 64.460255 \r\n\" style=\"fill:none;stroke:#b0b0b0;stroke-linecap:square;stroke-width:0.8;\"/>\r\n     </g>\r\n     <g id=\"line2d_26\">\r\n      <g>\r\n       <use style=\"stroke:#000000;stroke-width:0.8;\" x=\"39.65\" xlink:href=\"#mc2ae3a870b\" y=\"64.460255\"/>\r\n      </g>\r\n     </g>\r\n     <g id=\"text_13\">\r\n      <!-- 6000 -->\r\n      <g transform=\"translate(7.2 68.259473)scale(0.1 -0.1)\">\r\n       <defs>\r\n        <path d=\"M 33.015625 40.375 \r\nQ 26.375 40.375 22.484375 35.828125 \r\nQ 18.609375 31.296875 18.609375 23.390625 \r\nQ 18.609375 15.53125 22.484375 10.953125 \r\nQ 26.375 6.390625 33.015625 6.390625 \r\nQ 39.65625 6.390625 43.53125 10.953125 \r\nQ 47.40625 15.53125 47.40625 23.390625 \r\nQ 47.40625 31.296875 43.53125 35.828125 \r\nQ 39.65625 40.375 33.015625 40.375 \r\nz\r\nM 52.59375 71.296875 \r\nL 52.59375 62.3125 \r\nQ 48.875 64.0625 45.09375 64.984375 \r\nQ 41.3125 65.921875 37.59375 65.921875 \r\nQ 27.828125 65.921875 22.671875 59.328125 \r\nQ 17.53125 52.734375 16.796875 39.40625 \r\nQ 19.671875 43.65625 24.015625 45.921875 \r\nQ 28.375 48.1875 33.59375 48.1875 \r\nQ 44.578125 48.1875 50.953125 41.515625 \r\nQ 57.328125 34.859375 57.328125 23.390625 \r\nQ 57.328125 12.15625 50.6875 5.359375 \r\nQ 44.046875 -1.421875 33.015625 -1.421875 \r\nQ 20.359375 -1.421875 13.671875 8.265625 \r\nQ 6.984375 17.96875 6.984375 36.375 \r\nQ 6.984375 53.65625 15.1875 63.9375 \r\nQ 23.390625 74.21875 37.203125 74.21875 \r\nQ 40.921875 74.21875 44.703125 73.484375 \r\nQ 48.484375 72.75 52.59375 71.296875 \r\nz\r\n\" id=\"DejaVuSans-54\"/>\r\n       </defs>\r\n       <use xlink:href=\"#DejaVuSans-54\"/>\r\n       <use x=\"63.623047\" xlink:href=\"#DejaVuSans-48\"/>\r\n       <use x=\"127.246094\" xlink:href=\"#DejaVuSans-48\"/>\r\n       <use x=\"190.869141\" xlink:href=\"#DejaVuSans-48\"/>\r\n      </g>\r\n     </g>\r\n    </g>\r\n    <g id=\"ytick_8\">\r\n     <g id=\"line2d_27\">\r\n      <path clip-path=\"url(#p4035137551)\" d=\"M 39.65 37.76363 \r\nL 374.45 37.76363 \r\n\" style=\"fill:none;stroke:#b0b0b0;stroke-linecap:square;stroke-width:0.8;\"/>\r\n     </g>\r\n     <g id=\"line2d_28\">\r\n      <g>\r\n       <use style=\"stroke:#000000;stroke-width:0.8;\" x=\"39.65\" xlink:href=\"#mc2ae3a870b\" y=\"37.76363\"/>\r\n      </g>\r\n     </g>\r\n     <g id=\"text_14\">\r\n      <!-- 7000 -->\r\n      <g transform=\"translate(7.2 41.562849)scale(0.1 -0.1)\">\r\n       <defs>\r\n        <path d=\"M 8.203125 72.90625 \r\nL 55.078125 72.90625 \r\nL 55.078125 68.703125 \r\nL 28.609375 0 \r\nL 18.3125 0 \r\nL 43.21875 64.59375 \r\nL 8.203125 64.59375 \r\nz\r\n\" id=\"DejaVuSans-55\"/>\r\n       </defs>\r\n       <use xlink:href=\"#DejaVuSans-55\"/>\r\n       <use x=\"63.623047\" xlink:href=\"#DejaVuSans-48\"/>\r\n       <use x=\"127.246094\" xlink:href=\"#DejaVuSans-48\"/>\r\n       <use x=\"190.869141\" xlink:href=\"#DejaVuSans-48\"/>\r\n      </g>\r\n     </g>\r\n    </g>\r\n    <g id=\"ytick_9\">\r\n     <g id=\"line2d_29\">\r\n      <path clip-path=\"url(#p4035137551)\" d=\"M 39.65 11.067006 \r\nL 374.45 11.067006 \r\n\" style=\"fill:none;stroke:#b0b0b0;stroke-linecap:square;stroke-width:0.8;\"/>\r\n     </g>\r\n     <g id=\"line2d_30\">\r\n      <g>\r\n       <use style=\"stroke:#000000;stroke-width:0.8;\" x=\"39.65\" xlink:href=\"#mc2ae3a870b\" y=\"11.067006\"/>\r\n      </g>\r\n     </g>\r\n     <g id=\"text_15\">\r\n      <!-- 8000 -->\r\n      <g transform=\"translate(7.2 14.866225)scale(0.1 -0.1)\">\r\n       <defs>\r\n        <path d=\"M 31.78125 34.625 \r\nQ 24.75 34.625 20.71875 30.859375 \r\nQ 16.703125 27.09375 16.703125 20.515625 \r\nQ 16.703125 13.921875 20.71875 10.15625 \r\nQ 24.75 6.390625 31.78125 6.390625 \r\nQ 38.8125 6.390625 42.859375 10.171875 \r\nQ 46.921875 13.96875 46.921875 20.515625 \r\nQ 46.921875 27.09375 42.890625 30.859375 \r\nQ 38.875 34.625 31.78125 34.625 \r\nz\r\nM 21.921875 38.8125 \r\nQ 15.578125 40.375 12.03125 44.71875 \r\nQ 8.5 49.078125 8.5 55.328125 \r\nQ 8.5 64.0625 14.71875 69.140625 \r\nQ 20.953125 74.21875 31.78125 74.21875 \r\nQ 42.671875 74.21875 48.875 69.140625 \r\nQ 55.078125 64.0625 55.078125 55.328125 \r\nQ 55.078125 49.078125 51.53125 44.71875 \r\nQ 48 40.375 41.703125 38.8125 \r\nQ 48.828125 37.15625 52.796875 32.3125 \r\nQ 56.78125 27.484375 56.78125 20.515625 \r\nQ 56.78125 9.90625 50.3125 4.234375 \r\nQ 43.84375 -1.421875 31.78125 -1.421875 \r\nQ 19.734375 -1.421875 13.25 4.234375 \r\nQ 6.78125 9.90625 6.78125 20.515625 \r\nQ 6.78125 27.484375 10.78125 32.3125 \r\nQ 14.796875 37.15625 21.921875 38.8125 \r\nz\r\nM 18.3125 54.390625 \r\nQ 18.3125 48.734375 21.84375 45.5625 \r\nQ 25.390625 42.390625 31.78125 42.390625 \r\nQ 38.140625 42.390625 41.71875 45.5625 \r\nQ 45.3125 48.734375 45.3125 54.390625 \r\nQ 45.3125 60.0625 41.71875 63.234375 \r\nQ 38.140625 66.40625 31.78125 66.40625 \r\nQ 25.390625 66.40625 21.84375 63.234375 \r\nQ 18.3125 60.0625 18.3125 54.390625 \r\nz\r\n\" id=\"DejaVuSans-56\"/>\r\n       </defs>\r\n       <use xlink:href=\"#DejaVuSans-56\"/>\r\n       <use x=\"63.623047\" xlink:href=\"#DejaVuSans-48\"/>\r\n       <use x=\"127.246094\" xlink:href=\"#DejaVuSans-48\"/>\r\n       <use x=\"190.869141\" xlink:href=\"#DejaVuSans-48\"/>\r\n      </g>\r\n     </g>\r\n    </g>\r\n   </g>\r\n   <g id=\"patch_23\">\r\n    <path d=\"M 39.65 224.64 \r\nL 39.65 7.2 \r\n\" style=\"fill:none;stroke:#000000;stroke-linecap:square;stroke-linejoin:miter;stroke-width:0.8;\"/>\r\n   </g>\r\n   <g id=\"patch_24\">\r\n    <path d=\"M 374.45 224.64 \r\nL 374.45 7.2 \r\n\" style=\"fill:none;stroke:#000000;stroke-linecap:square;stroke-linejoin:miter;stroke-width:0.8;\"/>\r\n   </g>\r\n   <g id=\"patch_25\">\r\n    <path d=\"M 39.65 224.64 \r\nL 374.45 224.64 \r\n\" style=\"fill:none;stroke:#000000;stroke-linecap:square;stroke-linejoin:miter;stroke-width:0.8;\"/>\r\n   </g>\r\n   <g id=\"patch_26\">\r\n    <path d=\"M 39.65 7.2 \r\nL 374.45 7.2 \r\n\" style=\"fill:none;stroke:#000000;stroke-linecap:square;stroke-linejoin:miter;stroke-width:0.8;\"/>\r\n   </g>\r\n  </g>\r\n </g>\r\n <defs>\r\n  <clipPath id=\"p4035137551\">\r\n   <rect height=\"217.44\" width=\"334.8\" x=\"39.65\" y=\"7.2\"/>\r\n  </clipPath>\r\n </defs>\r\n</svg>\r\n",
      "image/png": "[encoded data removed]"
     },
     "metadata": {
      "needs_background": "light"
     }
    }
   ],
   "source": [
    "checkouts_df[checkouts_df[\"checkouts\"] < 50 ][\"checkouts\"].hist(bins=20) # hier sind die Werte anders gebündelt und nur die Werte unter 50 ?"
   ]
  },
  {
   "source": [
    "# Eigene Aufgabenstellungen \n",
    "\n",
    "1. Wie ist die Relation von Ausleihhäufigkeit zu Erscheinungjahr?\n",
    "\n",
    "2. Was wird mehr ausgeliehen: Ebooks oder Books?\n",
    "\n",
    "3. Welche Verlage werden besonders viel ausgeliehen?\n",
    "\n",
    "4. Welcher Titel wurde am Häufigsten ausgeliehen?"
   ],
   "cell_type": "markdown",
   "metadata": {}
  },
  {
   "source": [
    "## Erste Experimente"
   ],
   "cell_type": "markdown",
   "metadata": {}
  },
  {
   "cell_type": "code",
   "execution_count": 148,
   "metadata": {},
   "outputs": [],
   "source": [
    "checkouts_df[['checkouts','publicationyear']] #Anzeige nur dieser beiden Spalten\n",
    "checkouts_year_df = checkouts_df[['checkouts','publicationyear']] "
   ]
  },
  {
   "cell_type": "code",
   "execution_count": 149,
   "metadata": {},
   "outputs": [
    {
     "output_type": "execute_result",
     "data": {
      "text/plain": [
       "      checkouts publicationyear\n",
       "0             1          [2010]\n",
       "1             1          [1991]\n",
       "2             1          [2010]\n",
       "3             1           2008.\n",
       "4             1          [2009]\n",
       "...         ...             ...\n",
       "9995          2           2009.\n",
       "9996          1            2009\n",
       "9997          2            2013\n",
       "9998          5          [2013]\n",
       "9999          1          [2009]\n",
       "\n",
       "[10000 rows x 2 columns]"
      ],
      "text/html": "<div>\n<style scoped>\n    .dataframe tbody tr th:only-of-type {\n        vertical-align: middle;\n    }\n\n    .dataframe tbody tr th {\n        vertical-align: top;\n    }\n\n    .dataframe thead th {\n        text-align: right;\n    }\n</style>\n<table border=\"1\" class=\"dataframe\">\n  <thead>\n    <tr style=\"text-align: right;\">\n      <th></th>\n      <th>checkouts</th>\n      <th>publicationyear</th>\n    </tr>\n  </thead>\n  <tbody>\n    <tr>\n      <th>0</th>\n      <td>1</td>\n      <td>[2010]</td>\n    </tr>\n    <tr>\n      <th>1</th>\n      <td>1</td>\n      <td>[1991]</td>\n    </tr>\n    <tr>\n      <th>2</th>\n      <td>1</td>\n      <td>[2010]</td>\n    </tr>\n    <tr>\n      <th>3</th>\n      <td>1</td>\n      <td>2008.</td>\n    </tr>\n    <tr>\n      <th>4</th>\n      <td>1</td>\n      <td>[2009]</td>\n    </tr>\n    <tr>\n      <th>...</th>\n      <td>...</td>\n      <td>...</td>\n    </tr>\n    <tr>\n      <th>9995</th>\n      <td>2</td>\n      <td>2009.</td>\n    </tr>\n    <tr>\n      <th>9996</th>\n      <td>1</td>\n      <td>2009</td>\n    </tr>\n    <tr>\n      <th>9997</th>\n      <td>2</td>\n      <td>2013</td>\n    </tr>\n    <tr>\n      <th>9998</th>\n      <td>5</td>\n      <td>[2013]</td>\n    </tr>\n    <tr>\n      <th>9999</th>\n      <td>1</td>\n      <td>[2009]</td>\n    </tr>\n  </tbody>\n</table>\n<p>10000 rows × 2 columns</p>\n</div>"
     },
     "metadata": {},
     "execution_count": 149
    }
   ],
   "source": [
    "checkouts_year_df"
   ]
  },
  {
   "cell_type": "code",
   "execution_count": 83,
   "metadata": {},
   "outputs": [
    {
     "output_type": "execute_result",
     "data": {
      "text/plain": [
       "      checkouts publicationyear\n",
       "1152        148          [2018]\n",
       "2895        184          [2018]\n",
       "3626        138          [2016]\n",
       "4074        173          [2018]\n",
       "5226        135            2016\n",
       "5313        198            2018\n",
       "6434        272           2018.\n",
       "7189        170           2017.\n",
       "7356        585           2018.\n",
       "8135        345            2018\n",
       "9090        145            2017\n",
       "9342        183            2014"
      ],
      "text/html": "<div>\n<style scoped>\n    .dataframe tbody tr th:only-of-type {\n        vertical-align: middle;\n    }\n\n    .dataframe tbody tr th {\n        vertical-align: top;\n    }\n\n    .dataframe thead th {\n        text-align: right;\n    }\n</style>\n<table border=\"1\" class=\"dataframe\">\n  <thead>\n    <tr style=\"text-align: right;\">\n      <th></th>\n      <th>checkouts</th>\n      <th>publicationyear</th>\n    </tr>\n  </thead>\n  <tbody>\n    <tr>\n      <th>1152</th>\n      <td>148</td>\n      <td>[2018]</td>\n    </tr>\n    <tr>\n      <th>2895</th>\n      <td>184</td>\n      <td>[2018]</td>\n    </tr>\n    <tr>\n      <th>3626</th>\n      <td>138</td>\n      <td>[2016]</td>\n    </tr>\n    <tr>\n      <th>4074</th>\n      <td>173</td>\n      <td>[2018]</td>\n    </tr>\n    <tr>\n      <th>5226</th>\n      <td>135</td>\n      <td>2016</td>\n    </tr>\n    <tr>\n      <th>5313</th>\n      <td>198</td>\n      <td>2018</td>\n    </tr>\n    <tr>\n      <th>6434</th>\n      <td>272</td>\n      <td>2018.</td>\n    </tr>\n    <tr>\n      <th>7189</th>\n      <td>170</td>\n      <td>2017.</td>\n    </tr>\n    <tr>\n      <th>7356</th>\n      <td>585</td>\n      <td>2018.</td>\n    </tr>\n    <tr>\n      <th>8135</th>\n      <td>345</td>\n      <td>2018</td>\n    </tr>\n    <tr>\n      <th>9090</th>\n      <td>145</td>\n      <td>2017</td>\n    </tr>\n    <tr>\n      <th>9342</th>\n      <td>183</td>\n      <td>2014</td>\n    </tr>\n  </tbody>\n</table>\n</div>"
     },
     "metadata": {},
     "execution_count": 83
    }
   ],
   "source": [
    "checkouts_year_df[checkouts_year_df.checkouts >=120]\n"
   ]
  },
  {
   "source": [
    "## Zuwendung zur 4 Aufgabe, erscheint leichter ..."
   ],
   "cell_type": "markdown",
   "metadata": {}
  },
  {
   "cell_type": "code",
   "execution_count": 110,
   "metadata": {},
   "outputs": [
    {
     "output_type": "execute_result",
     "data": {
      "text/plain": [
       "     usageclass checkouttype materialtype  checkoutyear  checkoutmonth  \\\n",
       "7356   Physical      Horizon         BOOK          2018             12   \n",
       "\n",
       "      checkouts                    title     creator  \\\n",
       "7356        585  Past tense / Lee Child.  Child, Lee   \n",
       "\n",
       "                                               subjects         publisher  \\\n",
       "7356  Reacher Jack Fictitious character Fiction, Voy...  Delacorte Press,   \n",
       "\n",
       "     publicationyear  \n",
       "7356           2018.  "
      ],
      "text/html": "<div>\n<style scoped>\n    .dataframe tbody tr th:only-of-type {\n        vertical-align: middle;\n    }\n\n    .dataframe tbody tr th {\n        vertical-align: top;\n    }\n\n    .dataframe thead th {\n        text-align: right;\n    }\n</style>\n<table border=\"1\" class=\"dataframe\">\n  <thead>\n    <tr style=\"text-align: right;\">\n      <th></th>\n      <th>usageclass</th>\n      <th>checkouttype</th>\n      <th>materialtype</th>\n      <th>checkoutyear</th>\n      <th>checkoutmonth</th>\n      <th>checkouts</th>\n      <th>title</th>\n      <th>creator</th>\n      <th>subjects</th>\n      <th>publisher</th>\n      <th>publicationyear</th>\n    </tr>\n  </thead>\n  <tbody>\n    <tr>\n      <th>7356</th>\n      <td>Physical</td>\n      <td>Horizon</td>\n      <td>BOOK</td>\n      <td>2018</td>\n      <td>12</td>\n      <td>585</td>\n      <td>Past tense / Lee Child.</td>\n      <td>Child, Lee</td>\n      <td>Reacher Jack Fictitious character Fiction, Voy...</td>\n      <td>Delacorte Press,</td>\n      <td>2018.</td>\n    </tr>\n  </tbody>\n</table>\n</div>"
     },
     "metadata": {},
     "execution_count": 110
    }
   ],
   "source": [
    "checkouts_df.nlargest(1, 'checkouts') # Anzahl wie viele angezeigt werden sollen, sortierung nach der höchsten Zahl durch nlargest"
   ]
  },
  {
   "cell_type": "code",
   "execution_count": 111,
   "metadata": {},
   "outputs": [
    {
     "output_type": "execute_result",
     "data": {
      "text/plain": [
       "                        title     creator         publisher publicationyear\n",
       "7356  Past tense / Lee Child.  Child, Lee  Delacorte Press,           2018."
      ],
      "text/html": "<div>\n<style scoped>\n    .dataframe tbody tr th:only-of-type {\n        vertical-align: middle;\n    }\n\n    .dataframe tbody tr th {\n        vertical-align: top;\n    }\n\n    .dataframe thead th {\n        text-align: right;\n    }\n</style>\n<table border=\"1\" class=\"dataframe\">\n  <thead>\n    <tr style=\"text-align: right;\">\n      <th></th>\n      <th>title</th>\n      <th>creator</th>\n      <th>publisher</th>\n      <th>publicationyear</th>\n    </tr>\n  </thead>\n  <tbody>\n    <tr>\n      <th>7356</th>\n      <td>Past tense / Lee Child.</td>\n      <td>Child, Lee</td>\n      <td>Delacorte Press,</td>\n      <td>2018.</td>\n    </tr>\n  </tbody>\n</table>\n</div>"
     },
     "metadata": {},
     "execution_count": 111
    }
   ],
   "source": [
    "checkouts_df.nlargest(1, 'checkouts')[[\"title\",\"publisher\",\"publicationyear\"]]\n",
    "#Antwort auf Frage 4: Welcher Titel wurde am Häufigsten ausgeliehen"
   ]
  },
  {
   "source": [
    "## Dann mal ein bißchen experimentieren..."
   ],
   "cell_type": "markdown",
   "metadata": {}
  },
  {
   "cell_type": "code",
   "execution_count": 113,
   "metadata": {},
   "outputs": [],
   "source": [
    "checkouts_largest_df = checkouts_df.nlargest(50, 'checkouts')[[\"publicationyear\",\"materialtype\"]]"
   ]
  },
  {
   "cell_type": "code",
   "execution_count": 116,
   "metadata": {},
   "outputs": [
    {
     "output_type": "execute_result",
     "data": {
      "text/plain": [
       "materialtype\n",
       "BOOK            15\n",
       "VIDEODISC       12\n",
       "AUDIOBOOK       11\n",
       "EBOOK           10\n",
       "MAGAZINE         2\n",
       "dtype: int64"
      ]
     },
     "metadata": {},
     "execution_count": 116
    }
   ],
   "source": [
    "checkouts_largest_df[[\"materialtype\"]].value_counts() #zählung der einzelnen Werte"
   ]
  },
  {
   "cell_type": "code",
   "execution_count": 117,
   "metadata": {},
   "outputs": [],
   "source": [
    "checkouts_ebooks_df = checkouts_df[checkouts_df[\"materialtype\"] == \"EBOOK\"]"
   ]
  },
  {
   "cell_type": "code",
   "execution_count": 122,
   "metadata": {},
   "outputs": [
    {
     "output_type": "execute_result",
     "data": {
      "text/plain": [
       "                                                  title      creator  \\\n",
       "9342  The Life-Changing Magic of Tidying Up: The Jap...  Marie Kondo   \n",
       "\n",
       "               publisher publicationyear  checkouts  \n",
       "9342  Random House, Inc.            2014        183  "
      ],
      "text/html": "<div>\n<style scoped>\n    .dataframe tbody tr th:only-of-type {\n        vertical-align: middle;\n    }\n\n    .dataframe tbody tr th {\n        vertical-align: top;\n    }\n\n    .dataframe thead th {\n        text-align: right;\n    }\n</style>\n<table border=\"1\" class=\"dataframe\">\n  <thead>\n    <tr style=\"text-align: right;\">\n      <th></th>\n      <th>title</th>\n      <th>creator</th>\n      <th>publisher</th>\n      <th>publicationyear</th>\n      <th>checkouts</th>\n    </tr>\n  </thead>\n  <tbody>\n    <tr>\n      <th>9342</th>\n      <td>The Life-Changing Magic of Tidying Up: The Jap...</td>\n      <td>Marie Kondo</td>\n      <td>Random House, Inc.</td>\n      <td>2014</td>\n      <td>183</td>\n    </tr>\n  </tbody>\n</table>\n</div>"
     },
     "metadata": {},
     "execution_count": 122
    }
   ],
   "source": [
    "checkouts_ebooks_df.nlargest(1,\"checkouts\")[[\"title\",\"creator\",\"publisher\",\"publicationyear\",\"checkouts\"]]\n",
    "#beantwortet, welches das am meisten ausgeliehen Ebook war und wie oft"
   ]
  },
  {
   "cell_type": "code",
   "execution_count": 259,
   "metadata": {},
   "outputs": [
    {
     "output_type": "execute_result",
     "data": {
      "text/plain": [
       "     usageclass checkouttype materialtype  checkoutyear  checkoutmonth  \\\n",
       "9342    Digital    OverDrive        EBOOK          2018             12   \n",
       "\n",
       "      checkouts                                              title  \\\n",
       "9342        183  The Life-Changing Magic of Tidying Up: The Jap...   \n",
       "\n",
       "          creator                                           subjects  \\\n",
       "9342  Marie Kondo  Home Design & Décor, Nonfiction, Philosophy, S...   \n",
       "\n",
       "               publisher publicationyear  \n",
       "9342  Random House, Inc.            2014  "
      ],
      "text/html": "<div>\n<style scoped>\n    .dataframe tbody tr th:only-of-type {\n        vertical-align: middle;\n    }\n\n    .dataframe tbody tr th {\n        vertical-align: top;\n    }\n\n    .dataframe thead th {\n        text-align: right;\n    }\n</style>\n<table border=\"1\" class=\"dataframe\">\n  <thead>\n    <tr style=\"text-align: right;\">\n      <th></th>\n      <th>usageclass</th>\n      <th>checkouttype</th>\n      <th>materialtype</th>\n      <th>checkoutyear</th>\n      <th>checkoutmonth</th>\n      <th>checkouts</th>\n      <th>title</th>\n      <th>creator</th>\n      <th>subjects</th>\n      <th>publisher</th>\n      <th>publicationyear</th>\n    </tr>\n  </thead>\n  <tbody>\n    <tr>\n      <th>9342</th>\n      <td>Digital</td>\n      <td>OverDrive</td>\n      <td>EBOOK</td>\n      <td>2018</td>\n      <td>12</td>\n      <td>183</td>\n      <td>The Life-Changing Magic of Tidying Up: The Jap...</td>\n      <td>Marie Kondo</td>\n      <td>Home Design &amp; Décor, Nonfiction, Philosophy, S...</td>\n      <td>Random House, Inc.</td>\n      <td>2014</td>\n    </tr>\n  </tbody>\n</table>\n</div>"
     },
     "metadata": {},
     "execution_count": 259
    }
   ],
   "source": [
    "checkouts_df[checkouts_df[\"creator\"] == \"Marie Kondo\"] # Frage, ob auch andere Bücher von Marie Kondo ausgeliehen wurden"
   ]
  },
  {
   "cell_type": "code",
   "execution_count": 271,
   "metadata": {},
   "outputs": [],
   "source": [
    "checkouts_creator_unique_df = checkouts_df.creator.drop_duplicates"
   ]
  },
  {
   "cell_type": "code",
   "execution_count": 272,
   "metadata": {},
   "outputs": [
    {
     "output_type": "execute_result",
     "data": {
      "text/plain": [
       "<bound method Series.drop_duplicates of 0                                    Small, Gary, 1951-\n",
       "1                        Williams, Tennessee, 1911-1983\n",
       "2       Fitzgerald, F. Scott (Francis Scott), 1896-1940\n",
       "3                                         Gilbey, Henry\n",
       "4                                     Schanzer, Rosalyn\n",
       "                             ...                       \n",
       "9995                                     Rueda, Claudia\n",
       "9996                             Alexander McCall Smith\n",
       "9997                                      Victoria Holt\n",
       "9998                                                NaN\n",
       "9999                               Brophy, David Bergen\n",
       "Name: creator, Length: 10000, dtype: object>"
      ]
     },
     "metadata": {},
     "execution_count": 272
    }
   ],
   "source": [
    "checkouts_creator_unique_df \n",
    "#okay, das hat nix gebracht, scheint aber tatsächlich nur einmal Kondo zu sein..."
   ]
  },
  {
   "source": [
    "## und der Frage 3 zu Verlagen und Ausleihzahlen"
   ],
   "cell_type": "markdown",
   "metadata": {}
  },
  {
   "cell_type": "code",
   "execution_count": 128,
   "metadata": {},
   "outputs": [
    {
     "output_type": "execute_result",
     "data": {
      "text/plain": [
       "                      publisher  checkouts\n",
       "7356           Delacorte Press,        585\n",
       "8135              Books on Tape        345\n",
       "6434             Penguin Books,        272\n",
       "5313              Books on Tape        198\n",
       "2895                 Paramount,        184\n",
       "...                         ...        ...\n",
       "1337     Hachette Digital, Inc.         28\n",
       "2450                 Lionsgate,         28\n",
       "5472                       Tor,         28\n",
       "6455  Lions Gate Entertainment,         28\n",
       "2581                    Viking,         27\n",
       "\n",
       "[100 rows x 2 columns]"
      ],
      "text/html": "<div>\n<style scoped>\n    .dataframe tbody tr th:only-of-type {\n        vertical-align: middle;\n    }\n\n    .dataframe tbody tr th {\n        vertical-align: top;\n    }\n\n    .dataframe thead th {\n        text-align: right;\n    }\n</style>\n<table border=\"1\" class=\"dataframe\">\n  <thead>\n    <tr style=\"text-align: right;\">\n      <th></th>\n      <th>publisher</th>\n      <th>checkouts</th>\n    </tr>\n  </thead>\n  <tbody>\n    <tr>\n      <th>7356</th>\n      <td>Delacorte Press,</td>\n      <td>585</td>\n    </tr>\n    <tr>\n      <th>8135</th>\n      <td>Books on Tape</td>\n      <td>345</td>\n    </tr>\n    <tr>\n      <th>6434</th>\n      <td>Penguin Books,</td>\n      <td>272</td>\n    </tr>\n    <tr>\n      <th>5313</th>\n      <td>Books on Tape</td>\n      <td>198</td>\n    </tr>\n    <tr>\n      <th>2895</th>\n      <td>Paramount,</td>\n      <td>184</td>\n    </tr>\n    <tr>\n      <th>...</th>\n      <td>...</td>\n      <td>...</td>\n    </tr>\n    <tr>\n      <th>1337</th>\n      <td>Hachette Digital, Inc.</td>\n      <td>28</td>\n    </tr>\n    <tr>\n      <th>2450</th>\n      <td>Lionsgate,</td>\n      <td>28</td>\n    </tr>\n    <tr>\n      <th>5472</th>\n      <td>Tor,</td>\n      <td>28</td>\n    </tr>\n    <tr>\n      <th>6455</th>\n      <td>Lions Gate Entertainment,</td>\n      <td>28</td>\n    </tr>\n    <tr>\n      <th>2581</th>\n      <td>Viking,</td>\n      <td>27</td>\n    </tr>\n  </tbody>\n</table>\n<p>100 rows × 2 columns</p>\n</div>"
     },
     "metadata": {},
     "execution_count": 128
    }
   ],
   "source": [
    "checkouts_df.nlargest(100,\"checkouts\")[[\"publisher\",\"checkouts\"]]"
   ]
  },
  {
   "cell_type": "code",
   "execution_count": 126,
   "metadata": {},
   "outputs": [
    {
     "output_type": "execute_result",
     "data": {
      "text/plain": [
       "Random House, Inc.                                     547\n",
       "Penguin Group (USA), Inc.                              408\n",
       "HarperCollins Publishers Inc.                          395\n",
       "Books on Tape                                          236\n",
       "Blackstone Audio, Inc.                                 203\n",
       "                                                      ... \n",
       "Carolrhoda Lab,                                          1\n",
       "Distributed by Paramount,                                1\n",
       "Warner/Chappell,                                         1\n",
       "Home Box Office ; distributed by Warner Home Video,      1\n",
       "Encounter Books,                                         1\n",
       "Name: publisher, Length: 2905, dtype: int64"
      ]
     },
     "metadata": {},
     "execution_count": 126
    }
   ],
   "source": [
    "checkouts_df[\"publisher\"].value_counts() #Verlage und ihre Häufigkeit in der Liste"
   ]
  },
  {
   "cell_type": "code",
   "execution_count": 129,
   "metadata": {},
   "outputs": [
    {
     "output_type": "execute_result",
     "data": {
      "text/plain": [
       "                                                    checkouts\n",
       "publisher                                                    \n",
       "!K7 Music,                                                  1\n",
       "!K7 Records,                                                1\n",
       "\"Melissa\",                                                  1\n",
       "#Merky Records,                                             1\n",
       "10Publishing,                                               1\n",
       "...                                                       ...\n",
       "monterey media inc.                                         1\n",
       "published with the authorization of Microsoft C...          2\n",
       "ĖKSMO,                                                      3\n",
       "Ėksmo,                                                      2\n",
       "Ėnas-kniga,                                                 1\n",
       "\n",
       "[2905 rows x 1 columns]"
      ],
      "text/html": "<div>\n<style scoped>\n    .dataframe tbody tr th:only-of-type {\n        vertical-align: middle;\n    }\n\n    .dataframe tbody tr th {\n        vertical-align: top;\n    }\n\n    .dataframe thead th {\n        text-align: right;\n    }\n</style>\n<table border=\"1\" class=\"dataframe\">\n  <thead>\n    <tr style=\"text-align: right;\">\n      <th></th>\n      <th>checkouts</th>\n    </tr>\n    <tr>\n      <th>publisher</th>\n      <th></th>\n    </tr>\n  </thead>\n  <tbody>\n    <tr>\n      <th>!K7 Music,</th>\n      <td>1</td>\n    </tr>\n    <tr>\n      <th>!K7 Records,</th>\n      <td>1</td>\n    </tr>\n    <tr>\n      <th>\"Melissa\",</th>\n      <td>1</td>\n    </tr>\n    <tr>\n      <th>#Merky Records,</th>\n      <td>1</td>\n    </tr>\n    <tr>\n      <th>10Publishing,</th>\n      <td>1</td>\n    </tr>\n    <tr>\n      <th>...</th>\n      <td>...</td>\n    </tr>\n    <tr>\n      <th>monterey media inc.</th>\n      <td>1</td>\n    </tr>\n    <tr>\n      <th>published with the authorization of Microsoft Corporation by: Pearson Education, Inc.,</th>\n      <td>2</td>\n    </tr>\n    <tr>\n      <th>ĖKSMO,</th>\n      <td>3</td>\n    </tr>\n    <tr>\n      <th>Ėksmo,</th>\n      <td>2</td>\n    </tr>\n    <tr>\n      <th>Ėnas-kniga,</th>\n      <td>1</td>\n    </tr>\n  </tbody>\n</table>\n<p>2905 rows × 1 columns</p>\n</div>"
     },
     "metadata": {},
     "execution_count": 129
    }
   ],
   "source": [
    "checkouts_df[[\"publisher\",\"checkouts\"]].groupby(\"publisher\").sum()\n",
    "#listet die Verlage und Ausleihzahlen, aber blöd sortiert "
   ]
  },
  {
   "cell_type": "code",
   "execution_count": 130,
   "metadata": {},
   "outputs": [],
   "source": [
    "checkouts_publisher_df = checkouts_df[[\"publisher\",\"checkouts\"]].groupby(\"publisher\").sum()"
   ]
  },
  {
   "cell_type": "code",
   "execution_count": 131,
   "metadata": {},
   "outputs": [
    {
     "output_type": "execute_result",
     "data": {
      "text/plain": [
       "                               checkouts\n",
       "publisher                               \n",
       "Random House, Inc.                  2135\n",
       "Books on Tape                       1683\n",
       "HarperCollins Publishers Inc.       1437\n",
       "Penguin Group (USA), Inc.           1078\n",
       "Hachette Digital, Inc.               728\n",
       "Blackstone Audio, Inc.               713\n",
       "Delacorte Press,                     615\n",
       "Macmillan Publishers                 570\n",
       "Random House,                        517\n",
       "Simon & Schuster, Inc.               464"
      ],
      "text/html": "<div>\n<style scoped>\n    .dataframe tbody tr th:only-of-type {\n        vertical-align: middle;\n    }\n\n    .dataframe tbody tr th {\n        vertical-align: top;\n    }\n\n    .dataframe thead th {\n        text-align: right;\n    }\n</style>\n<table border=\"1\" class=\"dataframe\">\n  <thead>\n    <tr style=\"text-align: right;\">\n      <th></th>\n      <th>checkouts</th>\n    </tr>\n    <tr>\n      <th>publisher</th>\n      <th></th>\n    </tr>\n  </thead>\n  <tbody>\n    <tr>\n      <th>Random House, Inc.</th>\n      <td>2135</td>\n    </tr>\n    <tr>\n      <th>Books on Tape</th>\n      <td>1683</td>\n    </tr>\n    <tr>\n      <th>HarperCollins Publishers Inc.</th>\n      <td>1437</td>\n    </tr>\n    <tr>\n      <th>Penguin Group (USA), Inc.</th>\n      <td>1078</td>\n    </tr>\n    <tr>\n      <th>Hachette Digital, Inc.</th>\n      <td>728</td>\n    </tr>\n    <tr>\n      <th>Blackstone Audio, Inc.</th>\n      <td>713</td>\n    </tr>\n    <tr>\n      <th>Delacorte Press,</th>\n      <td>615</td>\n    </tr>\n    <tr>\n      <th>Macmillan Publishers</th>\n      <td>570</td>\n    </tr>\n    <tr>\n      <th>Random House,</th>\n      <td>517</td>\n    </tr>\n    <tr>\n      <th>Simon &amp; Schuster, Inc.</th>\n      <td>464</td>\n    </tr>\n  </tbody>\n</table>\n</div>"
     },
     "metadata": {},
     "execution_count": 131
    }
   ],
   "source": [
    "checkouts_publisher_df.nlargest(10,\"checkouts\")\n",
    "# Antwort auf Frage 3: Welche verlage werden besonders viel Ausgeliehen"
   ]
  },
  {
   "source": [
    "## dann war da noch die Frage nach der Ausleihe von Books vs Ebooks"
   ],
   "cell_type": "markdown",
   "metadata": {}
  },
  {
   "cell_type": "code",
   "execution_count": 133,
   "metadata": {},
   "outputs": [
    {
     "output_type": "execute_result",
     "data": {
      "text/plain": [
       "                      checkouts\n",
       "materialtype                   \n",
       "AUDIOBOOK                  4601\n",
       "BOOK                      14348\n",
       "CR                           19\n",
       "EBOOK                      7754\n",
       "ER                           10\n",
       "ER, SOUNDDISC                 4\n",
       "LARGEPRINT                    9\n",
       "MAGAZINE                    254\n",
       "MIXED                        18\n",
       "MUSIC                        30\n",
       "REGPRINT                     70\n",
       "SOUNDDISC                  1838\n",
       "SOUNDDISC, VIDEODISC         28\n",
       "SOUNDREC                      7\n",
       "VIDEO                         7\n",
       "VIDEODISC                  5689"
      ],
      "text/html": "<div>\n<style scoped>\n    .dataframe tbody tr th:only-of-type {\n        vertical-align: middle;\n    }\n\n    .dataframe tbody tr th {\n        vertical-align: top;\n    }\n\n    .dataframe thead th {\n        text-align: right;\n    }\n</style>\n<table border=\"1\" class=\"dataframe\">\n  <thead>\n    <tr style=\"text-align: right;\">\n      <th></th>\n      <th>checkouts</th>\n    </tr>\n    <tr>\n      <th>materialtype</th>\n      <th></th>\n    </tr>\n  </thead>\n  <tbody>\n    <tr>\n      <th>AUDIOBOOK</th>\n      <td>4601</td>\n    </tr>\n    <tr>\n      <th>BOOK</th>\n      <td>14348</td>\n    </tr>\n    <tr>\n      <th>CR</th>\n      <td>19</td>\n    </tr>\n    <tr>\n      <th>EBOOK</th>\n      <td>7754</td>\n    </tr>\n    <tr>\n      <th>ER</th>\n      <td>10</td>\n    </tr>\n    <tr>\n      <th>ER, SOUNDDISC</th>\n      <td>4</td>\n    </tr>\n    <tr>\n      <th>LARGEPRINT</th>\n      <td>9</td>\n    </tr>\n    <tr>\n      <th>MAGAZINE</th>\n      <td>254</td>\n    </tr>\n    <tr>\n      <th>MIXED</th>\n      <td>18</td>\n    </tr>\n    <tr>\n      <th>MUSIC</th>\n      <td>30</td>\n    </tr>\n    <tr>\n      <th>REGPRINT</th>\n      <td>70</td>\n    </tr>\n    <tr>\n      <th>SOUNDDISC</th>\n      <td>1838</td>\n    </tr>\n    <tr>\n      <th>SOUNDDISC, VIDEODISC</th>\n      <td>28</td>\n    </tr>\n    <tr>\n      <th>SOUNDREC</th>\n      <td>7</td>\n    </tr>\n    <tr>\n      <th>VIDEO</th>\n      <td>7</td>\n    </tr>\n    <tr>\n      <th>VIDEODISC</th>\n      <td>5689</td>\n    </tr>\n  </tbody>\n</table>\n</div>"
     },
     "metadata": {},
     "execution_count": 133
    }
   ],
   "source": [
    "checkouts_df[[\"materialtype\",\"checkouts\"]].groupby(\"materialtype\").sum()"
   ]
  },
  {
   "cell_type": "code",
   "execution_count": 134,
   "metadata": {},
   "outputs": [
    {
     "output_type": "execute_result",
     "data": {
      "text/plain": [
       "                      checkouts\n",
       "materialtype                   \n",
       "BOOK                      14348\n",
       "EBOOK                      7754\n",
       "VIDEODISC                  5689\n",
       "AUDIOBOOK                  4601\n",
       "SOUNDDISC                  1838\n",
       "MAGAZINE                    254\n",
       "REGPRINT                     70\n",
       "MUSIC                        30\n",
       "SOUNDDISC, VIDEODISC         28\n",
       "CR                           19"
      ],
      "text/html": "<div>\n<style scoped>\n    .dataframe tbody tr th:only-of-type {\n        vertical-align: middle;\n    }\n\n    .dataframe tbody tr th {\n        vertical-align: top;\n    }\n\n    .dataframe thead th {\n        text-align: right;\n    }\n</style>\n<table border=\"1\" class=\"dataframe\">\n  <thead>\n    <tr style=\"text-align: right;\">\n      <th></th>\n      <th>checkouts</th>\n    </tr>\n    <tr>\n      <th>materialtype</th>\n      <th></th>\n    </tr>\n  </thead>\n  <tbody>\n    <tr>\n      <th>BOOK</th>\n      <td>14348</td>\n    </tr>\n    <tr>\n      <th>EBOOK</th>\n      <td>7754</td>\n    </tr>\n    <tr>\n      <th>VIDEODISC</th>\n      <td>5689</td>\n    </tr>\n    <tr>\n      <th>AUDIOBOOK</th>\n      <td>4601</td>\n    </tr>\n    <tr>\n      <th>SOUNDDISC</th>\n      <td>1838</td>\n    </tr>\n    <tr>\n      <th>MAGAZINE</th>\n      <td>254</td>\n    </tr>\n    <tr>\n      <th>REGPRINT</th>\n      <td>70</td>\n    </tr>\n    <tr>\n      <th>MUSIC</th>\n      <td>30</td>\n    </tr>\n    <tr>\n      <th>SOUNDDISC, VIDEODISC</th>\n      <td>28</td>\n    </tr>\n    <tr>\n      <th>CR</th>\n      <td>19</td>\n    </tr>\n  </tbody>\n</table>\n</div>"
     },
     "metadata": {},
     "execution_count": 134
    }
   ],
   "source": [
    "checkouts_df[[\"materialtype\",\"checkouts\"]].groupby(\"materialtype\").sum().nlargest(10,\"checkouts\")\n",
    "# und das ganze von eben nochmal nach Größe sortiert / Antwort auf Frage 2: Was wird mehr ausgeliehen: Books oder ebooks"
   ]
  },
  {
   "cell_type": "code",
   "execution_count": 176,
   "metadata": {},
   "outputs": [
    {
     "output_type": "execute_result",
     "data": {
      "text/plain": [
       "array([[<AxesSubplot:title={'center':'checkouts'}>]], dtype=object)"
      ]
     },
     "metadata": {},
     "execution_count": 176
    },
    {
     "output_type": "display_data",
     "data": {
      "text/plain": "<Figure size 432x288 with 1 Axes>",
      "image/svg+xml": "<?xml version=\"1.0\" encoding=\"utf-8\" standalone=\"no\"?>\r\n<!DOCTYPE svg PUBLIC \"-//W3C//DTD SVG 1.1//EN\"\r\n  \"http://www.w3.org/Graphics/SVG/1.1/DTD/svg11.dtd\">\r\n<!-- Created with matplotlib (https://matplotlib.org/) -->\r\n<svg height=\"263.63625pt\" version=\"1.1\" viewBox=\"0 0 362.5625 263.63625\" width=\"362.5625pt\" xmlns=\"http://www.w3.org/2000/svg\" xmlns:xlink=\"http://www.w3.org/1999/xlink\">\r\n <metadata>\r\n  <rdf:RDF xmlns:cc=\"http://creativecommons.org/ns#\" xmlns:dc=\"http://purl.org/dc/elements/1.1/\" xmlns:rdf=\"http://www.w3.org/1999/02/22-rdf-syntax-ns#\">\r\n   <cc:Work>\r\n    <dc:type rdf:resource=\"http://purl.org/dc/dcmitype/StillImage\"/>\r\n    <dc:date>2020-12-16T10:38:30.435175</dc:date>\r\n    <dc:format>image/svg+xml</dc:format>\r\n    <dc:creator>\r\n     <cc:Agent>\r\n      <dc:title>Matplotlib v3.3.3, https://matplotlib.org/</dc:title>\r\n     </cc:Agent>\r\n    </dc:creator>\r\n   </cc:Work>\r\n  </rdf:RDF>\r\n </metadata>\r\n <defs>\r\n  <style type=\"text/css\">*{stroke-linecap:butt;stroke-linejoin:round;}</style>\r\n </defs>\r\n <g id=\"figure_1\">\r\n  <g id=\"patch_1\">\r\n   <path d=\"M 0 263.63625 \r\nL 362.5625 263.63625 \r\nL 362.5625 0 \r\nL 0 0 \r\nz\r\n\" style=\"fill:none;\"/>\r\n  </g>\r\n  <g id=\"axes_1\">\r\n   <g id=\"patch_2\">\r\n    <path d=\"M 20.5625 239.758125 \r\nL 355.3625 239.758125 \r\nL 355.3625 22.318125 \r\nL 20.5625 22.318125 \r\nz\r\n\" style=\"fill:#ffffff;\"/>\r\n   </g>\r\n   <g id=\"patch_3\">\r\n    <path clip-path=\"url(#pb851661d43)\" d=\"M 35.780682 239.758125 \r\nL 66.217045 239.758125 \r\nL 66.217045 32.672411 \r\nL 35.780682 32.672411 \r\nz\r\n\" style=\"fill:#1f77b4;\"/>\r\n   </g>\r\n   <g id=\"patch_4\">\r\n    <path clip-path=\"url(#pb851661d43)\" d=\"M 66.217045 239.758125 \r\nL 96.653409 239.758125 \r\nL 96.653409 198.340982 \r\nL 66.217045 198.340982 \r\nz\r\n\" style=\"fill:#1f77b4;\"/>\r\n   </g>\r\n   <g id=\"patch_5\">\r\n    <path clip-path=\"url(#pb851661d43)\" d=\"M 96.653409 239.758125 \r\nL 127.089773 239.758125 \r\nL 127.089773 239.758125 \r\nL 96.653409 239.758125 \r\nz\r\n\" style=\"fill:#1f77b4;\"/>\r\n   </g>\r\n   <g id=\"patch_6\">\r\n    <path clip-path=\"url(#pb851661d43)\" d=\"M 127.089773 239.758125 \r\nL 157.526136 239.758125 \r\nL 157.526136 156.923839 \r\nL 127.089773 156.923839 \r\nz\r\n\" style=\"fill:#1f77b4;\"/>\r\n   </g>\r\n   <g id=\"patch_7\">\r\n    <path clip-path=\"url(#pb851661d43)\" d=\"M 157.526136 239.758125 \r\nL 187.9625 239.758125 \r\nL 187.9625 239.758125 \r\nL 157.526136 239.758125 \r\nz\r\n\" style=\"fill:#1f77b4;\"/>\r\n   </g>\r\n   <g id=\"patch_8\">\r\n    <path clip-path=\"url(#pb851661d43)\" d=\"M 187.9625 239.758125 \r\nL 218.398864 239.758125 \r\nL 218.398864 198.340982 \r\nL 187.9625 198.340982 \r\nz\r\n\" style=\"fill:#1f77b4;\"/>\r\n   </g>\r\n   <g id=\"patch_9\">\r\n    <path clip-path=\"url(#pb851661d43)\" d=\"M 218.398864 239.758125 \r\nL 248.835227 239.758125 \r\nL 248.835227 239.758125 \r\nL 218.398864 239.758125 \r\nz\r\n\" style=\"fill:#1f77b4;\"/>\r\n   </g>\r\n   <g id=\"patch_10\">\r\n    <path clip-path=\"url(#pb851661d43)\" d=\"M 248.835227 239.758125 \r\nL 279.271591 239.758125 \r\nL 279.271591 239.758125 \r\nL 248.835227 239.758125 \r\nz\r\n\" style=\"fill:#1f77b4;\"/>\r\n   </g>\r\n   <g id=\"patch_11\">\r\n    <path clip-path=\"url(#pb851661d43)\" d=\"M 279.271591 239.758125 \r\nL 309.707955 239.758125 \r\nL 309.707955 239.758125 \r\nL 279.271591 239.758125 \r\nz\r\n\" style=\"fill:#1f77b4;\"/>\r\n   </g>\r\n   <g id=\"patch_12\">\r\n    <path clip-path=\"url(#pb851661d43)\" d=\"M 309.707955 239.758125 \r\nL 340.144318 239.758125 \r\nL 340.144318 198.340982 \r\nL 309.707955 198.340982 \r\nz\r\n\" style=\"fill:#1f77b4;\"/>\r\n   </g>\r\n   <g id=\"matplotlib.axis_1\">\r\n    <g id=\"xtick_1\">\r\n     <g id=\"line2d_1\">\r\n      <path clip-path=\"url(#pb851661d43)\" d=\"M 35.377101 239.758125 \r\nL 35.377101 22.318125 \r\n\" style=\"fill:none;stroke:#b0b0b0;stroke-linecap:square;stroke-width:0.8;\"/>\r\n     </g>\r\n     <g id=\"line2d_2\">\r\n      <defs>\r\n       <path d=\"M 0 0 \r\nL 0 3.5 \r\n\" id=\"m33ecdb2526\" style=\"stroke:#000000;stroke-width:0.8;\"/>\r\n      </defs>\r\n      <g>\r\n       <use style=\"stroke:#000000;stroke-width:0.8;\" x=\"35.377101\" xlink:href=\"#m33ecdb2526\" y=\"239.758125\"/>\r\n      </g>\r\n     </g>\r\n     <g id=\"text_1\">\r\n      <!-- 0 -->\r\n      <g transform=\"translate(32.195851 254.356563)scale(0.1 -0.1)\">\r\n       <defs>\r\n        <path d=\"M 31.78125 66.40625 \r\nQ 24.171875 66.40625 20.328125 58.90625 \r\nQ 16.5 51.421875 16.5 36.375 \r\nQ 16.5 21.390625 20.328125 13.890625 \r\nQ 24.171875 6.390625 31.78125 6.390625 \r\nQ 39.453125 6.390625 43.28125 13.890625 \r\nQ 47.125 21.390625 47.125 36.375 \r\nQ 47.125 51.421875 43.28125 58.90625 \r\nQ 39.453125 66.40625 31.78125 66.40625 \r\nz\r\nM 31.78125 74.21875 \r\nQ 44.046875 74.21875 50.515625 64.515625 \r\nQ 56.984375 54.828125 56.984375 36.375 \r\nQ 56.984375 17.96875 50.515625 8.265625 \r\nQ 44.046875 -1.421875 31.78125 -1.421875 \r\nQ 19.53125 -1.421875 13.0625 8.265625 \r\nQ 6.59375 17.96875 6.59375 36.375 \r\nQ 6.59375 54.828125 13.0625 64.515625 \r\nQ 19.53125 74.21875 31.78125 74.21875 \r\nz\r\n\" id=\"DejaVuSans-48\"/>\r\n       </defs>\r\n       <use xlink:href=\"#DejaVuSans-48\"/>\r\n      </g>\r\n     </g>\r\n    </g>\r\n    <g id=\"xtick_2\">\r\n     <g id=\"line2d_3\">\r\n      <path clip-path=\"url(#pb851661d43)\" d=\"M 77.859289 239.758125 \r\nL 77.859289 22.318125 \r\n\" style=\"fill:none;stroke:#b0b0b0;stroke-linecap:square;stroke-width:0.8;\"/>\r\n     </g>\r\n     <g id=\"line2d_4\">\r\n      <g>\r\n       <use style=\"stroke:#000000;stroke-width:0.8;\" x=\"77.859289\" xlink:href=\"#m33ecdb2526\" y=\"239.758125\"/>\r\n      </g>\r\n     </g>\r\n     <g id=\"text_2\">\r\n      <!-- 2000 -->\r\n      <g transform=\"translate(65.134289 254.356563)scale(0.1 -0.1)\">\r\n       <defs>\r\n        <path d=\"M 19.1875 8.296875 \r\nL 53.609375 8.296875 \r\nL 53.609375 0 \r\nL 7.328125 0 \r\nL 7.328125 8.296875 \r\nQ 12.9375 14.109375 22.625 23.890625 \r\nQ 32.328125 33.6875 34.8125 36.53125 \r\nQ 39.546875 41.84375 41.421875 45.53125 \r\nQ 43.3125 49.21875 43.3125 52.78125 \r\nQ 43.3125 58.59375 39.234375 62.25 \r\nQ 35.15625 65.921875 28.609375 65.921875 \r\nQ 23.96875 65.921875 18.8125 64.3125 \r\nQ 13.671875 62.703125 7.8125 59.421875 \r\nL 7.8125 69.390625 \r\nQ 13.765625 71.78125 18.9375 73 \r\nQ 24.125 74.21875 28.421875 74.21875 \r\nQ 39.75 74.21875 46.484375 68.546875 \r\nQ 53.21875 62.890625 53.21875 53.421875 \r\nQ 53.21875 48.921875 51.53125 44.890625 \r\nQ 49.859375 40.875 45.40625 35.40625 \r\nQ 44.1875 33.984375 37.640625 27.21875 \r\nQ 31.109375 20.453125 19.1875 8.296875 \r\nz\r\n\" id=\"DejaVuSans-50\"/>\r\n       </defs>\r\n       <use xlink:href=\"#DejaVuSans-50\"/>\r\n       <use x=\"63.623047\" xlink:href=\"#DejaVuSans-48\"/>\r\n       <use x=\"127.246094\" xlink:href=\"#DejaVuSans-48\"/>\r\n       <use x=\"190.869141\" xlink:href=\"#DejaVuSans-48\"/>\r\n      </g>\r\n     </g>\r\n    </g>\r\n    <g id=\"xtick_3\">\r\n     <g id=\"line2d_5\">\r\n      <path clip-path=\"url(#pb851661d43)\" d=\"M 120.341477 239.758125 \r\nL 120.341477 22.318125 \r\n\" style=\"fill:none;stroke:#b0b0b0;stroke-linecap:square;stroke-width:0.8;\"/>\r\n     </g>\r\n     <g id=\"line2d_6\">\r\n      <g>\r\n       <use style=\"stroke:#000000;stroke-width:0.8;\" x=\"120.341477\" xlink:href=\"#m33ecdb2526\" y=\"239.758125\"/>\r\n      </g>\r\n     </g>\r\n     <g id=\"text_3\">\r\n      <!-- 4000 -->\r\n      <g transform=\"translate(107.616477 254.356563)scale(0.1 -0.1)\">\r\n       <defs>\r\n        <path d=\"M 37.796875 64.3125 \r\nL 12.890625 25.390625 \r\nL 37.796875 25.390625 \r\nz\r\nM 35.203125 72.90625 \r\nL 47.609375 72.90625 \r\nL 47.609375 25.390625 \r\nL 58.015625 25.390625 \r\nL 58.015625 17.1875 \r\nL 47.609375 17.1875 \r\nL 47.609375 0 \r\nL 37.796875 0 \r\nL 37.796875 17.1875 \r\nL 4.890625 17.1875 \r\nL 4.890625 26.703125 \r\nz\r\n\" id=\"DejaVuSans-52\"/>\r\n       </defs>\r\n       <use xlink:href=\"#DejaVuSans-52\"/>\r\n       <use x=\"63.623047\" xlink:href=\"#DejaVuSans-48\"/>\r\n       <use x=\"127.246094\" xlink:href=\"#DejaVuSans-48\"/>\r\n       <use x=\"190.869141\" xlink:href=\"#DejaVuSans-48\"/>\r\n      </g>\r\n     </g>\r\n    </g>\r\n    <g id=\"xtick_4\">\r\n     <g id=\"line2d_7\">\r\n      <path clip-path=\"url(#pb851661d43)\" d=\"M 162.823665 239.758125 \r\nL 162.823665 22.318125 \r\n\" style=\"fill:none;stroke:#b0b0b0;stroke-linecap:square;stroke-width:0.8;\"/>\r\n     </g>\r\n     <g id=\"line2d_8\">\r\n      <g>\r\n       <use style=\"stroke:#000000;stroke-width:0.8;\" x=\"162.823665\" xlink:href=\"#m33ecdb2526\" y=\"239.758125\"/>\r\n      </g>\r\n     </g>\r\n     <g id=\"text_4\">\r\n      <!-- 6000 -->\r\n      <g transform=\"translate(150.098665 254.356563)scale(0.1 -0.1)\">\r\n       <defs>\r\n        <path d=\"M 33.015625 40.375 \r\nQ 26.375 40.375 22.484375 35.828125 \r\nQ 18.609375 31.296875 18.609375 23.390625 \r\nQ 18.609375 15.53125 22.484375 10.953125 \r\nQ 26.375 6.390625 33.015625 6.390625 \r\nQ 39.65625 6.390625 43.53125 10.953125 \r\nQ 47.40625 15.53125 47.40625 23.390625 \r\nQ 47.40625 31.296875 43.53125 35.828125 \r\nQ 39.65625 40.375 33.015625 40.375 \r\nz\r\nM 52.59375 71.296875 \r\nL 52.59375 62.3125 \r\nQ 48.875 64.0625 45.09375 64.984375 \r\nQ 41.3125 65.921875 37.59375 65.921875 \r\nQ 27.828125 65.921875 22.671875 59.328125 \r\nQ 17.53125 52.734375 16.796875 39.40625 \r\nQ 19.671875 43.65625 24.015625 45.921875 \r\nQ 28.375 48.1875 33.59375 48.1875 \r\nQ 44.578125 48.1875 50.953125 41.515625 \r\nQ 57.328125 34.859375 57.328125 23.390625 \r\nQ 57.328125 12.15625 50.6875 5.359375 \r\nQ 44.046875 -1.421875 33.015625 -1.421875 \r\nQ 20.359375 -1.421875 13.671875 8.265625 \r\nQ 6.984375 17.96875 6.984375 36.375 \r\nQ 6.984375 53.65625 15.1875 63.9375 \r\nQ 23.390625 74.21875 37.203125 74.21875 \r\nQ 40.921875 74.21875 44.703125 73.484375 \r\nQ 48.484375 72.75 52.59375 71.296875 \r\nz\r\n\" id=\"DejaVuSans-54\"/>\r\n       </defs>\r\n       <use xlink:href=\"#DejaVuSans-54\"/>\r\n       <use x=\"63.623047\" xlink:href=\"#DejaVuSans-48\"/>\r\n       <use x=\"127.246094\" xlink:href=\"#DejaVuSans-48\"/>\r\n       <use x=\"190.869141\" xlink:href=\"#DejaVuSans-48\"/>\r\n      </g>\r\n     </g>\r\n    </g>\r\n    <g id=\"xtick_5\">\r\n     <g id=\"line2d_9\">\r\n      <path clip-path=\"url(#pb851661d43)\" d=\"M 205.305853 239.758125 \r\nL 205.305853 22.318125 \r\n\" style=\"fill:none;stroke:#b0b0b0;stroke-linecap:square;stroke-width:0.8;\"/>\r\n     </g>\r\n     <g id=\"line2d_10\">\r\n      <g>\r\n       <use style=\"stroke:#000000;stroke-width:0.8;\" x=\"205.305853\" xlink:href=\"#m33ecdb2526\" y=\"239.758125\"/>\r\n      </g>\r\n     </g>\r\n     <g id=\"text_5\">\r\n      <!-- 8000 -->\r\n      <g transform=\"translate(192.580853 254.356563)scale(0.1 -0.1)\">\r\n       <defs>\r\n        <path d=\"M 31.78125 34.625 \r\nQ 24.75 34.625 20.71875 30.859375 \r\nQ 16.703125 27.09375 16.703125 20.515625 \r\nQ 16.703125 13.921875 20.71875 10.15625 \r\nQ 24.75 6.390625 31.78125 6.390625 \r\nQ 38.8125 6.390625 42.859375 10.171875 \r\nQ 46.921875 13.96875 46.921875 20.515625 \r\nQ 46.921875 27.09375 42.890625 30.859375 \r\nQ 38.875 34.625 31.78125 34.625 \r\nz\r\nM 21.921875 38.8125 \r\nQ 15.578125 40.375 12.03125 44.71875 \r\nQ 8.5 49.078125 8.5 55.328125 \r\nQ 8.5 64.0625 14.71875 69.140625 \r\nQ 20.953125 74.21875 31.78125 74.21875 \r\nQ 42.671875 74.21875 48.875 69.140625 \r\nQ 55.078125 64.0625 55.078125 55.328125 \r\nQ 55.078125 49.078125 51.53125 44.71875 \r\nQ 48 40.375 41.703125 38.8125 \r\nQ 48.828125 37.15625 52.796875 32.3125 \r\nQ 56.78125 27.484375 56.78125 20.515625 \r\nQ 56.78125 9.90625 50.3125 4.234375 \r\nQ 43.84375 -1.421875 31.78125 -1.421875 \r\nQ 19.734375 -1.421875 13.25 4.234375 \r\nQ 6.78125 9.90625 6.78125 20.515625 \r\nQ 6.78125 27.484375 10.78125 32.3125 \r\nQ 14.796875 37.15625 21.921875 38.8125 \r\nz\r\nM 18.3125 54.390625 \r\nQ 18.3125 48.734375 21.84375 45.5625 \r\nQ 25.390625 42.390625 31.78125 42.390625 \r\nQ 38.140625 42.390625 41.71875 45.5625 \r\nQ 45.3125 48.734375 45.3125 54.390625 \r\nQ 45.3125 60.0625 41.71875 63.234375 \r\nQ 38.140625 66.40625 31.78125 66.40625 \r\nQ 25.390625 66.40625 21.84375 63.234375 \r\nQ 18.3125 60.0625 18.3125 54.390625 \r\nz\r\n\" id=\"DejaVuSans-56\"/>\r\n       </defs>\r\n       <use xlink:href=\"#DejaVuSans-56\"/>\r\n       <use x=\"63.623047\" xlink:href=\"#DejaVuSans-48\"/>\r\n       <use x=\"127.246094\" xlink:href=\"#DejaVuSans-48\"/>\r\n       <use x=\"190.869141\" xlink:href=\"#DejaVuSans-48\"/>\r\n      </g>\r\n     </g>\r\n    </g>\r\n    <g id=\"xtick_6\">\r\n     <g id=\"line2d_11\">\r\n      <path clip-path=\"url(#pb851661d43)\" d=\"M 247.788041 239.758125 \r\nL 247.788041 22.318125 \r\n\" style=\"fill:none;stroke:#b0b0b0;stroke-linecap:square;stroke-width:0.8;\"/>\r\n     </g>\r\n     <g id=\"line2d_12\">\r\n      <g>\r\n       <use style=\"stroke:#000000;stroke-width:0.8;\" x=\"247.788041\" xlink:href=\"#m33ecdb2526\" y=\"239.758125\"/>\r\n      </g>\r\n     </g>\r\n     <g id=\"text_6\">\r\n      <!-- 10000 -->\r\n      <g transform=\"translate(231.881791 254.356563)scale(0.1 -0.1)\">\r\n       <defs>\r\n        <path d=\"M 12.40625 8.296875 \r\nL 28.515625 8.296875 \r\nL 28.515625 63.921875 \r\nL 10.984375 60.40625 \r\nL 10.984375 69.390625 \r\nL 28.421875 72.90625 \r\nL 38.28125 72.90625 \r\nL 38.28125 8.296875 \r\nL 54.390625 8.296875 \r\nL 54.390625 0 \r\nL 12.40625 0 \r\nz\r\n\" id=\"DejaVuSans-49\"/>\r\n       </defs>\r\n       <use xlink:href=\"#DejaVuSans-49\"/>\r\n       <use x=\"63.623047\" xlink:href=\"#DejaVuSans-48\"/>\r\n       <use x=\"127.246094\" xlink:href=\"#DejaVuSans-48\"/>\r\n       <use x=\"190.869141\" xlink:href=\"#DejaVuSans-48\"/>\r\n       <use x=\"254.492188\" xlink:href=\"#DejaVuSans-48\"/>\r\n      </g>\r\n     </g>\r\n    </g>\r\n    <g id=\"xtick_7\">\r\n     <g id=\"line2d_13\">\r\n      <path clip-path=\"url(#pb851661d43)\" d=\"M 290.270229 239.758125 \r\nL 290.270229 22.318125 \r\n\" style=\"fill:none;stroke:#b0b0b0;stroke-linecap:square;stroke-width:0.8;\"/>\r\n     </g>\r\n     <g id=\"line2d_14\">\r\n      <g>\r\n       <use style=\"stroke:#000000;stroke-width:0.8;\" x=\"290.270229\" xlink:href=\"#m33ecdb2526\" y=\"239.758125\"/>\r\n      </g>\r\n     </g>\r\n     <g id=\"text_7\">\r\n      <!-- 12000 -->\r\n      <g transform=\"translate(274.363979 254.356563)scale(0.1 -0.1)\">\r\n       <use xlink:href=\"#DejaVuSans-49\"/>\r\n       <use x=\"63.623047\" xlink:href=\"#DejaVuSans-50\"/>\r\n       <use x=\"127.246094\" xlink:href=\"#DejaVuSans-48\"/>\r\n       <use x=\"190.869141\" xlink:href=\"#DejaVuSans-48\"/>\r\n       <use x=\"254.492188\" xlink:href=\"#DejaVuSans-48\"/>\r\n      </g>\r\n     </g>\r\n    </g>\r\n    <g id=\"xtick_8\">\r\n     <g id=\"line2d_15\">\r\n      <path clip-path=\"url(#pb851661d43)\" d=\"M 332.752417 239.758125 \r\nL 332.752417 22.318125 \r\n\" style=\"fill:none;stroke:#b0b0b0;stroke-linecap:square;stroke-width:0.8;\"/>\r\n     </g>\r\n     <g id=\"line2d_16\">\r\n      <g>\r\n       <use style=\"stroke:#000000;stroke-width:0.8;\" x=\"332.752417\" xlink:href=\"#m33ecdb2526\" y=\"239.758125\"/>\r\n      </g>\r\n     </g>\r\n     <g id=\"text_8\">\r\n      <!-- 14000 -->\r\n      <g transform=\"translate(316.846167 254.356563)scale(0.1 -0.1)\">\r\n       <use xlink:href=\"#DejaVuSans-49\"/>\r\n       <use x=\"63.623047\" xlink:href=\"#DejaVuSans-52\"/>\r\n       <use x=\"127.246094\" xlink:href=\"#DejaVuSans-48\"/>\r\n       <use x=\"190.869141\" xlink:href=\"#DejaVuSans-48\"/>\r\n       <use x=\"254.492188\" xlink:href=\"#DejaVuSans-48\"/>\r\n      </g>\r\n     </g>\r\n    </g>\r\n   </g>\r\n   <g id=\"matplotlib.axis_2\">\r\n    <g id=\"ytick_1\">\r\n     <g id=\"line2d_17\">\r\n      <path clip-path=\"url(#pb851661d43)\" d=\"M 20.5625 239.758125 \r\nL 355.3625 239.758125 \r\n\" style=\"fill:none;stroke:#b0b0b0;stroke-linecap:square;stroke-width:0.8;\"/>\r\n     </g>\r\n     <g id=\"line2d_18\">\r\n      <defs>\r\n       <path d=\"M 0 0 \r\nL -3.5 0 \r\n\" id=\"mb835bb07e3\" style=\"stroke:#000000;stroke-width:0.8;\"/>\r\n      </defs>\r\n      <g>\r\n       <use style=\"stroke:#000000;stroke-width:0.8;\" x=\"20.5625\" xlink:href=\"#mb835bb07e3\" y=\"239.758125\"/>\r\n      </g>\r\n     </g>\r\n     <g id=\"text_9\">\r\n      <!-- 0 -->\r\n      <g transform=\"translate(7.2 243.557344)scale(0.1 -0.1)\">\r\n       <use xlink:href=\"#DejaVuSans-48\"/>\r\n      </g>\r\n     </g>\r\n    </g>\r\n    <g id=\"ytick_2\">\r\n     <g id=\"line2d_19\">\r\n      <path clip-path=\"url(#pb851661d43)\" d=\"M 20.5625 198.340982 \r\nL 355.3625 198.340982 \r\n\" style=\"fill:none;stroke:#b0b0b0;stroke-linecap:square;stroke-width:0.8;\"/>\r\n     </g>\r\n     <g id=\"line2d_20\">\r\n      <g>\r\n       <use style=\"stroke:#000000;stroke-width:0.8;\" x=\"20.5625\" xlink:href=\"#mb835bb07e3\" y=\"198.340982\"/>\r\n      </g>\r\n     </g>\r\n     <g id=\"text_10\">\r\n      <!-- 1 -->\r\n      <g transform=\"translate(7.2 202.140201)scale(0.1 -0.1)\">\r\n       <use xlink:href=\"#DejaVuSans-49\"/>\r\n      </g>\r\n     </g>\r\n    </g>\r\n    <g id=\"ytick_3\">\r\n     <g id=\"line2d_21\">\r\n      <path clip-path=\"url(#pb851661d43)\" d=\"M 20.5625 156.923839 \r\nL 355.3625 156.923839 \r\n\" style=\"fill:none;stroke:#b0b0b0;stroke-linecap:square;stroke-width:0.8;\"/>\r\n     </g>\r\n     <g id=\"line2d_22\">\r\n      <g>\r\n       <use style=\"stroke:#000000;stroke-width:0.8;\" x=\"20.5625\" xlink:href=\"#mb835bb07e3\" y=\"156.923839\"/>\r\n      </g>\r\n     </g>\r\n     <g id=\"text_11\">\r\n      <!-- 2 -->\r\n      <g transform=\"translate(7.2 160.723058)scale(0.1 -0.1)\">\r\n       <use xlink:href=\"#DejaVuSans-50\"/>\r\n      </g>\r\n     </g>\r\n    </g>\r\n    <g id=\"ytick_4\">\r\n     <g id=\"line2d_23\">\r\n      <path clip-path=\"url(#pb851661d43)\" d=\"M 20.5625 115.506696 \r\nL 355.3625 115.506696 \r\n\" style=\"fill:none;stroke:#b0b0b0;stroke-linecap:square;stroke-width:0.8;\"/>\r\n     </g>\r\n     <g id=\"line2d_24\">\r\n      <g>\r\n       <use style=\"stroke:#000000;stroke-width:0.8;\" x=\"20.5625\" xlink:href=\"#mb835bb07e3\" y=\"115.506696\"/>\r\n      </g>\r\n     </g>\r\n     <g id=\"text_12\">\r\n      <!-- 3 -->\r\n      <g transform=\"translate(7.2 119.305915)scale(0.1 -0.1)\">\r\n       <defs>\r\n        <path d=\"M 40.578125 39.3125 \r\nQ 47.65625 37.796875 51.625 33 \r\nQ 55.609375 28.21875 55.609375 21.1875 \r\nQ 55.609375 10.40625 48.1875 4.484375 \r\nQ 40.765625 -1.421875 27.09375 -1.421875 \r\nQ 22.515625 -1.421875 17.65625 -0.515625 \r\nQ 12.796875 0.390625 7.625 2.203125 \r\nL 7.625 11.71875 \r\nQ 11.71875 9.328125 16.59375 8.109375 \r\nQ 21.484375 6.890625 26.8125 6.890625 \r\nQ 36.078125 6.890625 40.9375 10.546875 \r\nQ 45.796875 14.203125 45.796875 21.1875 \r\nQ 45.796875 27.640625 41.28125 31.265625 \r\nQ 36.765625 34.90625 28.71875 34.90625 \r\nL 20.21875 34.90625 \r\nL 20.21875 43.015625 \r\nL 29.109375 43.015625 \r\nQ 36.375 43.015625 40.234375 45.921875 \r\nQ 44.09375 48.828125 44.09375 54.296875 \r\nQ 44.09375 59.90625 40.109375 62.90625 \r\nQ 36.140625 65.921875 28.71875 65.921875 \r\nQ 24.65625 65.921875 20.015625 65.03125 \r\nQ 15.375 64.15625 9.8125 62.3125 \r\nL 9.8125 71.09375 \r\nQ 15.4375 72.65625 20.34375 73.4375 \r\nQ 25.25 74.21875 29.59375 74.21875 \r\nQ 40.828125 74.21875 47.359375 69.109375 \r\nQ 53.90625 64.015625 53.90625 55.328125 \r\nQ 53.90625 49.265625 50.4375 45.09375 \r\nQ 46.96875 40.921875 40.578125 39.3125 \r\nz\r\n\" id=\"DejaVuSans-51\"/>\r\n       </defs>\r\n       <use xlink:href=\"#DejaVuSans-51\"/>\r\n      </g>\r\n     </g>\r\n    </g>\r\n    <g id=\"ytick_5\">\r\n     <g id=\"line2d_25\">\r\n      <path clip-path=\"url(#pb851661d43)\" d=\"M 20.5625 74.089554 \r\nL 355.3625 74.089554 \r\n\" style=\"fill:none;stroke:#b0b0b0;stroke-linecap:square;stroke-width:0.8;\"/>\r\n     </g>\r\n     <g id=\"line2d_26\">\r\n      <g>\r\n       <use style=\"stroke:#000000;stroke-width:0.8;\" x=\"20.5625\" xlink:href=\"#mb835bb07e3\" y=\"74.089554\"/>\r\n      </g>\r\n     </g>\r\n     <g id=\"text_13\">\r\n      <!-- 4 -->\r\n      <g transform=\"translate(7.2 77.888772)scale(0.1 -0.1)\">\r\n       <use xlink:href=\"#DejaVuSans-52\"/>\r\n      </g>\r\n     </g>\r\n    </g>\r\n    <g id=\"ytick_6\">\r\n     <g id=\"line2d_27\">\r\n      <path clip-path=\"url(#pb851661d43)\" d=\"M 20.5625 32.672411 \r\nL 355.3625 32.672411 \r\n\" style=\"fill:none;stroke:#b0b0b0;stroke-linecap:square;stroke-width:0.8;\"/>\r\n     </g>\r\n     <g id=\"line2d_28\">\r\n      <g>\r\n       <use style=\"stroke:#000000;stroke-width:0.8;\" x=\"20.5625\" xlink:href=\"#mb835bb07e3\" y=\"32.672411\"/>\r\n      </g>\r\n     </g>\r\n     <g id=\"text_14\">\r\n      <!-- 5 -->\r\n      <g transform=\"translate(7.2 36.471629)scale(0.1 -0.1)\">\r\n       <defs>\r\n        <path d=\"M 10.796875 72.90625 \r\nL 49.515625 72.90625 \r\nL 49.515625 64.59375 \r\nL 19.828125 64.59375 \r\nL 19.828125 46.734375 \r\nQ 21.96875 47.46875 24.109375 47.828125 \r\nQ 26.265625 48.1875 28.421875 48.1875 \r\nQ 40.625 48.1875 47.75 41.5 \r\nQ 54.890625 34.8125 54.890625 23.390625 \r\nQ 54.890625 11.625 47.5625 5.09375 \r\nQ 40.234375 -1.421875 26.90625 -1.421875 \r\nQ 22.3125 -1.421875 17.546875 -0.640625 \r\nQ 12.796875 0.140625 7.71875 1.703125 \r\nL 7.71875 11.625 \r\nQ 12.109375 9.234375 16.796875 8.0625 \r\nQ 21.484375 6.890625 26.703125 6.890625 \r\nQ 35.15625 6.890625 40.078125 11.328125 \r\nQ 45.015625 15.765625 45.015625 23.390625 \r\nQ 45.015625 31 40.078125 35.4375 \r\nQ 35.15625 39.890625 26.703125 39.890625 \r\nQ 22.75 39.890625 18.8125 39.015625 \r\nQ 14.890625 38.140625 10.796875 36.28125 \r\nz\r\n\" id=\"DejaVuSans-53\"/>\r\n       </defs>\r\n       <use xlink:href=\"#DejaVuSans-53\"/>\r\n      </g>\r\n     </g>\r\n    </g>\r\n   </g>\r\n   <g id=\"patch_13\">\r\n    <path d=\"M 20.5625 239.758125 \r\nL 20.5625 22.318125 \r\n\" style=\"fill:none;stroke:#000000;stroke-linecap:square;stroke-linejoin:miter;stroke-width:0.8;\"/>\r\n   </g>\r\n   <g id=\"patch_14\">\r\n    <path d=\"M 355.3625 239.758125 \r\nL 355.3625 22.318125 \r\n\" style=\"fill:none;stroke:#000000;stroke-linecap:square;stroke-linejoin:miter;stroke-width:0.8;\"/>\r\n   </g>\r\n   <g id=\"patch_15\">\r\n    <path d=\"M 20.5625 239.758125 \r\nL 355.3625 239.758125 \r\n\" style=\"fill:none;stroke:#000000;stroke-linecap:square;stroke-linejoin:miter;stroke-width:0.8;\"/>\r\n   </g>\r\n   <g id=\"patch_16\">\r\n    <path d=\"M 20.5625 22.318125 \r\nL 355.3625 22.318125 \r\n\" style=\"fill:none;stroke:#000000;stroke-linecap:square;stroke-linejoin:miter;stroke-width:0.8;\"/>\r\n   </g>\r\n   <g id=\"text_15\">\r\n    <!-- checkouts -->\r\n    <g transform=\"translate(157.661563 16.318125)scale(0.12 -0.12)\">\r\n     <defs>\r\n      <path d=\"M 48.78125 52.59375 \r\nL 48.78125 44.1875 \r\nQ 44.96875 46.296875 41.140625 47.34375 \r\nQ 37.3125 48.390625 33.40625 48.390625 \r\nQ 24.65625 48.390625 19.8125 42.84375 \r\nQ 14.984375 37.3125 14.984375 27.296875 \r\nQ 14.984375 17.28125 19.8125 11.734375 \r\nQ 24.65625 6.203125 33.40625 6.203125 \r\nQ 37.3125 6.203125 41.140625 7.25 \r\nQ 44.96875 8.296875 48.78125 10.40625 \r\nL 48.78125 2.09375 \r\nQ 45.015625 0.34375 40.984375 -0.53125 \r\nQ 36.96875 -1.421875 32.421875 -1.421875 \r\nQ 20.0625 -1.421875 12.78125 6.34375 \r\nQ 5.515625 14.109375 5.515625 27.296875 \r\nQ 5.515625 40.671875 12.859375 48.328125 \r\nQ 20.21875 56 33.015625 56 \r\nQ 37.15625 56 41.109375 55.140625 \r\nQ 45.0625 54.296875 48.78125 52.59375 \r\nz\r\n\" id=\"DejaVuSans-99\"/>\r\n      <path d=\"M 54.890625 33.015625 \r\nL 54.890625 0 \r\nL 45.90625 0 \r\nL 45.90625 32.71875 \r\nQ 45.90625 40.484375 42.875 44.328125 \r\nQ 39.84375 48.1875 33.796875 48.1875 \r\nQ 26.515625 48.1875 22.3125 43.546875 \r\nQ 18.109375 38.921875 18.109375 30.90625 \r\nL 18.109375 0 \r\nL 9.078125 0 \r\nL 9.078125 75.984375 \r\nL 18.109375 75.984375 \r\nL 18.109375 46.1875 \r\nQ 21.34375 51.125 25.703125 53.5625 \r\nQ 30.078125 56 35.796875 56 \r\nQ 45.21875 56 50.046875 50.171875 \r\nQ 54.890625 44.34375 54.890625 33.015625 \r\nz\r\n\" id=\"DejaVuSans-104\"/>\r\n      <path d=\"M 56.203125 29.59375 \r\nL 56.203125 25.203125 \r\nL 14.890625 25.203125 \r\nQ 15.484375 15.921875 20.484375 11.0625 \r\nQ 25.484375 6.203125 34.421875 6.203125 \r\nQ 39.59375 6.203125 44.453125 7.46875 \r\nQ 49.3125 8.734375 54.109375 11.28125 \r\nL 54.109375 2.78125 \r\nQ 49.265625 0.734375 44.1875 -0.34375 \r\nQ 39.109375 -1.421875 33.890625 -1.421875 \r\nQ 20.796875 -1.421875 13.15625 6.1875 \r\nQ 5.515625 13.8125 5.515625 26.8125 \r\nQ 5.515625 40.234375 12.765625 48.109375 \r\nQ 20.015625 56 32.328125 56 \r\nQ 43.359375 56 49.78125 48.890625 \r\nQ 56.203125 41.796875 56.203125 29.59375 \r\nz\r\nM 47.21875 32.234375 \r\nQ 47.125 39.59375 43.09375 43.984375 \r\nQ 39.0625 48.390625 32.421875 48.390625 \r\nQ 24.90625 48.390625 20.390625 44.140625 \r\nQ 15.875 39.890625 15.1875 32.171875 \r\nz\r\n\" id=\"DejaVuSans-101\"/>\r\n      <path d=\"M 9.078125 75.984375 \r\nL 18.109375 75.984375 \r\nL 18.109375 31.109375 \r\nL 44.921875 54.6875 \r\nL 56.390625 54.6875 \r\nL 27.390625 29.109375 \r\nL 57.625 0 \r\nL 45.90625 0 \r\nL 18.109375 26.703125 \r\nL 18.109375 0 \r\nL 9.078125 0 \r\nz\r\n\" id=\"DejaVuSans-107\"/>\r\n      <path d=\"M 30.609375 48.390625 \r\nQ 23.390625 48.390625 19.1875 42.75 \r\nQ 14.984375 37.109375 14.984375 27.296875 \r\nQ 14.984375 17.484375 19.15625 11.84375 \r\nQ 23.34375 6.203125 30.609375 6.203125 \r\nQ 37.796875 6.203125 41.984375 11.859375 \r\nQ 46.1875 17.53125 46.1875 27.296875 \r\nQ 46.1875 37.015625 41.984375 42.703125 \r\nQ 37.796875 48.390625 30.609375 48.390625 \r\nz\r\nM 30.609375 56 \r\nQ 42.328125 56 49.015625 48.375 \r\nQ 55.71875 40.765625 55.71875 27.296875 \r\nQ 55.71875 13.875 49.015625 6.21875 \r\nQ 42.328125 -1.421875 30.609375 -1.421875 \r\nQ 18.84375 -1.421875 12.171875 6.21875 \r\nQ 5.515625 13.875 5.515625 27.296875 \r\nQ 5.515625 40.765625 12.171875 48.375 \r\nQ 18.84375 56 30.609375 56 \r\nz\r\n\" id=\"DejaVuSans-111\"/>\r\n      <path d=\"M 8.5 21.578125 \r\nL 8.5 54.6875 \r\nL 17.484375 54.6875 \r\nL 17.484375 21.921875 \r\nQ 17.484375 14.15625 20.5 10.265625 \r\nQ 23.53125 6.390625 29.59375 6.390625 \r\nQ 36.859375 6.390625 41.078125 11.03125 \r\nQ 45.3125 15.671875 45.3125 23.6875 \r\nL 45.3125 54.6875 \r\nL 54.296875 54.6875 \r\nL 54.296875 0 \r\nL 45.3125 0 \r\nL 45.3125 8.40625 \r\nQ 42.046875 3.421875 37.71875 1 \r\nQ 33.40625 -1.421875 27.6875 -1.421875 \r\nQ 18.265625 -1.421875 13.375 4.4375 \r\nQ 8.5 10.296875 8.5 21.578125 \r\nz\r\nM 31.109375 56 \r\nz\r\n\" id=\"DejaVuSans-117\"/>\r\n      <path d=\"M 18.3125 70.21875 \r\nL 18.3125 54.6875 \r\nL 36.8125 54.6875 \r\nL 36.8125 47.703125 \r\nL 18.3125 47.703125 \r\nL 18.3125 18.015625 \r\nQ 18.3125 11.328125 20.140625 9.421875 \r\nQ 21.96875 7.515625 27.59375 7.515625 \r\nL 36.8125 7.515625 \r\nL 36.8125 0 \r\nL 27.59375 0 \r\nQ 17.1875 0 13.234375 3.875 \r\nQ 9.28125 7.765625 9.28125 18.015625 \r\nL 9.28125 47.703125 \r\nL 2.6875 47.703125 \r\nL 2.6875 54.6875 \r\nL 9.28125 54.6875 \r\nL 9.28125 70.21875 \r\nz\r\n\" id=\"DejaVuSans-116\"/>\r\n      <path d=\"M 44.28125 53.078125 \r\nL 44.28125 44.578125 \r\nQ 40.484375 46.53125 36.375 47.5 \r\nQ 32.28125 48.484375 27.875 48.484375 \r\nQ 21.1875 48.484375 17.84375 46.4375 \r\nQ 14.5 44.390625 14.5 40.28125 \r\nQ 14.5 37.15625 16.890625 35.375 \r\nQ 19.28125 33.59375 26.515625 31.984375 \r\nL 29.59375 31.296875 \r\nQ 39.15625 29.25 43.1875 25.515625 \r\nQ 47.21875 21.78125 47.21875 15.09375 \r\nQ 47.21875 7.46875 41.1875 3.015625 \r\nQ 35.15625 -1.421875 24.609375 -1.421875 \r\nQ 20.21875 -1.421875 15.453125 -0.5625 \r\nQ 10.6875 0.296875 5.421875 2 \r\nL 5.421875 11.28125 \r\nQ 10.40625 8.6875 15.234375 7.390625 \r\nQ 20.0625 6.109375 24.8125 6.109375 \r\nQ 31.15625 6.109375 34.5625 8.28125 \r\nQ 37.984375 10.453125 37.984375 14.40625 \r\nQ 37.984375 18.0625 35.515625 20.015625 \r\nQ 33.0625 21.96875 24.703125 23.78125 \r\nL 21.578125 24.515625 \r\nQ 13.234375 26.265625 9.515625 29.90625 \r\nQ 5.8125 33.546875 5.8125 39.890625 \r\nQ 5.8125 47.609375 11.28125 51.796875 \r\nQ 16.75 56 26.8125 56 \r\nQ 31.78125 56 36.171875 55.265625 \r\nQ 40.578125 54.546875 44.28125 53.078125 \r\nz\r\n\" id=\"DejaVuSans-115\"/>\r\n     </defs>\r\n     <use xlink:href=\"#DejaVuSans-99\"/>\r\n     <use x=\"54.980469\" xlink:href=\"#DejaVuSans-104\"/>\r\n     <use x=\"118.359375\" xlink:href=\"#DejaVuSans-101\"/>\r\n     <use x=\"179.882812\" xlink:href=\"#DejaVuSans-99\"/>\r\n     <use x=\"234.863281\" xlink:href=\"#DejaVuSans-107\"/>\r\n     <use x=\"289.148438\" xlink:href=\"#DejaVuSans-111\"/>\r\n     <use x=\"350.330078\" xlink:href=\"#DejaVuSans-117\"/>\r\n     <use x=\"413.708984\" xlink:href=\"#DejaVuSans-116\"/>\r\n     <use x=\"452.917969\" xlink:href=\"#DejaVuSans-115\"/>\r\n    </g>\r\n   </g>\r\n  </g>\r\n </g>\r\n <defs>\r\n  <clipPath id=\"pb851661d43\">\r\n   <rect height=\"217.44\" width=\"334.8\" x=\"20.5625\" y=\"22.318125\"/>\r\n  </clipPath>\r\n </defs>\r\n</svg>\r\n",
      "image/png": "[encoded data removed]"
     },
     "metadata": {
      "needs_background": "light"
     }
    }
   ],
   "source": [
    "checkouts_df[[\"materialtype\",\"checkouts\"]].groupby(\"materialtype\").sum().nlargest(10,\"checkouts\").hist() "
   ]
  },
  {
   "source": [
    "# Wieso ich mir diese erste Aufgabe ausgedacht habe, ist mir ein Rätsel, aber gut. Ich versuche es ...\n",
    "\n",
    "## Gedanken dazu:\n",
    "- Ich brauche die Spalten checkouts und publicationyear zur Auswertung\n",
    "- Die Spalte publicationyear hat viele für mich gerade unnötige Zeilen, muss ich also bereinigen\n",
    "- Wenn ich die Jahre bündeln kann, kann ich wie oben die Ausleihzahlen für die Erscheinungsjahre zählen lassen\n",
    "- das würde ich gerne dann noch graphisch darstellen"
   ],
   "cell_type": "markdown",
   "metadata": {}
  },
  {
   "cell_type": "code",
   "execution_count": 135,
   "metadata": {},
   "outputs": [
    {
     "output_type": "execute_result",
     "data": {
      "text/plain": [
       "2018                    498\n",
       "[2018]                  466\n",
       "2013                    459\n",
       "2017                    432\n",
       "[2017]                  394\n",
       "                       ... \n",
       "p2014.                    1\n",
       "[1958]                    1\n",
       "[2002?]                   1\n",
       "[between 1990-1999?]      1\n",
       "c2011.                    1\n",
       "Name: publicationyear, Length: 304, dtype: int64"
      ]
     },
     "metadata": {},
     "execution_count": 135
    }
   ],
   "source": [
    "checkouts_df[\"publicationyear\"].value_counts() # erst mal schauen, was da überhaupt alles drin steckt und wie oft"
   ]
  },
  {
   "cell_type": "code",
   "execution_count": 136,
   "metadata": {},
   "outputs": [
    {
     "output_type": "execute_result",
     "data": {
      "text/plain": [
       "      checkouts publicationyear\n",
       "0             1          [2010]\n",
       "1             1          [1991]\n",
       "2             1          [2010]\n",
       "3             1           2008.\n",
       "4             1          [2009]\n",
       "...         ...             ...\n",
       "9995          2           2009.\n",
       "9996          1            2009\n",
       "9997          2            2013\n",
       "9998          5          [2013]\n",
       "9999          1          [2009]\n",
       "\n",
       "[10000 rows x 2 columns]"
      ],
      "text/html": "<div>\n<style scoped>\n    .dataframe tbody tr th:only-of-type {\n        vertical-align: middle;\n    }\n\n    .dataframe tbody tr th {\n        vertical-align: top;\n    }\n\n    .dataframe thead th {\n        text-align: right;\n    }\n</style>\n<table border=\"1\" class=\"dataframe\">\n  <thead>\n    <tr style=\"text-align: right;\">\n      <th></th>\n      <th>checkouts</th>\n      <th>publicationyear</th>\n    </tr>\n  </thead>\n  <tbody>\n    <tr>\n      <th>0</th>\n      <td>1</td>\n      <td>[2010]</td>\n    </tr>\n    <tr>\n      <th>1</th>\n      <td>1</td>\n      <td>[1991]</td>\n    </tr>\n    <tr>\n      <th>2</th>\n      <td>1</td>\n      <td>[2010]</td>\n    </tr>\n    <tr>\n      <th>3</th>\n      <td>1</td>\n      <td>2008.</td>\n    </tr>\n    <tr>\n      <th>4</th>\n      <td>1</td>\n      <td>[2009]</td>\n    </tr>\n    <tr>\n      <th>...</th>\n      <td>...</td>\n      <td>...</td>\n    </tr>\n    <tr>\n      <th>9995</th>\n      <td>2</td>\n      <td>2009.</td>\n    </tr>\n    <tr>\n      <th>9996</th>\n      <td>1</td>\n      <td>2009</td>\n    </tr>\n    <tr>\n      <th>9997</th>\n      <td>2</td>\n      <td>2013</td>\n    </tr>\n    <tr>\n      <th>9998</th>\n      <td>5</td>\n      <td>[2013]</td>\n    </tr>\n    <tr>\n      <th>9999</th>\n      <td>1</td>\n      <td>[2009]</td>\n    </tr>\n  </tbody>\n</table>\n<p>10000 rows × 2 columns</p>\n</div>"
     },
     "metadata": {},
     "execution_count": 136
    }
   ],
   "source": [
    "checkouts_year_df #die hatte ich oben schon erzeugt und die nehme ich als \"Spielwiese\""
   ]
  },
  {
   "cell_type": "code",
   "execution_count": 138,
   "metadata": {},
   "outputs": [
    {
     "output_type": "execute_result",
     "data": {
      "text/plain": [
       "304"
      ]
     },
     "metadata": {},
     "execution_count": 138
    }
   ],
   "source": [
    "checkouts_year_df[\"publicationyear\"].nunique() # zählt die Einräge, aber zeigt sie nicht"
   ]
  },
  {
   "cell_type": "code",
   "execution_count": 150,
   "metadata": {},
   "outputs": [
    {
     "output_type": "execute_result",
     "data": {
      "text/plain": [
       "array(['[2010]', '[1991]', '2008.', '[2009]', '[2015]', '2012', '[2018]',\n",
       "       '[2014]', '2013', '[2016]', '2010', '2018.', '2008', '©2015.',\n",
       "       '2014', '2004.', '2016.', '[1987]', '2011.', '2015', '2014.',\n",
       "       '2017.', '[2017]', '[2011]', '2015.', '[2015], c2014.', '2012.',\n",
       "       '2018', '2002.', '©2014.', '2013.', '2017', '[2012]', '2009.',\n",
       "       '[2013]', '[2008]', '1993.', '[2002]', '2011', '[1980]', '[2005]',\n",
       "       '1995.', '[2003]', 'c2017.', '[2006]', '2016', '[1996]', '[2007]',\n",
       "       '2009', '[1983]', '1966.', '[1942]', '[1946]', 'c2016.', '[1999]',\n",
       "       '1999.', '1980.', 'c2014.', '[2014?]', '1981.', '[1997]', '[2004]',\n",
       "       '2006.', '2010.', '[1992]', '[2002], ©2001.', '[1998]',\n",
       "       '2011, ©1963.', '2005', '2000.', '2007.', '1974.', '2007', '1989.',\n",
       "       '[1988]', '[2014].', 'Heisei 15 [2003]', '2005.', '[2001]',\n",
       "       '[between 1980-1989?]', '[2000]', '[1986]', '2001.', '1991.',\n",
       "       '2007, ©2006.', '2010, 2009.', '©1999.', 'c2018.', 'c2015.',\n",
       "       'c2001-', 'p2013.', '[1971]', '[1977]', '1979.', '1965.', '2006',\n",
       "       '1996.', '2003.', '[2005, 1977]', '[1995]', '[1936]',\n",
       "       '[between 1900-1999?]', '[2002?]', nan, '[2001?]', '[1964]',\n",
       "       '[1994]', '1997.', '[1990]', '©2009.', '1998.', '1971.', '2019.',\n",
       "       '©1998.', '1916.', '℗1988.', '1990.', '1988.', '[2009, 1981]',\n",
       "       '[1993]', '[©2011], ©2010.', '[1969]', '[2013], c2013.',\n",
       "       '2005, [2004]', '2018, c2017.', '[1948]', '[1981]', '[1978]',\n",
       "       '[between 1990-1999?]', '[2012?].', '©2013.', '©2010.', '©2017.',\n",
       "       '[1972]', '2002, 1998.', '1977.', '[1985]', '1975.',\n",
       "       '[between 2000-2009?]', '[2013], c2012.', 'c2013.', '[2008?].',\n",
       "       '1986.', '1974-', '[1947]', '[2012], p1989]', '[1979]', '[1970]',\n",
       "       '1972.', '[1980?]', '©2016.', '[2019]', '[2013?]', '[2007?]',\n",
       "       '1987.', '[1968]', '[2004, c2003]', '[2015].', '1978-', '[2018].',\n",
       "       'c2012.', '[1952]', '1983.', '©1988.', '1961.', '[2018?]',\n",
       "       'c2011.', '[2015], c2012.', '[1966]', 'min guo 77 [1988]',\n",
       "       '℗1998.', '[2000?]', '[1984]', '[2016].', '℗2003.', '1976.',\n",
       "       '[1959]', '[2013].', '[1995?]', '©1994.', '[1998, c1981]',\n",
       "       '[1962]', 'c2017', '©2002.', '©1997.', '1911.', '[1944]', '1992.',\n",
       "       '1931.', '[2017], c2015.', '[c2013].', '2004, ©2000.', '1985.',\n",
       "       '[1967]', 'c1973.', '[2004?]', '[1965]', '1962.', '1984.',\n",
       "       '[2012, p2006]', '2010, ©2009.', 'c1997.', '[2012?]',\n",
       "       '©1994, ℗1993.', '1994.', '[1982]', '2007, 2006.',\n",
       "       '[2017], c2016.', '[1973]', '[1988?]', '1982.',\n",
       "       '[between 2000-2009]', '1940.', '[2007, p1997]', '1945.', '℗2009.',\n",
       "       '[1976]', '1968.', '[2010?]', '[2005?]', '[2006?]', '2013, c2010.',\n",
       "       '2001-', '2003-', 'Heisei 22 [2010]', '1967.', '1970.', '1978.',\n",
       "       '[between 1994 and 2002]', '[1999?]', '℗2013.', 'imp. 2011.',\n",
       "       '[1974]', '[2015?]', '1964.', '©2002, ©1973.', '1963.', '1947-51.',\n",
       "       '[1989]', '[1928]', '[2013], p1982]', '[2002, p1968]',\n",
       "       '1900-1964.', '[2018], ©2014', '[2002, c1994]', '[2007, c2015]',\n",
       "       '2012,', '[2003, 2009]', '[1985?]', '[2005, [1981]',\n",
       "       '[2002], c1972]', '[2007, 2006]', '[2007, p2002]', 'c1992-',\n",
       "       '[2010], 2008.', '[1992?]', '[1913]', '[1909]', '[2011], c2010.',\n",
       "       '1912.', '[2004, p1983]', '℗2001.', '[1987?]', '2003, c2002.',\n",
       "       '©2017', 'cp2011.', '[2011].', '℗2014.', '[2009?]', '2000, 1998.',\n",
       "       '2002, ©2000.', '2013, 1977.', '[2017].', '©2009, ©2006.',\n",
       "       '[2003?]', '1999, ©1998.', '1952.', '©2004.', 'p[2008]', '[1968?]',\n",
       "       '2005, ©1986.', '1944.', '1988-<1991 >', '[2001, c1993]',\n",
       "       '1943-1967.', '[between 1980-1989], p1978.', '[2015, p1991]',\n",
       "       '©2012.', '1953.', '[2012, p1989]', '[2011?]', '[1990, [p1989]',\n",
       "       '[2003, p1977]', '[1953]', '[1958]', '[2002, 1998]', '1954.',\n",
       "       'p2014.', '©2011.', '[1960]', '©2006.', '1937.', '2004, ©1981.',\n",
       "       '©2003.', '[2017?]'], dtype=object)"
      ]
     },
     "metadata": {},
     "execution_count": 150
    }
   ],
   "source": [
    "checkouts_year_df[\"publicationyear\"].unique() # hier kriege ich sie zu sehen"
   ]
  },
  {
   "cell_type": "code",
   "execution_count": 166,
   "metadata": {},
   "outputs": [
    {
     "output_type": "execute_result",
     "data": {
      "text/plain": [
       "     usageclass checkouttype materialtype  checkoutyear  checkoutmonth  \\\n",
       "37     Physical      Horizon         BOOK          2018             12   \n",
       "92     Physical      Horizon         BOOK          2018             12   \n",
       "180    Physical      Horizon    VIDEODISC          2018             12   \n",
       "190    Physical      Horizon    VIDEODISC          2018             12   \n",
       "249    Physical      Horizon         BOOK          2018             12   \n",
       "...         ...          ...          ...           ...            ...   \n",
       "9852   Physical      Horizon         BOOK          2018             12   \n",
       "9853   Physical      Horizon         BOOK          2018             12   \n",
       "9856   Physical      Horizon         BOOK          2018             12   \n",
       "9895   Physical      Horizon    VIDEODISC          2018             12   \n",
       "9954   Physical      Horizon         BOOK          2018             12   \n",
       "\n",
       "      checkouts                                              title  \\\n",
       "37            2  The anatomy of type : a graphic guide to 100 t...   \n",
       "92            2                   Too tall houses / Gianna Marino.   \n",
       "180           3  The good wife. The third season / CBS Producti...   \n",
       "190           3  Sesame Street. Big Elmo fun / Sesame Workshop ...   \n",
       "249           2  On writing the college application essay : the...   \n",
       "...         ...                                                ...   \n",
       "9852          1            5,000 awesome facts (about everything!)   \n",
       "9853          1                    The almost truth / Eileen Cook.   \n",
       "9856         13  Santa from Cincinnati / Judi Barrett ; illustr...   \n",
       "9895         10  Single-handed. Set 2 / a Touchpaper production...   \n",
       "9954          1  Every nation for itself : winners and losers i...   \n",
       "\n",
       "                  creator                                           subjects  \\\n",
       "37         Coles, Stephen  Type and type founding History, Type and type ...   \n",
       "92         Marino, Gianna  Dwellings Juvenile fiction, Owls Juvenile fict...   \n",
       "180                   NaN  Law firms Drama, Legal television programs, Fi...   \n",
       "190                   NaN  Elmo Fictitious character from Henson Juvenile...   \n",
       "249          Bauld, Harry  College applications, Universities and college...   \n",
       "...                   ...                                                ...   \n",
       "9852                  NaN  Curiosities and wonders Juvenile literature, H...   \n",
       "9853         Cook, Eileen  Swindlers and swindling Juvenile fiction, Impe...   \n",
       "9856        Barrett, Judi    Santa Claus Juvenile fiction, Christmas Fiction   \n",
       "9895                  NaN  Criminal investigation Drama, Police Drama, Ir...   \n",
       "9954  Bremmer, Ian, 1969-  Economic development, International cooperatio...   \n",
       "\n",
       "                              publisher publicationyear  \n",
       "37                       Harper Design,           2012.  \n",
       "92                              Viking,           2012.  \n",
       "180                 Paramount Pictures,           2012.  \n",
       "190                  Warner Home Video,           2012.  \n",
       "249                  Collins Reference,           2012.  \n",
       "...                                 ...             ...  \n",
       "9852               National Geographic,           2012.  \n",
       "9853                       Simon Pulse,           2012.  \n",
       "9856  Atheneum Books for Young Readers,           2012.  \n",
       "9895                       Acorn Media,           2012.  \n",
       "9954                 Portfolio/Penguin,           2012.  \n",
       "\n",
       "[164 rows x 11 columns]"
      ],
      "text/html": "<div>\n<style scoped>\n    .dataframe tbody tr th:only-of-type {\n        vertical-align: middle;\n    }\n\n    .dataframe tbody tr th {\n        vertical-align: top;\n    }\n\n    .dataframe thead th {\n        text-align: right;\n    }\n</style>\n<table border=\"1\" class=\"dataframe\">\n  <thead>\n    <tr style=\"text-align: right;\">\n      <th></th>\n      <th>usageclass</th>\n      <th>checkouttype</th>\n      <th>materialtype</th>\n      <th>checkoutyear</th>\n      <th>checkoutmonth</th>\n      <th>checkouts</th>\n      <th>title</th>\n      <th>creator</th>\n      <th>subjects</th>\n      <th>publisher</th>\n      <th>publicationyear</th>\n    </tr>\n  </thead>\n  <tbody>\n    <tr>\n      <th>37</th>\n      <td>Physical</td>\n      <td>Horizon</td>\n      <td>BOOK</td>\n      <td>2018</td>\n      <td>12</td>\n      <td>2</td>\n      <td>The anatomy of type : a graphic guide to 100 t...</td>\n      <td>Coles, Stephen</td>\n      <td>Type and type founding History, Type and type ...</td>\n      <td>Harper Design,</td>\n      <td>2012.</td>\n    </tr>\n    <tr>\n      <th>92</th>\n      <td>Physical</td>\n      <td>Horizon</td>\n      <td>BOOK</td>\n      <td>2018</td>\n      <td>12</td>\n      <td>2</td>\n      <td>Too tall houses / Gianna Marino.</td>\n      <td>Marino, Gianna</td>\n      <td>Dwellings Juvenile fiction, Owls Juvenile fict...</td>\n      <td>Viking,</td>\n      <td>2012.</td>\n    </tr>\n    <tr>\n      <th>180</th>\n      <td>Physical</td>\n      <td>Horizon</td>\n      <td>VIDEODISC</td>\n      <td>2018</td>\n      <td>12</td>\n      <td>3</td>\n      <td>The good wife. The third season / CBS Producti...</td>\n      <td>NaN</td>\n      <td>Law firms Drama, Legal television programs, Fi...</td>\n      <td>Paramount Pictures,</td>\n      <td>2012.</td>\n    </tr>\n    <tr>\n      <th>190</th>\n      <td>Physical</td>\n      <td>Horizon</td>\n      <td>VIDEODISC</td>\n      <td>2018</td>\n      <td>12</td>\n      <td>3</td>\n      <td>Sesame Street. Big Elmo fun / Sesame Workshop ...</td>\n      <td>NaN</td>\n      <td>Elmo Fictitious character from Henson Juvenile...</td>\n      <td>Warner Home Video,</td>\n      <td>2012.</td>\n    </tr>\n    <tr>\n      <th>249</th>\n      <td>Physical</td>\n      <td>Horizon</td>\n      <td>BOOK</td>\n      <td>2018</td>\n      <td>12</td>\n      <td>2</td>\n      <td>On writing the college application essay : the...</td>\n      <td>Bauld, Harry</td>\n      <td>College applications, Universities and college...</td>\n      <td>Collins Reference,</td>\n      <td>2012.</td>\n    </tr>\n    <tr>\n      <th>...</th>\n      <td>...</td>\n      <td>...</td>\n      <td>...</td>\n      <td>...</td>\n      <td>...</td>\n      <td>...</td>\n      <td>...</td>\n      <td>...</td>\n      <td>...</td>\n      <td>...</td>\n      <td>...</td>\n    </tr>\n    <tr>\n      <th>9852</th>\n      <td>Physical</td>\n      <td>Horizon</td>\n      <td>BOOK</td>\n      <td>2018</td>\n      <td>12</td>\n      <td>1</td>\n      <td>5,000 awesome facts (about everything!)</td>\n      <td>NaN</td>\n      <td>Curiosities and wonders Juvenile literature, H...</td>\n      <td>National Geographic,</td>\n      <td>2012.</td>\n    </tr>\n    <tr>\n      <th>9853</th>\n      <td>Physical</td>\n      <td>Horizon</td>\n      <td>BOOK</td>\n      <td>2018</td>\n      <td>12</td>\n      <td>1</td>\n      <td>The almost truth / Eileen Cook.</td>\n      <td>Cook, Eileen</td>\n      <td>Swindlers and swindling Juvenile fiction, Impe...</td>\n      <td>Simon Pulse,</td>\n      <td>2012.</td>\n    </tr>\n    <tr>\n      <th>9856</th>\n      <td>Physical</td>\n      <td>Horizon</td>\n      <td>BOOK</td>\n      <td>2018</td>\n      <td>12</td>\n      <td>13</td>\n      <td>Santa from Cincinnati / Judi Barrett ; illustr...</td>\n      <td>Barrett, Judi</td>\n      <td>Santa Claus Juvenile fiction, Christmas Fiction</td>\n      <td>Atheneum Books for Young Readers,</td>\n      <td>2012.</td>\n    </tr>\n    <tr>\n      <th>9895</th>\n      <td>Physical</td>\n      <td>Horizon</td>\n      <td>VIDEODISC</td>\n      <td>2018</td>\n      <td>12</td>\n      <td>10</td>\n      <td>Single-handed. Set 2 / a Touchpaper production...</td>\n      <td>NaN</td>\n      <td>Criminal investigation Drama, Police Drama, Ir...</td>\n      <td>Acorn Media,</td>\n      <td>2012.</td>\n    </tr>\n    <tr>\n      <th>9954</th>\n      <td>Physical</td>\n      <td>Horizon</td>\n      <td>BOOK</td>\n      <td>2018</td>\n      <td>12</td>\n      <td>1</td>\n      <td>Every nation for itself : winners and losers i...</td>\n      <td>Bremmer, Ian, 1969-</td>\n      <td>Economic development, International cooperatio...</td>\n      <td>Portfolio/Penguin,</td>\n      <td>2012.</td>\n    </tr>\n  </tbody>\n</table>\n<p>164 rows × 11 columns</p>\n</div>"
     },
     "metadata": {},
     "execution_count": 166
    }
   ],
   "source": [
    "checkouts_df[checkouts_df[\"publicationyear\"] == \"2012.\"]"
   ]
  },
  {
   "cell_type": "code",
   "execution_count": 167,
   "metadata": {},
   "outputs": [
    {
     "output_type": "execute_result",
     "data": {
      "text/plain": [
       "0       [2010]\n",
       "1       [1991]\n",
       "2       [2010]\n",
       "3        2008.\n",
       "4       [2009]\n",
       "         ...  \n",
       "9995     2009.\n",
       "9996      2009\n",
       "9997      2013\n",
       "9998    [2013]\n",
       "9999    [2009]\n",
       "Name: publicationyear, Length: 10000, dtype: object"
      ]
     },
     "metadata": {},
     "execution_count": 167
    }
   ],
   "source": [
    "checkouts_year_df[str(\"publicationyear\").replace(\"2012.\",\"2012\")] # kann ich so eines umschreiben?\n"
   ]
  },
  {
   "cell_type": "code",
   "execution_count": 169,
   "metadata": {},
   "outputs": [
    {
     "output_type": "execute_result",
     "data": {
      "text/plain": [
       "      checkouts publicationyear\n",
       "37            2           2012.\n",
       "92            2           2012.\n",
       "180           3           2012.\n",
       "190           3           2012.\n",
       "249           2           2012.\n",
       "...         ...             ...\n",
       "9852          1           2012.\n",
       "9853          1           2012.\n",
       "9856         13           2012.\n",
       "9895         10           2012.\n",
       "9954          1           2012.\n",
       "\n",
       "[164 rows x 2 columns]"
      ],
      "text/html": "<div>\n<style scoped>\n    .dataframe tbody tr th:only-of-type {\n        vertical-align: middle;\n    }\n\n    .dataframe tbody tr th {\n        vertical-align: top;\n    }\n\n    .dataframe thead th {\n        text-align: right;\n    }\n</style>\n<table border=\"1\" class=\"dataframe\">\n  <thead>\n    <tr style=\"text-align: right;\">\n      <th></th>\n      <th>checkouts</th>\n      <th>publicationyear</th>\n    </tr>\n  </thead>\n  <tbody>\n    <tr>\n      <th>37</th>\n      <td>2</td>\n      <td>2012.</td>\n    </tr>\n    <tr>\n      <th>92</th>\n      <td>2</td>\n      <td>2012.</td>\n    </tr>\n    <tr>\n      <th>180</th>\n      <td>3</td>\n      <td>2012.</td>\n    </tr>\n    <tr>\n      <th>190</th>\n      <td>3</td>\n      <td>2012.</td>\n    </tr>\n    <tr>\n      <th>249</th>\n      <td>2</td>\n      <td>2012.</td>\n    </tr>\n    <tr>\n      <th>...</th>\n      <td>...</td>\n      <td>...</td>\n    </tr>\n    <tr>\n      <th>9852</th>\n      <td>1</td>\n      <td>2012.</td>\n    </tr>\n    <tr>\n      <th>9853</th>\n      <td>1</td>\n      <td>2012.</td>\n    </tr>\n    <tr>\n      <th>9856</th>\n      <td>13</td>\n      <td>2012.</td>\n    </tr>\n    <tr>\n      <th>9895</th>\n      <td>10</td>\n      <td>2012.</td>\n    </tr>\n    <tr>\n      <th>9954</th>\n      <td>1</td>\n      <td>2012.</td>\n    </tr>\n  </tbody>\n</table>\n<p>164 rows × 2 columns</p>\n</div>"
     },
     "metadata": {},
     "execution_count": 169
    }
   ],
   "source": [
    "checkouts_year_df[checkouts_year_df[\"publicationyear\"] == \"2012.\"] # Test so oben - nee, klappt so nicht"
   ]
  },
  {
   "cell_type": "code",
   "execution_count": 174,
   "metadata": {},
   "outputs": [],
   "source": [
    "year_checkouts_df = checkouts_year_df[\"publicationyear\"] #mal die Jahre isolieren"
   ]
  },
  {
   "cell_type": "code",
   "execution_count": 175,
   "metadata": {},
   "outputs": [
    {
     "output_type": "execute_result",
     "data": {
      "text/plain": [
       "0       [2010]\n",
       "1       [1991]\n",
       "2       [2010]\n",
       "3        2008.\n",
       "4       [2009]\n",
       "         ...  \n",
       "9995     2009.\n",
       "9996      2009\n",
       "9997      2013\n",
       "9998    [2013]\n",
       "9999    [2009]\n",
       "Name: publicationyear, Length: 10000, dtype: object"
      ]
     },
     "metadata": {},
     "execution_count": 175
    }
   ],
   "source": [
    "year_checkouts_df"
   ]
  },
  {
   "cell_type": "code",
   "execution_count": 178,
   "metadata": {},
   "outputs": [
    {
     "output_type": "stream",
     "name": "stdout",
     "text": [
      "103\n"
     ]
    }
   ],
   "source": [
    "punkt = str(year_checkouts_df).rfind(\".\")  #okay, jetzt weiß ich wie viele Punkte\n",
    "print(punkt)"
   ]
  },
  {
   "cell_type": "code",
   "execution_count": 179,
   "metadata": {},
   "outputs": [
    {
     "output_type": "stream",
     "name": "stdout",
     "text": [
      "158\n"
     ]
    }
   ],
   "source": [
    "klammer = str(year_checkouts_df).rfind(\"[\") #hat scheint's geklappt, obwohl die Klammer auch im Code vorkommt, cool\n",
    "print(klammer)"
   ]
  },
  {
   "cell_type": "code",
   "execution_count": 180,
   "metadata": {},
   "outputs": [
    {
     "output_type": "stream",
     "name": "stdout",
     "text": [
      "163\n"
     ]
    }
   ],
   "source": [
    "endklammer = str(year_checkouts_df).rfind(\"]\") #interessant, das sind mehr\n",
    "print(endklammer)"
   ]
  },
  {
   "cell_type": "code",
   "execution_count": 183,
   "metadata": {},
   "outputs": [
    {
     "output_type": "stream",
     "name": "stdout",
     "text": [
      "-1\n"
     ]
    }
   ],
   "source": [
    "cangabe = str(year_checkouts_df).rfind(\"©\") #sonderzeichen sind knifflig, vielleicht brauche ich etwas, was mir alles identifziert, was keine Zahl ist und rauslöscht. Das wäre perfekt\n",
    "print(cangabe) #komisches Ergebnis"
   ]
  },
  {
   "cell_type": "code",
   "execution_count": 185,
   "metadata": {},
   "outputs": [
    {
     "output_type": "execute_result",
     "data": {
      "text/plain": [
       "'1999888.77'"
      ]
     },
     "metadata": {},
     "execution_count": 185
    }
   ],
   "source": [
    "import re\n",
    "re.sub(\"[^\\d\\.]\",\"\", \"$1,999,888.77\") #Hinweis auf Stackoverflow, wie man (,) entfernt"
   ]
  },
  {
   "cell_type": "code",
   "execution_count": 192,
   "metadata": {},
   "outputs": [
    {
     "output_type": "execute_result",
     "data": {
      "text/plain": [
       "2012.0"
      ]
     },
     "metadata": {},
     "execution_count": 192
    }
   ],
   "source": [
    "x= '[2012]'\n",
    "float(''.join(c for c in x if (c.isdigit() or c =='.'))) #Vorschlag aus Stackoverflow"
   ]
  },
  {
   "cell_type": "code",
   "execution_count": 193,
   "metadata": {},
   "outputs": [
    {
     "output_type": "execute_result",
     "data": {
      "text/plain": [
       "2012"
      ]
     },
     "metadata": {},
     "execution_count": 193
    }
   ],
   "source": [
    "x='[2012]'    \n",
    "int(''.join(c for c in x if c.isdigit())) # Vorschlag aus Stackoverflow, der mir schon ganz gut gefällt"
   ]
  },
  {
   "cell_type": "code",
   "execution_count": 194,
   "metadata": {},
   "outputs": [
    {
     "output_type": "execute_result",
     "data": {
      "text/plain": [
       "2015"
      ]
     },
     "metadata": {},
     "execution_count": 194
    }
   ],
   "source": [
    "y= '©2015'\n",
    "int(''.join(c for c in y if c.isdigit())) #sieht gut aus"
   ]
  },
  {
   "cell_type": "code",
   "execution_count": 195,
   "metadata": {},
   "outputs": [
    {
     "output_type": "execute_result",
     "data": {
      "text/plain": [
       "20152014"
      ]
     },
     "metadata": {},
     "execution_count": 195
    }
   ],
   "source": [
    "z = '[2015]'\n",
    "int(''.join(c for c in z if c.isdigit())) # seufz"
   ]
  },
  {
   "cell_type": "code",
   "execution_count": 211,
   "metadata": {},
   "outputs": [
    {
     "output_type": "execute_result",
     "data": {
      "text/plain": [
       "0       [2010]\n",
       "1       [1991]\n",
       "2       [2010]\n",
       "3        2008.\n",
       "4       [2009]\n",
       "         ...  \n",
       "9995     2009.\n",
       "9996      2009\n",
       "9997      2013\n",
       "9998    [2013]\n",
       "9999    [2009]\n",
       "Name: publicationyear, Length: 10000, dtype: object"
      ]
     },
     "metadata": {},
     "execution_count": 211
    }
   ],
   "source": [
    "year_checkouts_df # dat Ding ist eine Serie mit \"Objects\""
   ]
  },
  {
   "cell_type": "code",
   "execution_count": 215,
   "metadata": {},
   "outputs": [],
   "source": [
    "year_checkouts_s = year_checkouts_df"
   ]
  },
  {
   "cell_type": "code",
   "execution_count": 230,
   "metadata": {},
   "outputs": [
    {
     "output_type": "execute_result",
     "data": {
      "text/plain": [
       "'2012'"
      ]
     },
     "metadata": {},
     "execution_count": 230
    }
   ],
   "source": [
    "year_checkouts_s.iloc[10]  #iloc wählt Eintrag nach Spalte und Position"
   ]
  },
  {
   "cell_type": "code",
   "execution_count": 241,
   "metadata": {},
   "outputs": [
    {
     "output_type": "execute_result",
     "data": {
      "text/plain": [
       "1       [1991]\n",
       "2       [2010]\n",
       "3        2008.\n",
       "4       [2009]\n",
       "5       [2015]\n",
       "         ...  \n",
       "9995     2009.\n",
       "9996      2009\n",
       "9997      2013\n",
       "9998    [2013]\n",
       "9999    [2009]\n",
       "Name: publicationyear, Length: 9999, dtype: object"
      ]
     },
     "metadata": {},
     "execution_count": 241
    }
   ],
   "source": [
    "year_checkouts_df.filter(regex= '[1-9]') # sucht nach bestimmtem Begriff"
   ]
  },
  {
   "cell_type": "code",
   "execution_count": 248,
   "metadata": {},
   "outputs": [
    {
     "output_type": "execute_result",
     "data": {
      "text/plain": [
       "2018"
      ]
     },
     "metadata": {},
     "execution_count": 248
    }
   ],
   "source": [
    "year = year_checkouts_s.iloc[0-1000]   \n",
    "int(''.join(c for c in year if c.isdigit()))"
   ]
  },
  {
   "cell_type": "code",
   "execution_count": 252,
   "metadata": {},
   "outputs": [
    {
     "output_type": "execute_result",
     "data": {
      "text/plain": [
       "<PandasArray>\n",
       "['[2010]', '[1991]', '[2010]',  '2008.', '[2009]', '[2015]',   '2012',\n",
       " '[2018]', '[2014]',   '2013',\n",
       " ...\n",
       "   '2014',   '2012', '[2005]',  '2016.', '[2014]',  '2009.',   '2009',\n",
       "   '2013', '[2013]', '[2009]']\n",
       "Length: 10000, dtype: object"
      ]
     },
     "metadata": {},
     "execution_count": 252
    }
   ],
   "source": [
    "year_checkouts_s.array"
   ]
  },
  {
   "cell_type": "code",
   "execution_count": 258,
   "metadata": {},
   "outputs": [
    {
     "output_type": "error",
     "ename": "AttributeError",
     "evalue": "'float' object has no attribute 'isdigit'",
     "traceback": [
      "\u001b[1;31m---------------------------------------------------------------------------\u001b[0m",
      "\u001b[1;31mAttributeError\u001b[0m                            Traceback (most recent call last)",
      "\u001b[1;32m<ipython-input-258-a2eeb515ad2d>\u001b[0m in \u001b[0;36m<module>\u001b[1;34m\u001b[0m\n\u001b[0;32m      1\u001b[0m \u001b[0mx\u001b[0m \u001b[1;33m=\u001b[0m \u001b[0myear_checkouts_s\u001b[0m\u001b[1;33m.\u001b[0m\u001b[0marray\u001b[0m\u001b[1;33m\u001b[0m\u001b[1;33m\u001b[0m\u001b[0m\n\u001b[0;32m      2\u001b[0m \u001b[1;32mfor\u001b[0m \u001b[0meach\u001b[0m \u001b[1;32min\u001b[0m \u001b[0myear_checkouts_s\u001b[0m\u001b[1;33m:\u001b[0m\u001b[1;33m\u001b[0m\u001b[1;33m\u001b[0m\u001b[0m\n\u001b[1;32m----> 3\u001b[1;33m     \u001b[0mint\u001b[0m\u001b[1;33m(\u001b[0m\u001b[1;34m''\u001b[0m\u001b[1;33m.\u001b[0m\u001b[0mjoin\u001b[0m\u001b[1;33m(\u001b[0m\u001b[0mc\u001b[0m \u001b[1;32mfor\u001b[0m \u001b[0mc\u001b[0m \u001b[1;32min\u001b[0m \u001b[0mx\u001b[0m \u001b[1;32mif\u001b[0m \u001b[0mc\u001b[0m\u001b[1;33m.\u001b[0m\u001b[0misdigit\u001b[0m\u001b[1;33m(\u001b[0m\u001b[1;33m)\u001b[0m\u001b[1;33m)\u001b[0m\u001b[1;33m)\u001b[0m\u001b[1;33m\u001b[0m\u001b[1;33m\u001b[0m\u001b[0m\n\u001b[0m",
      "\u001b[1;32m<ipython-input-258-a2eeb515ad2d>\u001b[0m in \u001b[0;36m<genexpr>\u001b[1;34m(.0)\u001b[0m\n\u001b[0;32m      1\u001b[0m \u001b[0mx\u001b[0m \u001b[1;33m=\u001b[0m \u001b[0myear_checkouts_s\u001b[0m\u001b[1;33m.\u001b[0m\u001b[0marray\u001b[0m\u001b[1;33m\u001b[0m\u001b[1;33m\u001b[0m\u001b[0m\n\u001b[0;32m      2\u001b[0m \u001b[1;32mfor\u001b[0m \u001b[0meach\u001b[0m \u001b[1;32min\u001b[0m \u001b[0myear_checkouts_s\u001b[0m\u001b[1;33m:\u001b[0m\u001b[1;33m\u001b[0m\u001b[1;33m\u001b[0m\u001b[0m\n\u001b[1;32m----> 3\u001b[1;33m     \u001b[0mint\u001b[0m\u001b[1;33m(\u001b[0m\u001b[1;34m''\u001b[0m\u001b[1;33m.\u001b[0m\u001b[0mjoin\u001b[0m\u001b[1;33m(\u001b[0m\u001b[0mc\u001b[0m \u001b[1;32mfor\u001b[0m \u001b[0mc\u001b[0m \u001b[1;32min\u001b[0m \u001b[0mx\u001b[0m \u001b[1;32mif\u001b[0m \u001b[0mc\u001b[0m\u001b[1;33m.\u001b[0m\u001b[0misdigit\u001b[0m\u001b[1;33m(\u001b[0m\u001b[1;33m)\u001b[0m\u001b[1;33m)\u001b[0m\u001b[1;33m)\u001b[0m\u001b[1;33m\u001b[0m\u001b[1;33m\u001b[0m\u001b[0m\n\u001b[0m",
      "\u001b[1;31mAttributeError\u001b[0m: 'float' object has no attribute 'isdigit'"
     ]
    }
   ],
   "source": [
    "x = year_checkouts_s.array\n",
    "for each in year_checkouts_s:\n",
    "    int(''.join(c for c in x if c.isdigit()))\n"
   ]
  }
 ]
}